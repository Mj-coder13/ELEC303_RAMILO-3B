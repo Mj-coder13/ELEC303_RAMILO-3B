{
 "cells": [
  {
   "cell_type": "markdown",
   "id": "ab4af909-1d05-44f2-b566-e22c2560d3a8",
   "metadata": {},
   "source": [
    "<h2>ACTIVITY 2 - UK ROAD ACCIDENT</h2>"
   ]
  },
  {
   "cell_type": "markdown",
   "id": "04aea639-57ea-4ee3-9328-7e94e94b9cb0",
   "metadata": {},
   "source": [
    "<h4>Analyst : Mark Jayson D. Ramilo</h4>"
   ]
  },
  {
   "cell_type": "markdown",
   "id": "ce99f911-e511-4b14-881e-702b7394478c",
   "metadata": {},
   "source": [
    "<h2>1.) IMPORT NECESSARY LIBRARIES</h2>"
   ]
  },
  {
   "cell_type": "code",
   "execution_count": 1,
   "id": "c83fc4bf-7876-43de-a969-e09df9049172",
   "metadata": {},
   "outputs": [],
   "source": [
    "#import libraries\n",
    "import numpy as np\n",
    "import pandas as pd\n",
    "import warnings\n",
    "warnings.filterwarnings('ignore')"
   ]
  },
  {
   "cell_type": "code",
   "execution_count": null,
   "id": "38daa251-edae-4d8a-b042-55d9b015995b",
   "metadata": {},
   "outputs": [],
   "source": []
  },
  {
   "cell_type": "markdown",
   "id": "cf14cb27-4b10-4393-8af6-49d23329273d",
   "metadata": {},
   "source": [
    "<h2>2.) CONVERT DATASET TO DATAFRAME</h2>"
   ]
  },
  {
   "cell_type": "code",
   "execution_count": 2,
   "id": "0f201e76-f409-45fc-90c3-a018e7b5bcce",
   "metadata": {},
   "outputs": [
    {
     "data": {
      "text/html": [
       "<div>\n",
       "<style scoped>\n",
       "    .dataframe tbody tr th:only-of-type {\n",
       "        vertical-align: middle;\n",
       "    }\n",
       "\n",
       "    .dataframe tbody tr th {\n",
       "        vertical-align: top;\n",
       "    }\n",
       "\n",
       "    .dataframe thead th {\n",
       "        text-align: right;\n",
       "    }\n",
       "</style>\n",
       "<table border=\"1\" class=\"dataframe\">\n",
       "  <thead>\n",
       "    <tr style=\"text-align: right;\">\n",
       "      <th></th>\n",
       "      <th>Index</th>\n",
       "      <th>Accident_Severity</th>\n",
       "      <th>Accident Date</th>\n",
       "      <th>Latitude</th>\n",
       "      <th>Light_Conditions</th>\n",
       "      <th>District Area</th>\n",
       "      <th>Longitude</th>\n",
       "      <th>Number_of_Casualties</th>\n",
       "      <th>Number_of_Vehicles</th>\n",
       "      <th>Road_Surface_Conditions</th>\n",
       "      <th>Road_Type</th>\n",
       "      <th>Urban_or_Rural_Area</th>\n",
       "      <th>Weather_Conditions</th>\n",
       "      <th>Vehicle_Type</th>\n",
       "    </tr>\n",
       "  </thead>\n",
       "  <tbody>\n",
       "    <tr>\n",
       "      <th>0</th>\n",
       "      <td>200701BS64157</td>\n",
       "      <td>Serious</td>\n",
       "      <td>5/6/2019</td>\n",
       "      <td>51.506187</td>\n",
       "      <td>Darkness - lights lit</td>\n",
       "      <td>Kensington and Chelsea</td>\n",
       "      <td>-0.209082</td>\n",
       "      <td>1</td>\n",
       "      <td>2</td>\n",
       "      <td>Dry</td>\n",
       "      <td>Single carriageway</td>\n",
       "      <td>Urban</td>\n",
       "      <td>Fine no high winds</td>\n",
       "      <td>Car</td>\n",
       "    </tr>\n",
       "    <tr>\n",
       "      <th>1</th>\n",
       "      <td>200701BS65737</td>\n",
       "      <td>Serious</td>\n",
       "      <td>2/7/2019</td>\n",
       "      <td>51.495029</td>\n",
       "      <td>Daylight</td>\n",
       "      <td>Kensington and Chelsea</td>\n",
       "      <td>-0.173647</td>\n",
       "      <td>1</td>\n",
       "      <td>2</td>\n",
       "      <td>Wet or damp</td>\n",
       "      <td>Single carriageway</td>\n",
       "      <td>Urban</td>\n",
       "      <td>Raining no high winds</td>\n",
       "      <td>Car</td>\n",
       "    </tr>\n",
       "    <tr>\n",
       "      <th>2</th>\n",
       "      <td>200701BS66127</td>\n",
       "      <td>Serious</td>\n",
       "      <td>26-08-2019</td>\n",
       "      <td>51.517715</td>\n",
       "      <td>Darkness - lighting unknown</td>\n",
       "      <td>Kensington and Chelsea</td>\n",
       "      <td>-0.210215</td>\n",
       "      <td>1</td>\n",
       "      <td>3</td>\n",
       "      <td>Dry</td>\n",
       "      <td>NaN</td>\n",
       "      <td>Urban</td>\n",
       "      <td>NaN</td>\n",
       "      <td>Taxi/Private hire car</td>\n",
       "    </tr>\n",
       "    <tr>\n",
       "      <th>3</th>\n",
       "      <td>200701BS66128</td>\n",
       "      <td>Serious</td>\n",
       "      <td>16-08-2019</td>\n",
       "      <td>51.495478</td>\n",
       "      <td>Daylight</td>\n",
       "      <td>Kensington and Chelsea</td>\n",
       "      <td>-0.202731</td>\n",
       "      <td>1</td>\n",
       "      <td>4</td>\n",
       "      <td>Dry</td>\n",
       "      <td>Single carriageway</td>\n",
       "      <td>Urban</td>\n",
       "      <td>Fine no high winds</td>\n",
       "      <td>Bus or coach (17 or more pass seats)</td>\n",
       "    </tr>\n",
       "    <tr>\n",
       "      <th>4</th>\n",
       "      <td>200701BS66837</td>\n",
       "      <td>Slight</td>\n",
       "      <td>3/9/2019</td>\n",
       "      <td>51.488576</td>\n",
       "      <td>Darkness - lights lit</td>\n",
       "      <td>Kensington and Chelsea</td>\n",
       "      <td>-0.192487</td>\n",
       "      <td>1</td>\n",
       "      <td>2</td>\n",
       "      <td>Dry</td>\n",
       "      <td>NaN</td>\n",
       "      <td>Urban</td>\n",
       "      <td>NaN</td>\n",
       "      <td>Other vehicle</td>\n",
       "    </tr>\n",
       "    <tr>\n",
       "      <th>...</th>\n",
       "      <td>...</td>\n",
       "      <td>...</td>\n",
       "      <td>...</td>\n",
       "      <td>...</td>\n",
       "      <td>...</td>\n",
       "      <td>...</td>\n",
       "      <td>...</td>\n",
       "      <td>...</td>\n",
       "      <td>...</td>\n",
       "      <td>...</td>\n",
       "      <td>...</td>\n",
       "      <td>...</td>\n",
       "      <td>...</td>\n",
       "      <td>...</td>\n",
       "    </tr>\n",
       "    <tr>\n",
       "      <th>660674</th>\n",
       "      <td>201091NM01760</td>\n",
       "      <td>Slight</td>\n",
       "      <td>18-02-2022</td>\n",
       "      <td>57.374005</td>\n",
       "      <td>Daylight</td>\n",
       "      <td>Highland</td>\n",
       "      <td>-3.467828</td>\n",
       "      <td>2</td>\n",
       "      <td>1</td>\n",
       "      <td>Dry</td>\n",
       "      <td>Single carriageway</td>\n",
       "      <td>Rural</td>\n",
       "      <td>Fine no high winds</td>\n",
       "      <td>Car</td>\n",
       "    </tr>\n",
       "    <tr>\n",
       "      <th>660675</th>\n",
       "      <td>201091NM01881</td>\n",
       "      <td>Slight</td>\n",
       "      <td>21-02-2022</td>\n",
       "      <td>57.232273</td>\n",
       "      <td>Darkness - no lighting</td>\n",
       "      <td>Highland</td>\n",
       "      <td>-3.809281</td>\n",
       "      <td>1</td>\n",
       "      <td>1</td>\n",
       "      <td>Frost or ice</td>\n",
       "      <td>Single carriageway</td>\n",
       "      <td>Rural</td>\n",
       "      <td>Fine no high winds</td>\n",
       "      <td>Car</td>\n",
       "    </tr>\n",
       "    <tr>\n",
       "      <th>660676</th>\n",
       "      <td>201091NM01935</td>\n",
       "      <td>Slight</td>\n",
       "      <td>23-02-2022</td>\n",
       "      <td>57.585044</td>\n",
       "      <td>Daylight</td>\n",
       "      <td>Highland</td>\n",
       "      <td>-3.862727</td>\n",
       "      <td>1</td>\n",
       "      <td>3</td>\n",
       "      <td>Frost or ice</td>\n",
       "      <td>Single carriageway</td>\n",
       "      <td>Rural</td>\n",
       "      <td>Fine no high winds</td>\n",
       "      <td>Car</td>\n",
       "    </tr>\n",
       "    <tr>\n",
       "      <th>660677</th>\n",
       "      <td>201091NM01964</td>\n",
       "      <td>Serious</td>\n",
       "      <td>23-02-2022</td>\n",
       "      <td>57.214898</td>\n",
       "      <td>Darkness - no lighting</td>\n",
       "      <td>Highland</td>\n",
       "      <td>-3.823997</td>\n",
       "      <td>1</td>\n",
       "      <td>2</td>\n",
       "      <td>Wet or damp</td>\n",
       "      <td>Single carriageway</td>\n",
       "      <td>Rural</td>\n",
       "      <td>Fine no high winds</td>\n",
       "      <td>Motorcycle over 500cc</td>\n",
       "    </tr>\n",
       "    <tr>\n",
       "      <th>660678</th>\n",
       "      <td>201091NM02142</td>\n",
       "      <td>Serious</td>\n",
       "      <td>28-02-2022</td>\n",
       "      <td>57.575210</td>\n",
       "      <td>Daylight</td>\n",
       "      <td>Highland</td>\n",
       "      <td>-3.895673</td>\n",
       "      <td>1</td>\n",
       "      <td>1</td>\n",
       "      <td>Wet or damp</td>\n",
       "      <td>Dual carriageway</td>\n",
       "      <td>Rural</td>\n",
       "      <td>Snowing no high winds</td>\n",
       "      <td>Car</td>\n",
       "    </tr>\n",
       "  </tbody>\n",
       "</table>\n",
       "<p>660679 rows × 14 columns</p>\n",
       "</div>"
      ],
      "text/plain": [
       "                Index Accident_Severity Accident Date   Latitude  \\\n",
       "0       200701BS64157           Serious      5/6/2019  51.506187   \n",
       "1       200701BS65737           Serious      2/7/2019  51.495029   \n",
       "2       200701BS66127           Serious    26-08-2019  51.517715   \n",
       "3       200701BS66128           Serious    16-08-2019  51.495478   \n",
       "4       200701BS66837            Slight      3/9/2019  51.488576   \n",
       "...               ...               ...           ...        ...   \n",
       "660674  201091NM01760            Slight    18-02-2022  57.374005   \n",
       "660675  201091NM01881            Slight    21-02-2022  57.232273   \n",
       "660676  201091NM01935            Slight    23-02-2022  57.585044   \n",
       "660677  201091NM01964           Serious    23-02-2022  57.214898   \n",
       "660678  201091NM02142           Serious    28-02-2022  57.575210   \n",
       "\n",
       "                   Light_Conditions           District Area  Longitude  \\\n",
       "0             Darkness - lights lit  Kensington and Chelsea  -0.209082   \n",
       "1                          Daylight  Kensington and Chelsea  -0.173647   \n",
       "2       Darkness - lighting unknown  Kensington and Chelsea  -0.210215   \n",
       "3                          Daylight  Kensington and Chelsea  -0.202731   \n",
       "4             Darkness - lights lit  Kensington and Chelsea  -0.192487   \n",
       "...                             ...                     ...        ...   \n",
       "660674                     Daylight                Highland  -3.467828   \n",
       "660675       Darkness - no lighting                Highland  -3.809281   \n",
       "660676                     Daylight                Highland  -3.862727   \n",
       "660677       Darkness - no lighting                Highland  -3.823997   \n",
       "660678                     Daylight                Highland  -3.895673   \n",
       "\n",
       "        Number_of_Casualties  Number_of_Vehicles Road_Surface_Conditions  \\\n",
       "0                          1                   2                     Dry   \n",
       "1                          1                   2             Wet or damp   \n",
       "2                          1                   3                     Dry   \n",
       "3                          1                   4                     Dry   \n",
       "4                          1                   2                     Dry   \n",
       "...                      ...                 ...                     ...   \n",
       "660674                     2                   1                     Dry   \n",
       "660675                     1                   1            Frost or ice   \n",
       "660676                     1                   3            Frost or ice   \n",
       "660677                     1                   2             Wet or damp   \n",
       "660678                     1                   1             Wet or damp   \n",
       "\n",
       "                 Road_Type Urban_or_Rural_Area     Weather_Conditions  \\\n",
       "0       Single carriageway               Urban     Fine no high winds   \n",
       "1       Single carriageway               Urban  Raining no high winds   \n",
       "2                      NaN               Urban                    NaN   \n",
       "3       Single carriageway               Urban     Fine no high winds   \n",
       "4                      NaN               Urban                    NaN   \n",
       "...                    ...                 ...                    ...   \n",
       "660674  Single carriageway               Rural     Fine no high winds   \n",
       "660675  Single carriageway               Rural     Fine no high winds   \n",
       "660676  Single carriageway               Rural     Fine no high winds   \n",
       "660677  Single carriageway               Rural     Fine no high winds   \n",
       "660678    Dual carriageway               Rural  Snowing no high winds   \n",
       "\n",
       "                                Vehicle_Type  \n",
       "0                                        Car  \n",
       "1                                        Car  \n",
       "2                      Taxi/Private hire car  \n",
       "3       Bus or coach (17 or more pass seats)  \n",
       "4                              Other vehicle  \n",
       "...                                      ...  \n",
       "660674                                   Car  \n",
       "660675                                   Car  \n",
       "660676                                   Car  \n",
       "660677                 Motorcycle over 500cc  \n",
       "660678                                   Car  \n",
       "\n",
       "[660679 rows x 14 columns]"
      ]
     },
     "execution_count": 2,
     "metadata": {},
     "output_type": "execute_result"
    }
   ],
   "source": [
    "accident = pd.read_csv(\"C:\\\\Users\\\\DESIREE\\\\Downloads\\\\uk_road_accident (1).csv\")\n",
    "accident"
   ]
  },
  {
   "cell_type": "code",
   "execution_count": null,
   "id": "c0ffff6f-d768-4ee1-8b3c-30ff670ece7a",
   "metadata": {},
   "outputs": [],
   "source": []
  },
  {
   "cell_type": "markdown",
   "id": "42589cc1-352d-4f6d-a1a3-271251a5813a",
   "metadata": {},
   "source": [
    "<H3>3.) CHECK DATAFRAME AND INFORMATION</H3>"
   ]
  },
  {
   "cell_type": "code",
   "execution_count": 3,
   "id": "7696bbfb-1dba-489f-b8e8-420b434a1712",
   "metadata": {},
   "outputs": [
    {
     "name": "stdout",
     "output_type": "stream",
     "text": [
      "<class 'pandas.core.frame.DataFrame'>\n",
      "RangeIndex: 660679 entries, 0 to 660678\n",
      "Data columns (total 14 columns):\n",
      " #   Column                   Non-Null Count   Dtype  \n",
      "---  ------                   --------------   -----  \n",
      " 0   Index                    660679 non-null  object \n",
      " 1   Accident_Severity        660679 non-null  object \n",
      " 2   Accident Date            660679 non-null  object \n",
      " 3   Latitude                 660654 non-null  float64\n",
      " 4   Light_Conditions         660679 non-null  object \n",
      " 5   District Area            660679 non-null  object \n",
      " 6   Longitude                660653 non-null  float64\n",
      " 7   Number_of_Casualties     660679 non-null  int64  \n",
      " 8   Number_of_Vehicles       660679 non-null  int64  \n",
      " 9   Road_Surface_Conditions  659953 non-null  object \n",
      " 10  Road_Type                656159 non-null  object \n",
      " 11  Urban_or_Rural_Area      660664 non-null  object \n",
      " 12  Weather_Conditions       646551 non-null  object \n",
      " 13  Vehicle_Type             660679 non-null  object \n",
      "dtypes: float64(2), int64(2), object(10)\n",
      "memory usage: 70.6+ MB\n"
     ]
    }
   ],
   "source": [
    "accident.info()"
   ]
  },
  {
   "cell_type": "code",
   "execution_count": null,
   "id": "3a855487-216b-4548-8f62-43378ac4c0ea",
   "metadata": {},
   "outputs": [],
   "source": []
  },
  {
   "cell_type": "markdown",
   "id": "65e75717-300b-4bb1-8a56-f95becbd2bd4",
   "metadata": {},
   "source": [
    "<H2>4.) CHECK BASIC DESCRIPTIVE STATISTICS</H2>"
   ]
  },
  {
   "cell_type": "code",
   "execution_count": 4,
   "id": "b7ee24c7-5ae8-426f-ab45-046b67e59932",
   "metadata": {},
   "outputs": [
    {
     "data": {
      "text/html": [
       "<div>\n",
       "<style scoped>\n",
       "    .dataframe tbody tr th:only-of-type {\n",
       "        vertical-align: middle;\n",
       "    }\n",
       "\n",
       "    .dataframe tbody tr th {\n",
       "        vertical-align: top;\n",
       "    }\n",
       "\n",
       "    .dataframe thead th {\n",
       "        text-align: right;\n",
       "    }\n",
       "</style>\n",
       "<table border=\"1\" class=\"dataframe\">\n",
       "  <thead>\n",
       "    <tr style=\"text-align: right;\">\n",
       "      <th></th>\n",
       "      <th>Latitude</th>\n",
       "      <th>Longitude</th>\n",
       "      <th>Number_of_Casualties</th>\n",
       "      <th>Number_of_Vehicles</th>\n",
       "    </tr>\n",
       "  </thead>\n",
       "  <tbody>\n",
       "    <tr>\n",
       "      <th>count</th>\n",
       "      <td>660654.000000</td>\n",
       "      <td>660653.000000</td>\n",
       "      <td>660679.000000</td>\n",
       "      <td>660679.000000</td>\n",
       "    </tr>\n",
       "    <tr>\n",
       "      <th>mean</th>\n",
       "      <td>52.553866</td>\n",
       "      <td>-1.431210</td>\n",
       "      <td>1.357040</td>\n",
       "      <td>1.831255</td>\n",
       "    </tr>\n",
       "    <tr>\n",
       "      <th>std</th>\n",
       "      <td>1.406922</td>\n",
       "      <td>1.383330</td>\n",
       "      <td>0.824847</td>\n",
       "      <td>0.715269</td>\n",
       "    </tr>\n",
       "    <tr>\n",
       "      <th>min</th>\n",
       "      <td>49.914430</td>\n",
       "      <td>-7.516225</td>\n",
       "      <td>1.000000</td>\n",
       "      <td>1.000000</td>\n",
       "    </tr>\n",
       "    <tr>\n",
       "      <th>25%</th>\n",
       "      <td>51.490690</td>\n",
       "      <td>-2.332291</td>\n",
       "      <td>1.000000</td>\n",
       "      <td>1.000000</td>\n",
       "    </tr>\n",
       "    <tr>\n",
       "      <th>50%</th>\n",
       "      <td>52.315641</td>\n",
       "      <td>-1.411667</td>\n",
       "      <td>1.000000</td>\n",
       "      <td>2.000000</td>\n",
       "    </tr>\n",
       "    <tr>\n",
       "      <th>75%</th>\n",
       "      <td>53.453452</td>\n",
       "      <td>-0.232869</td>\n",
       "      <td>1.000000</td>\n",
       "      <td>2.000000</td>\n",
       "    </tr>\n",
       "    <tr>\n",
       "      <th>max</th>\n",
       "      <td>60.757544</td>\n",
       "      <td>1.762010</td>\n",
       "      <td>68.000000</td>\n",
       "      <td>32.000000</td>\n",
       "    </tr>\n",
       "  </tbody>\n",
       "</table>\n",
       "</div>"
      ],
      "text/plain": [
       "            Latitude      Longitude  Number_of_Casualties  Number_of_Vehicles\n",
       "count  660654.000000  660653.000000         660679.000000       660679.000000\n",
       "mean       52.553866      -1.431210              1.357040            1.831255\n",
       "std         1.406922       1.383330              0.824847            0.715269\n",
       "min        49.914430      -7.516225              1.000000            1.000000\n",
       "25%        51.490690      -2.332291              1.000000            1.000000\n",
       "50%        52.315641      -1.411667              1.000000            2.000000\n",
       "75%        53.453452      -0.232869              1.000000            2.000000\n",
       "max        60.757544       1.762010             68.000000           32.000000"
      ]
     },
     "execution_count": 4,
     "metadata": {},
     "output_type": "execute_result"
    }
   ],
   "source": [
    "accident.describe()"
   ]
  },
  {
   "cell_type": "code",
   "execution_count": null,
   "id": "4cc10d70-eb22-4995-abba-d4373331f869",
   "metadata": {},
   "outputs": [],
   "source": []
  },
  {
   "cell_type": "markdown",
   "id": "873002fb-7120-4574-a15a-5c8da6b01d4e",
   "metadata": {},
   "source": [
    "<h2>5.) CALL EACH COLUMN INDIVIDUALLY</h2>"
   ]
  },
  {
   "cell_type": "code",
   "execution_count": 5,
   "id": "3d9c61ce-43a0-42bf-9127-6457259d9f16",
   "metadata": {},
   "outputs": [
    {
     "data": {
      "text/plain": [
       "0         200701BS64157\n",
       "1         200701BS65737\n",
       "2         200701BS66127\n",
       "3         200701BS66128\n",
       "4         200701BS66837\n",
       "              ...      \n",
       "660674    201091NM01760\n",
       "660675    201091NM01881\n",
       "660676    201091NM01935\n",
       "660677    201091NM01964\n",
       "660678    201091NM02142\n",
       "Name: Index, Length: 660679, dtype: object"
      ]
     },
     "execution_count": 5,
     "metadata": {},
     "output_type": "execute_result"
    }
   ],
   "source": [
    "accident['Index']"
   ]
  },
  {
   "cell_type": "code",
   "execution_count": 6,
   "id": "6112ff61-fdb3-43e4-8cbb-b3e5cc073cfe",
   "metadata": {},
   "outputs": [
    {
     "data": {
      "text/plain": [
       "0         Serious\n",
       "1         Serious\n",
       "2         Serious\n",
       "3         Serious\n",
       "4          Slight\n",
       "           ...   \n",
       "660674     Slight\n",
       "660675     Slight\n",
       "660676     Slight\n",
       "660677    Serious\n",
       "660678    Serious\n",
       "Name: Accident_Severity, Length: 660679, dtype: object"
      ]
     },
     "execution_count": 6,
     "metadata": {},
     "output_type": "execute_result"
    }
   ],
   "source": [
    "accident['Accident_Severity']"
   ]
  },
  {
   "cell_type": "code",
   "execution_count": 7,
   "id": "8182fb32-1b58-4f13-941f-0772f5d38440",
   "metadata": {},
   "outputs": [
    {
     "data": {
      "text/plain": [
       "0           5/6/2019\n",
       "1           2/7/2019\n",
       "2         26-08-2019\n",
       "3         16-08-2019\n",
       "4           3/9/2019\n",
       "             ...    \n",
       "660674    18-02-2022\n",
       "660675    21-02-2022\n",
       "660676    23-02-2022\n",
       "660677    23-02-2022\n",
       "660678    28-02-2022\n",
       "Name: Accident Date, Length: 660679, dtype: object"
      ]
     },
     "execution_count": 7,
     "metadata": {},
     "output_type": "execute_result"
    }
   ],
   "source": [
    "accident['Accident Date']"
   ]
  },
  {
   "cell_type": "code",
   "execution_count": 8,
   "id": "7bd51987-0ff4-4e5e-98e7-322b5efdfd25",
   "metadata": {},
   "outputs": [
    {
     "data": {
      "text/plain": [
       "0         51.506187\n",
       "1         51.495029\n",
       "2         51.517715\n",
       "3         51.495478\n",
       "4         51.488576\n",
       "            ...    \n",
       "660674    57.374005\n",
       "660675    57.232273\n",
       "660676    57.585044\n",
       "660677    57.214898\n",
       "660678    57.575210\n",
       "Name: Latitude, Length: 660679, dtype: float64"
      ]
     },
     "execution_count": 8,
     "metadata": {},
     "output_type": "execute_result"
    }
   ],
   "source": [
    "accident['Latitude']"
   ]
  },
  {
   "cell_type": "code",
   "execution_count": 9,
   "id": "4f0c6224-973d-4db0-a885-7d824999f005",
   "metadata": {},
   "outputs": [
    {
     "data": {
      "text/plain": [
       "0               Darkness - lights lit\n",
       "1                            Daylight\n",
       "2         Darkness - lighting unknown\n",
       "3                            Daylight\n",
       "4               Darkness - lights lit\n",
       "                     ...             \n",
       "660674                       Daylight\n",
       "660675         Darkness - no lighting\n",
       "660676                       Daylight\n",
       "660677         Darkness - no lighting\n",
       "660678                       Daylight\n",
       "Name: Light_Conditions, Length: 660679, dtype: object"
      ]
     },
     "execution_count": 9,
     "metadata": {},
     "output_type": "execute_result"
    }
   ],
   "source": [
    "accident['Light_Conditions']"
   ]
  },
  {
   "cell_type": "code",
   "execution_count": 10,
   "id": "2adeabbd-5417-43de-a921-a14680678d8f",
   "metadata": {},
   "outputs": [
    {
     "data": {
      "text/plain": [
       "0         Kensington and Chelsea\n",
       "1         Kensington and Chelsea\n",
       "2         Kensington and Chelsea\n",
       "3         Kensington and Chelsea\n",
       "4         Kensington and Chelsea\n",
       "                   ...          \n",
       "660674                  Highland\n",
       "660675                  Highland\n",
       "660676                  Highland\n",
       "660677                  Highland\n",
       "660678                  Highland\n",
       "Name: District Area, Length: 660679, dtype: object"
      ]
     },
     "execution_count": 10,
     "metadata": {},
     "output_type": "execute_result"
    }
   ],
   "source": [
    "accident['District Area']"
   ]
  },
  {
   "cell_type": "code",
   "execution_count": 11,
   "id": "f88240be-f032-4662-a156-7bb94f8ff0af",
   "metadata": {},
   "outputs": [
    {
     "data": {
      "text/plain": [
       "0        -0.209082\n",
       "1        -0.173647\n",
       "2        -0.210215\n",
       "3        -0.202731\n",
       "4        -0.192487\n",
       "            ...   \n",
       "660674   -3.467828\n",
       "660675   -3.809281\n",
       "660676   -3.862727\n",
       "660677   -3.823997\n",
       "660678   -3.895673\n",
       "Name: Longitude, Length: 660679, dtype: float64"
      ]
     },
     "execution_count": 11,
     "metadata": {},
     "output_type": "execute_result"
    }
   ],
   "source": [
    "accident['Longitude']"
   ]
  },
  {
   "cell_type": "code",
   "execution_count": 12,
   "id": "00be282d-c5d7-4ba8-b5e6-b82c27723d38",
   "metadata": {},
   "outputs": [
    {
     "data": {
      "text/plain": [
       "0         1\n",
       "1         1\n",
       "2         1\n",
       "3         1\n",
       "4         1\n",
       "         ..\n",
       "660674    2\n",
       "660675    1\n",
       "660676    1\n",
       "660677    1\n",
       "660678    1\n",
       "Name: Number_of_Casualties, Length: 660679, dtype: int64"
      ]
     },
     "execution_count": 12,
     "metadata": {},
     "output_type": "execute_result"
    }
   ],
   "source": [
    "accident['Number_of_Casualties']"
   ]
  },
  {
   "cell_type": "code",
   "execution_count": 13,
   "id": "44d6359c-dd0d-49a2-943c-116bf3fe4d20",
   "metadata": {},
   "outputs": [
    {
     "data": {
      "text/plain": [
       "0         2\n",
       "1         2\n",
       "2         3\n",
       "3         4\n",
       "4         2\n",
       "         ..\n",
       "660674    1\n",
       "660675    1\n",
       "660676    3\n",
       "660677    2\n",
       "660678    1\n",
       "Name: Number_of_Vehicles, Length: 660679, dtype: int64"
      ]
     },
     "execution_count": 13,
     "metadata": {},
     "output_type": "execute_result"
    }
   ],
   "source": [
    "accident['Number_of_Vehicles']"
   ]
  },
  {
   "cell_type": "code",
   "execution_count": 14,
   "id": "f7c92a8f-05e6-43fc-b767-e1af4ea3e3da",
   "metadata": {},
   "outputs": [
    {
     "data": {
      "text/plain": [
       "0                  Dry\n",
       "1          Wet or damp\n",
       "2                  Dry\n",
       "3                  Dry\n",
       "4                  Dry\n",
       "              ...     \n",
       "660674             Dry\n",
       "660675    Frost or ice\n",
       "660676    Frost or ice\n",
       "660677     Wet or damp\n",
       "660678     Wet or damp\n",
       "Name: Road_Surface_Conditions, Length: 660679, dtype: object"
      ]
     },
     "execution_count": 14,
     "metadata": {},
     "output_type": "execute_result"
    }
   ],
   "source": [
    "accident['Road_Surface_Conditions']"
   ]
  },
  {
   "cell_type": "code",
   "execution_count": 15,
   "id": "780d5e1e-595f-4468-9920-f543241a24c4",
   "metadata": {},
   "outputs": [
    {
     "data": {
      "text/plain": [
       "0         Single carriageway\n",
       "1         Single carriageway\n",
       "2                        NaN\n",
       "3         Single carriageway\n",
       "4                        NaN\n",
       "                 ...        \n",
       "660674    Single carriageway\n",
       "660675    Single carriageway\n",
       "660676    Single carriageway\n",
       "660677    Single carriageway\n",
       "660678      Dual carriageway\n",
       "Name: Road_Type, Length: 660679, dtype: object"
      ]
     },
     "execution_count": 15,
     "metadata": {},
     "output_type": "execute_result"
    }
   ],
   "source": [
    "accident['Road_Type']"
   ]
  },
  {
   "cell_type": "code",
   "execution_count": 16,
   "id": "03bfafb8-31dc-4828-9d6a-47a448586636",
   "metadata": {},
   "outputs": [
    {
     "data": {
      "text/plain": [
       "0         Urban\n",
       "1         Urban\n",
       "2         Urban\n",
       "3         Urban\n",
       "4         Urban\n",
       "          ...  \n",
       "660674    Rural\n",
       "660675    Rural\n",
       "660676    Rural\n",
       "660677    Rural\n",
       "660678    Rural\n",
       "Name: Urban_or_Rural_Area, Length: 660679, dtype: object"
      ]
     },
     "execution_count": 16,
     "metadata": {},
     "output_type": "execute_result"
    }
   ],
   "source": [
    "accident['Urban_or_Rural_Area']"
   ]
  },
  {
   "cell_type": "code",
   "execution_count": 17,
   "id": "19ca89da-c0b4-4720-b060-38927e82a38c",
   "metadata": {},
   "outputs": [
    {
     "data": {
      "text/plain": [
       "0            Fine no high winds\n",
       "1         Raining no high winds\n",
       "2                           NaN\n",
       "3            Fine no high winds\n",
       "4                           NaN\n",
       "                  ...          \n",
       "660674       Fine no high winds\n",
       "660675       Fine no high winds\n",
       "660676       Fine no high winds\n",
       "660677       Fine no high winds\n",
       "660678    Snowing no high winds\n",
       "Name: Weather_Conditions, Length: 660679, dtype: object"
      ]
     },
     "execution_count": 17,
     "metadata": {},
     "output_type": "execute_result"
    }
   ],
   "source": [
    "accident['Weather_Conditions']"
   ]
  },
  {
   "cell_type": "code",
   "execution_count": 18,
   "id": "7dea8c1f-858d-4e06-83b9-d97086bfd3a6",
   "metadata": {},
   "outputs": [
    {
     "data": {
      "text/plain": [
       "0                                          Car\n",
       "1                                          Car\n",
       "2                        Taxi/Private hire car\n",
       "3         Bus or coach (17 or more pass seats)\n",
       "4                                Other vehicle\n",
       "                          ...                 \n",
       "660674                                     Car\n",
       "660675                                     Car\n",
       "660676                                     Car\n",
       "660677                   Motorcycle over 500cc\n",
       "660678                                     Car\n",
       "Name: Vehicle_Type, Length: 660679, dtype: object"
      ]
     },
     "execution_count": 18,
     "metadata": {},
     "output_type": "execute_result"
    }
   ],
   "source": [
    "accident['Vehicle_Type']"
   ]
  },
  {
   "cell_type": "code",
   "execution_count": null,
   "id": "71e4d6d2-0aa7-45df-a356-85d61eab8d02",
   "metadata": {},
   "outputs": [],
   "source": []
  },
  {
   "cell_type": "markdown",
   "id": "39cf5fca-dddc-443e-a030-55d791162023",
   "metadata": {},
   "source": [
    "<h2>6.) CHECK FOR NULL VALUES</h2>"
   ]
  },
  {
   "cell_type": "code",
   "execution_count": 19,
   "id": "7bba2959-94c3-4fc3-a308-ab12378c52ac",
   "metadata": {},
   "outputs": [
    {
     "data": {
      "text/plain": [
       "Index                          0\n",
       "Accident_Severity              0\n",
       "Accident Date                  0\n",
       "Latitude                      25\n",
       "Light_Conditions               0\n",
       "District Area                  0\n",
       "Longitude                     26\n",
       "Number_of_Casualties           0\n",
       "Number_of_Vehicles             0\n",
       "Road_Surface_Conditions      726\n",
       "Road_Type                   4520\n",
       "Urban_or_Rural_Area           15\n",
       "Weather_Conditions         14128\n",
       "Vehicle_Type                   0\n",
       "dtype: int64"
      ]
     },
     "execution_count": 19,
     "metadata": {},
     "output_type": "execute_result"
    }
   ],
   "source": [
    "accident.isnull().sum()"
   ]
  },
  {
   "cell_type": "code",
   "execution_count": null,
   "id": "df1174e3-0912-4730-b93b-9f90db5990e0",
   "metadata": {},
   "outputs": [],
   "source": []
  },
  {
   "cell_type": "markdown",
   "id": "f28e23e2-3e4f-447f-9594-83fa5e8867f8",
   "metadata": {},
   "source": [
    "<h2>7.) FILL NULL VALUES WITH STATISTCAL VALUES</h2>"
   ]
  },
  {
   "cell_type": "code",
   "execution_count": 20,
   "id": "f2c16b23-567c-423e-9e2a-3f697f4d0cfa",
   "metadata": {},
   "outputs": [],
   "source": [
    "accident['Latitude'] = accident['Latitude'] .fillna(accident['Latitude'].mean())\n",
    "accident['Longitude'] = accident['Longitude'] .fillna(accident['Longitude'].mean())\n",
    "accident['Road_Surface_Conditions'] = accident['Road_Surface_Conditions'] .fillna(accident['Road_Surface_Conditions'].mode()[0])\n",
    "accident['Road_Type'] = accident['Road_Type'] .fillna(accident['Road_Type'].mode()[0])\n",
    "accident['Urban_or_Rural_Area'] = accident['Urban_or_Rural_Area'] .fillna(accident['Urban_or_Rural_Area'].mode()[0])\n",
    "accident['Weather_Conditions'] = accident['Weather_Conditions'] .fillna(accident['Weather_Conditions'].mode()[0])"
   ]
  },
  {
   "cell_type": "code",
   "execution_count": 21,
   "id": "8ed51086-f3c3-48c5-926a-1b8bd9ed48b6",
   "metadata": {},
   "outputs": [
    {
     "data": {
      "text/plain": [
       "Index                      0\n",
       "Accident_Severity          0\n",
       "Accident Date              0\n",
       "Latitude                   0\n",
       "Light_Conditions           0\n",
       "District Area              0\n",
       "Longitude                  0\n",
       "Number_of_Casualties       0\n",
       "Number_of_Vehicles         0\n",
       "Road_Surface_Conditions    0\n",
       "Road_Type                  0\n",
       "Urban_or_Rural_Area        0\n",
       "Weather_Conditions         0\n",
       "Vehicle_Type               0\n",
       "dtype: int64"
      ]
     },
     "execution_count": 21,
     "metadata": {},
     "output_type": "execute_result"
    }
   ],
   "source": [
    "accident.isnull().sum()"
   ]
  },
  {
   "cell_type": "code",
   "execution_count": null,
   "id": "b3adb3b5-c012-45de-9a2d-fa2ccf5b00ec",
   "metadata": {},
   "outputs": [],
   "source": []
  },
  {
   "cell_type": "markdown",
   "id": "ac9bbc3f-57db-4c1f-822a-622e49798ad6",
   "metadata": {},
   "source": [
    "<h2>8.) CHECK COLUMN DATA TYPES</h2>"
   ]
  },
  {
   "cell_type": "code",
   "execution_count": 22,
   "id": "6c0c481c-cbd0-4d28-8fae-3eefd0dcdb7f",
   "metadata": {},
   "outputs": [
    {
     "name": "stdout",
     "output_type": "stream",
     "text": [
      "<class 'pandas.core.frame.DataFrame'>\n",
      "RangeIndex: 660679 entries, 0 to 660678\n",
      "Data columns (total 14 columns):\n",
      " #   Column                   Non-Null Count   Dtype  \n",
      "---  ------                   --------------   -----  \n",
      " 0   Index                    660679 non-null  object \n",
      " 1   Accident_Severity        660679 non-null  object \n",
      " 2   Accident Date            660679 non-null  object \n",
      " 3   Latitude                 660679 non-null  float64\n",
      " 4   Light_Conditions         660679 non-null  object \n",
      " 5   District Area            660679 non-null  object \n",
      " 6   Longitude                660679 non-null  float64\n",
      " 7   Number_of_Casualties     660679 non-null  int64  \n",
      " 8   Number_of_Vehicles       660679 non-null  int64  \n",
      " 9   Road_Surface_Conditions  660679 non-null  object \n",
      " 10  Road_Type                660679 non-null  object \n",
      " 11  Urban_or_Rural_Area      660679 non-null  object \n",
      " 12  Weather_Conditions       660679 non-null  object \n",
      " 13  Vehicle_Type             660679 non-null  object \n",
      "dtypes: float64(2), int64(2), object(10)\n",
      "memory usage: 70.6+ MB\n"
     ]
    }
   ],
   "source": [
    "accident.info()"
   ]
  },
  {
   "cell_type": "code",
   "execution_count": 23,
   "id": "48bd924c-fd93-4ba3-9b46-49454693d264",
   "metadata": {},
   "outputs": [],
   "source": [
    "accident['Index'] = accident ['Index'].astype('category')"
   ]
  },
  {
   "cell_type": "code",
   "execution_count": 24,
   "id": "8dbfeb82-d527-4b08-98b2-957a4da99f86",
   "metadata": {},
   "outputs": [],
   "source": [
    "accident['Accident_Severity'] = accident ['Accident_Severity'].astype('category')"
   ]
  },
  {
   "cell_type": "code",
   "execution_count": 25,
   "id": "78224fb6-74b5-423a-bad1-97fb43040ac8",
   "metadata": {},
   "outputs": [],
   "source": [
    "accident['Accident Date'] = accident ['Accident Date'].astype('category')"
   ]
  },
  {
   "cell_type": "code",
   "execution_count": 26,
   "id": "20bcd79f-f422-456d-99f4-c8af6e865144",
   "metadata": {},
   "outputs": [],
   "source": [
    "accident['Light_Conditions'] = accident ['Light_Conditions'].astype('category')"
   ]
  },
  {
   "cell_type": "code",
   "execution_count": 27,
   "id": "42db2bb1-c3b9-4da9-98c4-e433d1cdb9ae",
   "metadata": {},
   "outputs": [],
   "source": [
    "accident['District Area'] = accident ['District Area'].astype('category')"
   ]
  },
  {
   "cell_type": "code",
   "execution_count": 28,
   "id": "b1b37c39-c709-4634-9f10-98fafc0da7d7",
   "metadata": {},
   "outputs": [],
   "source": [
    "accident['Road_Surface_Conditions'] = accident ['Road_Surface_Conditions'].astype('category')"
   ]
  },
  {
   "cell_type": "code",
   "execution_count": 29,
   "id": "66b8702d-974b-4297-9d15-b4fefd88489f",
   "metadata": {},
   "outputs": [],
   "source": [
    "accident['Road_Type'] = accident ['Road_Type'].astype('category')"
   ]
  },
  {
   "cell_type": "code",
   "execution_count": 30,
   "id": "5472ad8b-97d9-4455-a2a4-48547b661641",
   "metadata": {},
   "outputs": [],
   "source": [
    "accident['Urban_or_Rural_Area'] = accident ['Urban_or_Rural_Area'].astype('category')"
   ]
  },
  {
   "cell_type": "code",
   "execution_count": 31,
   "id": "7f20b8b2-905b-461e-8542-c076d5dcb998",
   "metadata": {},
   "outputs": [],
   "source": [
    "accident['Weather_Conditions'] = accident ['Weather_Conditions'].astype('category')"
   ]
  },
  {
   "cell_type": "code",
   "execution_count": 32,
   "id": "cde41585-bce8-4f42-81df-e732edd1871e",
   "metadata": {},
   "outputs": [],
   "source": [
    "accident['Vehicle_Type'] = accident ['Vehicle_Type'].astype('category')"
   ]
  },
  {
   "cell_type": "code",
   "execution_count": 34,
   "id": "fd198c2d-ddc4-4de6-83d4-f81454685709",
   "metadata": {},
   "outputs": [
    {
     "name": "stdout",
     "output_type": "stream",
     "text": [
      "<class 'pandas.core.frame.DataFrame'>\n",
      "RangeIndex: 660679 entries, 0 to 660678\n",
      "Data columns (total 14 columns):\n",
      " #   Column                   Non-Null Count   Dtype   \n",
      "---  ------                   --------------   -----   \n",
      " 0   Index                    660679 non-null  category\n",
      " 1   Accident_Severity        660679 non-null  category\n",
      " 2   Accident Date            660679 non-null  category\n",
      " 3   Latitude                 660679 non-null  float64 \n",
      " 4   Light_Conditions         660679 non-null  category\n",
      " 5   District Area            660679 non-null  category\n",
      " 6   Longitude                660679 non-null  float64 \n",
      " 7   Number_of_Casualties     660679 non-null  int64   \n",
      " 8   Number_of_Vehicles       660679 non-null  int64   \n",
      " 9   Road_Surface_Conditions  660679 non-null  category\n",
      " 10  Road_Type                660679 non-null  category\n",
      " 11  Urban_or_Rural_Area      660679 non-null  category\n",
      " 12  Weather_Conditions       660679 non-null  category\n",
      " 13  Vehicle_Type             660679 non-null  category\n",
      "dtypes: category(10), float64(2), int64(2)\n",
      "memory usage: 49.0 MB\n"
     ]
    }
   ],
   "source": [
    "accident.info()"
   ]
  },
  {
   "cell_type": "code",
   "execution_count": null,
   "id": "1d5fad11-75ba-4f58-b621-5316cf75bbee",
   "metadata": {},
   "outputs": [],
   "source": []
  },
  {
   "cell_type": "markdown",
   "id": "5ba5f97c-53e3-4b48-bc5c-b816f2d04c77",
   "metadata": {},
   "source": [
    "<h1>20 QUESTIONS WITH CODE, ANSWER, AND INSIGHTS...</h1>\n",
    "<HR>"
   ]
  },
  {
   "cell_type": "code",
   "execution_count": null,
   "id": "221563f5-9ce3-4e48-9c7a-49f97439b865",
   "metadata": {},
   "outputs": [],
   "source": []
  },
  {
   "cell_type": "markdown",
   "id": "54d28f63-3a75-41ca-bb0b-13781f6c9e0d",
   "metadata": {},
   "source": [
    "<h2>QUESTION 1</h2>\n",
    "<hr>\n",
    "<h2>How many total accidents are in the dataset?</h2>"
   ]
  },
  {
   "cell_type": "code",
   "execution_count": null,
   "id": "93f6c0ef-8f60-471f-99d9-4a583eaeec42",
   "metadata": {},
   "outputs": [],
   "source": []
  },
  {
   "cell_type": "code",
   "execution_count": 37,
   "id": "bcfb45e9-32d8-41e0-8934-1c5895e26d09",
   "metadata": {},
   "outputs": [
    {
     "data": {
      "text/plain": [
       "660679"
      ]
     },
     "execution_count": 37,
     "metadata": {},
     "output_type": "execute_result"
    }
   ],
   "source": [
    "total_accidents = len(accident)\n",
    "total_accidents"
   ]
  },
  {
   "cell_type": "markdown",
   "id": "99e3afc7-906a-4f18-adac-be7eecd88e60",
   "metadata": {},
   "source": [
    "<h2>INSIGHT:</h2>\n",
    "<hr>\n",
    "<H2>Based on the dataset, the total of the accident that occured were 660,679.</H2>"
   ]
  },
  {
   "cell_type": "code",
   "execution_count": null,
   "id": "fd8d1e3b-f328-415b-a893-c43f2478839a",
   "metadata": {},
   "outputs": [],
   "source": []
  },
  {
   "cell_type": "markdown",
   "id": "9a0f52ec-e2dc-471e-9e7e-6f3dc87f2f55",
   "metadata": {},
   "source": [
    "<h2>QUESTION 2</h2>\n",
    "<hr>\n",
    "<H2>Were there fatal accidents in rural areas?</H2>"
   ]
  },
  {
   "cell_type": "code",
   "execution_count": 54,
   "id": "d3c78c6f-e522-46e8-92b5-ea27384f55a9",
   "metadata": {},
   "outputs": [
    {
     "data": {
      "text/plain": [
       "5601"
      ]
     },
     "execution_count": 54,
     "metadata": {},
     "output_type": "execute_result"
    }
   ],
   "source": [
    "fatal_rural = accident[(accident[\"Accident_Severity\"] == \"Fatal\") & (accident[\"Urban_or_Rural_Area\"] == \"Rural\")]\n",
    "fatal_rural.shape[0]"
   ]
  },
  {
   "cell_type": "markdown",
   "id": "c771ec68-58ed-4fb2-90b0-7b3450286a87",
   "metadata": {},
   "source": [
    "<h2>INSIGHT:</h2>\n",
    "<hr>\n",
    "<H2>There were 5,601 fatal accidents in rural areas, which shows that rural crashes tend to be more severe. This could be due to higher speed limits and the longer response time for emergency services.</H2>"
   ]
  },
  {
   "cell_type": "code",
   "execution_count": null,
   "id": "15050258-bedd-4326-a8b1-1008997a24f1",
   "metadata": {},
   "outputs": [],
   "source": []
  },
  {
   "cell_type": "markdown",
   "id": "732081f6-ddb9-42d3-b1f1-12a795d9afd0",
   "metadata": {},
   "source": [
    "<H2>QUESTION 3</H2>\n",
    "<hr>\n",
    "<H2>Do accidents in rural areas usually involve more than one vehicle?</H2>"
   ]
  },
  {
   "cell_type": "code",
   "execution_count": 72,
   "id": "8e337e56-a404-4077-bff6-f8bd872f4d45",
   "metadata": {},
   "outputs": [
    {
     "data": {
      "text/plain": [
       "163235"
      ]
     },
     "execution_count": 72,
     "metadata": {},
     "output_type": "execute_result"
    }
   ],
   "source": [
    "rural_multi = accident[(accident[\"Urban_or_Rural_Area\"] == \"Rural\") & (accident[\"Number_of_Vehicles\"] > 1)]\n",
    "rural_multi.shape[0]"
   ]
  },
  {
   "cell_type": "markdown",
   "id": "52f9ddc2-8621-4ad7-89d7-76706ba0eba6",
   "metadata": {},
   "source": [
    "<H2>INSIGHT:</H2>\n",
    "<hr>\n",
    "<H2>Yes, there were 163,235 rural accidents in daylight, showing that good visibility does not prevent crashes. Many rural accidents are linked to speed and long travel distances.</H2>"
   ]
  },
  {
   "cell_type": "code",
   "execution_count": null,
   "id": "b140308a-dc3c-47af-80b8-a41cd6e595b9",
   "metadata": {},
   "outputs": [],
   "source": []
  },
  {
   "cell_type": "markdown",
   "id": "aad0a5aa-173d-4e95-8c67-04824717ee03",
   "metadata": {},
   "source": [
    "<h2>QUESTION 4</h2>\n",
    "<hr>\n",
    "<H2>Is it common for accidents with more than 2 casualties to occur at night?</H2>"
   ]
  },
  {
   "cell_type": "code",
   "execution_count": 73,
   "id": "be072798-6914-4843-9dba-2286e88500d1",
   "metadata": {},
   "outputs": [
    {
     "data": {
      "text/plain": [
       "15431"
      ]
     },
     "execution_count": 73,
     "metadata": {},
     "output_type": "execute_result"
    }
   ],
   "source": [
    "night_cas2 = accident[(accident[\"Light_Conditions\"] != \"Daylight\") & (accident[\"Number_of_Casualties\"] > 2)]\n",
    "night_cas2.shape[0]\n"
   ]
  },
  {
   "cell_type": "markdown",
   "id": "1e0d3802-d9c5-4829-a43d-2c45e8831602",
   "metadata": {},
   "source": [
    "<H2>INSIGHT:</H2>\n",
    "<hr>\n",
    "<H2>We can observe 15,431 nighttime accidents with more than 2 casualties, highlighting how darkness raises risks for groups of people. Poor visibility and fatigue may worsen the effects of accidents.</H2>"
   ]
  },
  {
   "cell_type": "code",
   "execution_count": null,
   "id": "74410339-1fbd-44db-99a4-9beedf94dc7c",
   "metadata": {},
   "outputs": [],
   "source": []
  },
  {
   "cell_type": "markdown",
   "id": "be25ba59-12ee-46a2-9dd6-27578b328758",
   "metadata": {},
   "source": [
    "<H2>QUESTION 5</H2>\n",
    "<hr>\n",
    "<H2>Does rain affect the likelihood of accidents with more than 1 vehicle?</H2>"
   ]
  },
  {
   "cell_type": "code",
   "execution_count": 113,
   "id": "ae76369e-4f9a-4597-86a4-8d13f536d994",
   "metadata": {},
   "outputs": [
    {
     "data": {
      "text/plain": [
       "'Yes'"
      ]
     },
     "execution_count": 113,
     "metadata": {},
     "output_type": "execute_result"
    }
   ],
   "source": [
    "rain_conditions = [\"Raining no high winds\", \"Raining + high winds\"]\n",
    "rain_multi = \"Yes\" if not accident[\n",
    "    (accident[\"Weather_Conditions\"].isin(rain_conditions)) & \n",
    "    (accident[\"Number_of_Vehicles\"] > 1)\n",
    "].empty else \"No\"\n",
    "rain_multi\n"
   ]
  },
  {
   "cell_type": "markdown",
   "id": "594b7752-efa5-409e-974b-bc1605cd692a",
   "metadata": {},
   "source": [
    "<H2>INSIGHT:</H2>\n",
    "<hr>\n",
    "<H2>Yes, the dataset shows that multi-vehicle accidents do occur under rainy conditions, indicating that wet roads contribute to a higher likelihood of collisions involving more than one vehicle. This emphasizes the importance of cautious driving and maintaining safe distances during rain.</H2>"
   ]
  },
  {
   "cell_type": "code",
   "execution_count": null,
   "id": "78c4bf53-3882-4d09-8482-d6fd983b60f5",
   "metadata": {},
   "outputs": [],
   "source": []
  },
  {
   "cell_type": "markdown",
   "id": "2e33d240-5e22-4e35-b6a8-1b43f83e9944",
   "metadata": {},
   "source": [
    "<H2>QUESTION 6</H2>\n",
    "<hr>\n",
    "<H2>Are fatal accidents more often reported in rural areas than in urban ones?</H2>"
   ]
  },
  {
   "cell_type": "code",
   "execution_count": 75,
   "id": "6796f167-279a-44c9-9d76-9d847251a8d6",
   "metadata": {},
   "outputs": [
    {
     "data": {
      "text/plain": [
       "5601"
      ]
     },
     "execution_count": 75,
     "metadata": {},
     "output_type": "execute_result"
    }
   ],
   "source": [
    "fatal_rural = accident[(accident[\"Accident_Severity\"] == \"Fatal\") & (accident[\"Urban_or_Rural_Area\"] == \"Rural\")]\n",
    "fatal_rural.shape[0]\n"
   ]
  },
  {
   "cell_type": "markdown",
   "id": "aee2aad6-2dff-4e91-8178-8e138f50f7b4",
   "metadata": {},
   "source": [
    "<H2>INSIGHT:</H2>\n",
    "<hr>\n",
    "<H2>The dataset shows also that 5,601 fatal accidents were reported in rural areas, highlighting that severe crashes are more common outside urban centers. This pattern may be linked to faster driving speeds and longer emergency response times in rural environments.</H2>"
   ]
  },
  {
   "cell_type": "code",
   "execution_count": null,
   "id": "48acea9f-4056-40f9-9928-c15c609fd788",
   "metadata": {},
   "outputs": [],
   "source": []
  },
  {
   "cell_type": "markdown",
   "id": "7aa838f6-4831-4db2-a17e-1aacd54569ad",
   "metadata": {},
   "source": [
    "<H2>QUESTION 8</H2>\n",
    "<hr>\n",
    "<H2>Do icy roads contribute to single-vehicle crashes?</H2>"
   ]
  },
  {
   "cell_type": "code",
   "execution_count": 110,
   "id": "5d469b3e-6595-430f-ac03-b5a3ee4bfcd7",
   "metadata": {},
   "outputs": [
    {
     "data": {
      "text/plain": [
       "'No'"
      ]
     },
     "execution_count": 110,
     "metadata": {},
     "output_type": "execute_result"
    }
   ],
   "source": [
    "ice_single = accident[(accident[\"Road_Surface_Conditions\"] == \"Ice\") & (accident[\"Number_of_Vehicles\"] == 1)]\n",
    "\"Yes\" if ice_single.shape[0] > 0 else \"No\"\n",
    "\n"
   ]
  },
  {
   "cell_type": "markdown",
   "id": "a29b2381-ef74-4f1a-8de8-e929b92fb2c5",
   "metadata": {},
   "source": [
    "<H2>INSIGHT:</H2>\n",
    "<hr>\n",
    "<H2>The icy road conditions did not contribute to single-vehicle crashes in this dataset, which may suggest that such events are either extremely rare or unrecorded. This absence could reflect limitations in reporting or the relative infrequency of icy conditions in the observed regions.</H2>"
   ]
  },
  {
   "cell_type": "code",
   "execution_count": null,
   "id": "c783ea76-9519-4ded-a4a0-8147265b560f",
   "metadata": {},
   "outputs": [],
   "source": []
  },
  {
   "cell_type": "markdown",
   "id": "480f3632-6025-42f2-a50b-f61ed47d70e1",
   "metadata": {},
   "source": [
    "<H2>QUESTION 9</H2>\n",
    "<hr>\n",
    "<H2>Is it frequent that daylight accidents involve more than 3 casualties?</H2>"
   ]
  },
  {
   "cell_type": "code",
   "execution_count": 77,
   "id": "a9669004-c048-45be-96b0-34b9706ea24a",
   "metadata": {},
   "outputs": [
    {
     "data": {
      "text/plain": [
       "11822"
      ]
     },
     "execution_count": 77,
     "metadata": {},
     "output_type": "execute_result"
    }
   ],
   "source": [
    "day_cas3 = accident[(accident[\"Light_Conditions\"] == \"Daylight\") & (accident[\"Number_of_Casualties\"] > 3)]\n",
    "day_cas3.shape[0]\n"
   ]
  },
  {
   "cell_type": "markdown",
   "id": "6626486f-e73f-4be2-986a-12a6cd0b0c07",
   "metadata": {},
   "source": [
    "<H2>INSIGHT:</H2>\n",
    "<hr>\n",
    "<H2>Yes, there are 11,822 accidents that occurred in daylight with more than three casualties, indicating that even under well-lit conditions, severe accidents are still relatively common. This suggests that factors other than lighting, such as traffic density or driver behavior, likely play a significant role in multi-casualty incident.</H2>"
   ]
  },
  {
   "cell_type": "code",
   "execution_count": null,
   "id": "629b5226-6f15-4a50-b164-7c7158a3ade7",
   "metadata": {},
   "outputs": [],
   "source": []
  },
  {
   "cell_type": "markdown",
   "id": "34af45da-db16-409c-bf2c-1801cebd722a",
   "metadata": {},
   "source": [
    "<H2>QUESTION 10</H2>\n",
    "<hr>\n",
    "<H2>Do motorways show accidents with more than 4 vehicles involved?</H2>"
   ]
  },
  {
   "cell_type": "code",
   "execution_count": 82,
   "id": "ed3fead9-a6b6-4bb6-9503-b54e6ff8592b",
   "metadata": {},
   "outputs": [
    {
     "data": {
      "text/plain": [
       "0"
      ]
     },
     "execution_count": 82,
     "metadata": {},
     "output_type": "execute_result"
    }
   ],
   "source": [
    "motorway_multi4 = accident[(accident[\"Road_Type\"] == \"Motorway\") & (accident[\"Number_of_Vehicles\"] > 4)]\n",
    "motorway_multi4.shape[0]\n",
    "\n"
   ]
  },
  {
   "cell_type": "markdown",
   "id": "0c038d29-3057-4343-a3bd-5bc33c9d13c6",
   "metadata": {},
   "source": [
    "<H2>INSIGHT:</H2>\n",
    "<hr>\n",
    "<H2>No accidents on motorways involved more than four vehicles, indicating that large multi-vehicle collisions are extremely rare on these roads. This could be due to effective traffic management, wider lanes, or stricter regulations that help prevent major pile-ups.</H2>"
   ]
  },
  {
   "cell_type": "code",
   "execution_count": null,
   "id": "dd656de4-fc39-493a-9462-a727e9274962",
   "metadata": {},
   "outputs": [],
   "source": []
  },
  {
   "cell_type": "markdown",
   "id": "4bf1198f-1253-4fc2-bbb0-34b5ca1e4412",
   "metadata": {},
   "source": [
    "<h2>QUESTION 11</h2>\n",
    "<hr>\n",
    "<H2>Are motorcycles often involved in urban accidents at night?</H2>"
   ]
  },
  {
   "cell_type": "code",
   "execution_count": 85,
   "id": "45da4d26-1647-4a61-b783-d660c5dd7060",
   "metadata": {},
   "outputs": [
    {
     "data": {
      "text/plain": [
       "'No'"
      ]
     },
     "execution_count": 85,
     "metadata": {},
     "output_type": "execute_result"
    }
   ],
   "source": [
    "any_urban_motor_night = \"Yes\" if not accident[\n",
    "    (accident[\"Urban_or_Rural_Area\"] == \"Urban\") &\n",
    "    (accident[\"Vehicle_Type\"] == \"Motorcycle\") &\n",
    "    (accident[\"Light_Conditions\"] != \"Daylight\")\n",
    "].empty else \"No\"\n",
    "\n",
    "any_urban_motor_night"
   ]
  },
  {
   "cell_type": "code",
   "execution_count": null,
   "id": "de3cb288-2e6f-4ee4-aa8d-44134678ba3f",
   "metadata": {},
   "outputs": [],
   "source": []
  },
  {
   "cell_type": "markdown",
   "id": "b0352420-55e6-422e-9131-ccc1b17bc928",
   "metadata": {},
   "source": [
    "<h2>INSIGHT:</h2>\n",
    "<hr>\n",
    "<h2>Motorcycles are not frequently involved in urban accidents at night, suggesting that either motorcycle use decreases after dark in cities or that riders take extra precautions. It may also indicate that nighttime urban traffic patterns are less conducive to motorcycle incidents compared to daylight hours.</h2>"
   ]
  },
  {
   "cell_type": "code",
   "execution_count": null,
   "id": "37be45a1-35b1-4a4a-8bc7-f4be2b37ab51",
   "metadata": {},
   "outputs": [],
   "source": []
  },
  {
   "cell_type": "markdown",
   "id": "342eb59a-4fd6-4380-a67d-1a097fd0822a",
   "metadata": {},
   "source": [
    "<H2>QUESTION 12</H2>\n",
    "<hr>\n",
    "<H2>How many accidents occurred during daylight versus night?</H2>"
   ]
  },
  {
   "cell_type": "code",
   "execution_count": 91,
   "id": "f8bd217b-3119-40b2-afcf-930c89dd901f",
   "metadata": {},
   "outputs": [
    {
     "data": {
      "text/plain": [
       "Light_Conditions\n",
       "Darkness - lighting unknown      6484\n",
       "Darkness - lights lit          129335\n",
       "Darkness - lights unlit          2543\n",
       "Darkness - no lighting          37437\n",
       "Daylight                       484880\n",
       "dtype: int64"
      ]
     },
     "execution_count": 91,
     "metadata": {},
     "output_type": "execute_result"
    }
   ],
   "source": [
    "light_counts = accident.groupby(\"Light_Conditions\").size()\n",
    "light_counts"
   ]
  },
  {
   "cell_type": "markdown",
   "id": "6faee8ba-b84c-410a-9c72-1e498ba6cf3d",
   "metadata": {},
   "source": [
    "<h2>INSIGHT:</h2>\n",
    "<hr>\n",
    "<H2>It shows that the majority of accidents occur during daylight (484,880), reflecting higher traffic volumes during the day. However, a significant number of accidents also happen in darkness, especially when lights are lit (129,335), highlighting that nighttime driving still carries substantial risk and that proper lighting alone does not eliminate accidents.</H2>"
   ]
  },
  {
   "cell_type": "code",
   "execution_count": null,
   "id": "5dfe8f65-24de-4961-97c7-5d49ac350afa",
   "metadata": {},
   "outputs": [],
   "source": []
  },
  {
   "cell_type": "markdown",
   "id": "b5f5dc23-1ca6-4fad-82e3-9c4f7d67d7d7",
   "metadata": {},
   "source": [
    "<H2>QUESTION 13</H2>\n",
    "<H2>HANGGANG DITO MUNA:<</H2>"
   ]
  },
  {
   "cell_type": "code",
   "execution_count": 109,
   "id": "34f54e1d-1a93-4197-88fd-160dff21d0eb",
   "metadata": {},
   "outputs": [
    {
     "data": {
      "text/plain": [
       "0"
      ]
     },
     "execution_count": 109,
     "metadata": {},
     "output_type": "execute_result"
    }
   ],
   "source": [
    "\n"
   ]
  },
  {
   "cell_type": "code",
   "execution_count": null,
   "id": "332f6027-e63a-413b-b18a-ed22d4544d65",
   "metadata": {},
   "outputs": [],
   "source": []
  }
 ],
 "metadata": {
  "kernelspec": {
   "display_name": "Python 3 (ipykernel)",
   "language": "python",
   "name": "python3"
  },
  "language_info": {
   "codemirror_mode": {
    "name": "ipython",
    "version": 3
   },
   "file_extension": ".py",
   "mimetype": "text/x-python",
   "name": "python",
   "nbconvert_exporter": "python",
   "pygments_lexer": "ipython3",
   "version": "3.13.1"
  }
 },
 "nbformat": 4,
 "nbformat_minor": 5
}
