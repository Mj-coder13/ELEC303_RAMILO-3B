{
 "cells": [
  {
   "cell_type": "markdown",
   "id": "ab4af909-1d05-44f2-b566-e22c2560d3a8",
   "metadata": {},
   "source": [
    "<h2>ACTIVITY 2 - UK ROAD ACCIDENT</h2>\n",
    "<hr>"
   ]
  },
  {
   "cell_type": "markdown",
   "id": "04aea639-57ea-4ee3-9328-7e94e94b9cb0",
   "metadata": {},
   "source": [
    "<h4>Analyst : Mark Jayson D. Ramilo</h4>\n",
    "<hr>"
   ]
  },
  {
   "cell_type": "markdown",
   "id": "ce99f911-e511-4b14-881e-702b7394478c",
   "metadata": {},
   "source": [
    "<h2>1.) IMPORT NECESSARY LIBRARIES</h2>\n",
    "<hr>"
   ]
  },
  {
   "cell_type": "code",
   "execution_count": 1,
   "id": "c83fc4bf-7876-43de-a969-e09df9049172",
   "metadata": {},
   "outputs": [],
   "source": [
    "#import libraries\n",
    "import numpy as np\n",
    "import pandas as pd\n",
    "import warnings\n",
    "import matplotlib.pyplot as plt\n",
    "warnings.filterwarnings('ignore')"
   ]
  },
  {
   "cell_type": "code",
   "execution_count": null,
   "id": "38daa251-edae-4d8a-b042-55d9b015995b",
   "metadata": {},
   "outputs": [],
   "source": []
  },
  {
   "cell_type": "markdown",
   "id": "cf14cb27-4b10-4393-8af6-49d23329273d",
   "metadata": {},
   "source": [
    "<h2>2.) CONVERT DATASET TO DATAFRAME</h2>\n",
    "<hr>"
   ]
  },
  {
   "cell_type": "code",
   "execution_count": 73,
   "id": "0f201e76-f409-45fc-90c3-a018e7b5bcce",
   "metadata": {},
   "outputs": [
    {
     "data": {
      "text/html": [
       "<div>\n",
       "<style scoped>\n",
       "    .dataframe tbody tr th:only-of-type {\n",
       "        vertical-align: middle;\n",
       "    }\n",
       "\n",
       "    .dataframe tbody tr th {\n",
       "        vertical-align: top;\n",
       "    }\n",
       "\n",
       "    .dataframe thead th {\n",
       "        text-align: right;\n",
       "    }\n",
       "</style>\n",
       "<table border=\"1\" class=\"dataframe\">\n",
       "  <thead>\n",
       "    <tr style=\"text-align: right;\">\n",
       "      <th></th>\n",
       "      <th>Index</th>\n",
       "      <th>Accident_Severity</th>\n",
       "      <th>Accident Date</th>\n",
       "      <th>Latitude</th>\n",
       "      <th>Light_Conditions</th>\n",
       "      <th>District Area</th>\n",
       "      <th>Longitude</th>\n",
       "      <th>Number_of_Casualties</th>\n",
       "      <th>Number_of_Vehicles</th>\n",
       "      <th>Road_Surface_Conditions</th>\n",
       "      <th>Road_Type</th>\n",
       "      <th>Urban_or_Rural_Area</th>\n",
       "      <th>Weather_Conditions</th>\n",
       "      <th>Vehicle_Type</th>\n",
       "    </tr>\n",
       "  </thead>\n",
       "  <tbody>\n",
       "    <tr>\n",
       "      <th>0</th>\n",
       "      <td>200701BS64157</td>\n",
       "      <td>Serious</td>\n",
       "      <td>5/6/2019</td>\n",
       "      <td>51.506187</td>\n",
       "      <td>Darkness - lights lit</td>\n",
       "      <td>Kensington and Chelsea</td>\n",
       "      <td>-0.209082</td>\n",
       "      <td>1</td>\n",
       "      <td>2</td>\n",
       "      <td>Dry</td>\n",
       "      <td>Single carriageway</td>\n",
       "      <td>Urban</td>\n",
       "      <td>Fine no high winds</td>\n",
       "      <td>Car</td>\n",
       "    </tr>\n",
       "    <tr>\n",
       "      <th>1</th>\n",
       "      <td>200701BS65737</td>\n",
       "      <td>Serious</td>\n",
       "      <td>2/7/2019</td>\n",
       "      <td>51.495029</td>\n",
       "      <td>Daylight</td>\n",
       "      <td>Kensington and Chelsea</td>\n",
       "      <td>-0.173647</td>\n",
       "      <td>1</td>\n",
       "      <td>2</td>\n",
       "      <td>Wet or damp</td>\n",
       "      <td>Single carriageway</td>\n",
       "      <td>Urban</td>\n",
       "      <td>Raining no high winds</td>\n",
       "      <td>Car</td>\n",
       "    </tr>\n",
       "    <tr>\n",
       "      <th>2</th>\n",
       "      <td>200701BS66127</td>\n",
       "      <td>Serious</td>\n",
       "      <td>26-08-2019</td>\n",
       "      <td>51.517715</td>\n",
       "      <td>Darkness - lighting unknown</td>\n",
       "      <td>Kensington and Chelsea</td>\n",
       "      <td>-0.210215</td>\n",
       "      <td>1</td>\n",
       "      <td>3</td>\n",
       "      <td>Dry</td>\n",
       "      <td>NaN</td>\n",
       "      <td>Urban</td>\n",
       "      <td>NaN</td>\n",
       "      <td>Taxi/Private hire car</td>\n",
       "    </tr>\n",
       "    <tr>\n",
       "      <th>3</th>\n",
       "      <td>200701BS66128</td>\n",
       "      <td>Serious</td>\n",
       "      <td>16-08-2019</td>\n",
       "      <td>51.495478</td>\n",
       "      <td>Daylight</td>\n",
       "      <td>Kensington and Chelsea</td>\n",
       "      <td>-0.202731</td>\n",
       "      <td>1</td>\n",
       "      <td>4</td>\n",
       "      <td>Dry</td>\n",
       "      <td>Single carriageway</td>\n",
       "      <td>Urban</td>\n",
       "      <td>Fine no high winds</td>\n",
       "      <td>Bus or coach (17 or more pass seats)</td>\n",
       "    </tr>\n",
       "    <tr>\n",
       "      <th>4</th>\n",
       "      <td>200701BS66837</td>\n",
       "      <td>Slight</td>\n",
       "      <td>3/9/2019</td>\n",
       "      <td>51.488576</td>\n",
       "      <td>Darkness - lights lit</td>\n",
       "      <td>Kensington and Chelsea</td>\n",
       "      <td>-0.192487</td>\n",
       "      <td>1</td>\n",
       "      <td>2</td>\n",
       "      <td>Dry</td>\n",
       "      <td>NaN</td>\n",
       "      <td>Urban</td>\n",
       "      <td>NaN</td>\n",
       "      <td>Other vehicle</td>\n",
       "    </tr>\n",
       "    <tr>\n",
       "      <th>...</th>\n",
       "      <td>...</td>\n",
       "      <td>...</td>\n",
       "      <td>...</td>\n",
       "      <td>...</td>\n",
       "      <td>...</td>\n",
       "      <td>...</td>\n",
       "      <td>...</td>\n",
       "      <td>...</td>\n",
       "      <td>...</td>\n",
       "      <td>...</td>\n",
       "      <td>...</td>\n",
       "      <td>...</td>\n",
       "      <td>...</td>\n",
       "      <td>...</td>\n",
       "    </tr>\n",
       "    <tr>\n",
       "      <th>660674</th>\n",
       "      <td>201091NM01760</td>\n",
       "      <td>Slight</td>\n",
       "      <td>18-02-2022</td>\n",
       "      <td>57.374005</td>\n",
       "      <td>Daylight</td>\n",
       "      <td>Highland</td>\n",
       "      <td>-3.467828</td>\n",
       "      <td>2</td>\n",
       "      <td>1</td>\n",
       "      <td>Dry</td>\n",
       "      <td>Single carriageway</td>\n",
       "      <td>Rural</td>\n",
       "      <td>Fine no high winds</td>\n",
       "      <td>Car</td>\n",
       "    </tr>\n",
       "    <tr>\n",
       "      <th>660675</th>\n",
       "      <td>201091NM01881</td>\n",
       "      <td>Slight</td>\n",
       "      <td>21-02-2022</td>\n",
       "      <td>57.232273</td>\n",
       "      <td>Darkness - no lighting</td>\n",
       "      <td>Highland</td>\n",
       "      <td>-3.809281</td>\n",
       "      <td>1</td>\n",
       "      <td>1</td>\n",
       "      <td>Frost or ice</td>\n",
       "      <td>Single carriageway</td>\n",
       "      <td>Rural</td>\n",
       "      <td>Fine no high winds</td>\n",
       "      <td>Car</td>\n",
       "    </tr>\n",
       "    <tr>\n",
       "      <th>660676</th>\n",
       "      <td>201091NM01935</td>\n",
       "      <td>Slight</td>\n",
       "      <td>23-02-2022</td>\n",
       "      <td>57.585044</td>\n",
       "      <td>Daylight</td>\n",
       "      <td>Highland</td>\n",
       "      <td>-3.862727</td>\n",
       "      <td>1</td>\n",
       "      <td>3</td>\n",
       "      <td>Frost or ice</td>\n",
       "      <td>Single carriageway</td>\n",
       "      <td>Rural</td>\n",
       "      <td>Fine no high winds</td>\n",
       "      <td>Car</td>\n",
       "    </tr>\n",
       "    <tr>\n",
       "      <th>660677</th>\n",
       "      <td>201091NM01964</td>\n",
       "      <td>Serious</td>\n",
       "      <td>23-02-2022</td>\n",
       "      <td>57.214898</td>\n",
       "      <td>Darkness - no lighting</td>\n",
       "      <td>Highland</td>\n",
       "      <td>-3.823997</td>\n",
       "      <td>1</td>\n",
       "      <td>2</td>\n",
       "      <td>Wet or damp</td>\n",
       "      <td>Single carriageway</td>\n",
       "      <td>Rural</td>\n",
       "      <td>Fine no high winds</td>\n",
       "      <td>Motorcycle over 500cc</td>\n",
       "    </tr>\n",
       "    <tr>\n",
       "      <th>660678</th>\n",
       "      <td>201091NM02142</td>\n",
       "      <td>Serious</td>\n",
       "      <td>28-02-2022</td>\n",
       "      <td>57.575210</td>\n",
       "      <td>Daylight</td>\n",
       "      <td>Highland</td>\n",
       "      <td>-3.895673</td>\n",
       "      <td>1</td>\n",
       "      <td>1</td>\n",
       "      <td>Wet or damp</td>\n",
       "      <td>Dual carriageway</td>\n",
       "      <td>Rural</td>\n",
       "      <td>Snowing no high winds</td>\n",
       "      <td>Car</td>\n",
       "    </tr>\n",
       "  </tbody>\n",
       "</table>\n",
       "<p>660679 rows × 14 columns</p>\n",
       "</div>"
      ],
      "text/plain": [
       "                Index Accident_Severity Accident Date   Latitude  \\\n",
       "0       200701BS64157           Serious      5/6/2019  51.506187   \n",
       "1       200701BS65737           Serious      2/7/2019  51.495029   \n",
       "2       200701BS66127           Serious    26-08-2019  51.517715   \n",
       "3       200701BS66128           Serious    16-08-2019  51.495478   \n",
       "4       200701BS66837            Slight      3/9/2019  51.488576   \n",
       "...               ...               ...           ...        ...   \n",
       "660674  201091NM01760            Slight    18-02-2022  57.374005   \n",
       "660675  201091NM01881            Slight    21-02-2022  57.232273   \n",
       "660676  201091NM01935            Slight    23-02-2022  57.585044   \n",
       "660677  201091NM01964           Serious    23-02-2022  57.214898   \n",
       "660678  201091NM02142           Serious    28-02-2022  57.575210   \n",
       "\n",
       "                   Light_Conditions           District Area  Longitude  \\\n",
       "0             Darkness - lights lit  Kensington and Chelsea  -0.209082   \n",
       "1                          Daylight  Kensington and Chelsea  -0.173647   \n",
       "2       Darkness - lighting unknown  Kensington and Chelsea  -0.210215   \n",
       "3                          Daylight  Kensington and Chelsea  -0.202731   \n",
       "4             Darkness - lights lit  Kensington and Chelsea  -0.192487   \n",
       "...                             ...                     ...        ...   \n",
       "660674                     Daylight                Highland  -3.467828   \n",
       "660675       Darkness - no lighting                Highland  -3.809281   \n",
       "660676                     Daylight                Highland  -3.862727   \n",
       "660677       Darkness - no lighting                Highland  -3.823997   \n",
       "660678                     Daylight                Highland  -3.895673   \n",
       "\n",
       "        Number_of_Casualties  Number_of_Vehicles Road_Surface_Conditions  \\\n",
       "0                          1                   2                     Dry   \n",
       "1                          1                   2             Wet or damp   \n",
       "2                          1                   3                     Dry   \n",
       "3                          1                   4                     Dry   \n",
       "4                          1                   2                     Dry   \n",
       "...                      ...                 ...                     ...   \n",
       "660674                     2                   1                     Dry   \n",
       "660675                     1                   1            Frost or ice   \n",
       "660676                     1                   3            Frost or ice   \n",
       "660677                     1                   2             Wet or damp   \n",
       "660678                     1                   1             Wet or damp   \n",
       "\n",
       "                 Road_Type Urban_or_Rural_Area     Weather_Conditions  \\\n",
       "0       Single carriageway               Urban     Fine no high winds   \n",
       "1       Single carriageway               Urban  Raining no high winds   \n",
       "2                      NaN               Urban                    NaN   \n",
       "3       Single carriageway               Urban     Fine no high winds   \n",
       "4                      NaN               Urban                    NaN   \n",
       "...                    ...                 ...                    ...   \n",
       "660674  Single carriageway               Rural     Fine no high winds   \n",
       "660675  Single carriageway               Rural     Fine no high winds   \n",
       "660676  Single carriageway               Rural     Fine no high winds   \n",
       "660677  Single carriageway               Rural     Fine no high winds   \n",
       "660678    Dual carriageway               Rural  Snowing no high winds   \n",
       "\n",
       "                                Vehicle_Type  \n",
       "0                                        Car  \n",
       "1                                        Car  \n",
       "2                      Taxi/Private hire car  \n",
       "3       Bus or coach (17 or more pass seats)  \n",
       "4                              Other vehicle  \n",
       "...                                      ...  \n",
       "660674                                   Car  \n",
       "660675                                   Car  \n",
       "660676                                   Car  \n",
       "660677                 Motorcycle over 500cc  \n",
       "660678                                   Car  \n",
       "\n",
       "[660679 rows x 14 columns]"
      ]
     },
     "execution_count": 73,
     "metadata": {},
     "output_type": "execute_result"
    }
   ],
   "source": [
    "accident = pd.read_csv('C:\\\\Users\\\\DESIREE\\\\Documents\\\\ELEC303_RAMILO\\\\uk_road_accident.csv')\n",
    "accident"
   ]
  },
  {
   "cell_type": "code",
   "execution_count": null,
   "id": "c0ffff6f-d768-4ee1-8b3c-30ff670ece7a",
   "metadata": {},
   "outputs": [],
   "source": []
  },
  {
   "cell_type": "markdown",
   "id": "42589cc1-352d-4f6d-a1a3-271251a5813a",
   "metadata": {},
   "source": [
    "<H3>3.) CHECK DATAFRAME AND INFORMATION</H3>\n",
    "<hr>"
   ]
  },
  {
   "cell_type": "code",
   "execution_count": 74,
   "id": "7696bbfb-1dba-489f-b8e8-420b434a1712",
   "metadata": {},
   "outputs": [
    {
     "name": "stdout",
     "output_type": "stream",
     "text": [
      "<class 'pandas.core.frame.DataFrame'>\n",
      "RangeIndex: 660679 entries, 0 to 660678\n",
      "Data columns (total 14 columns):\n",
      " #   Column                   Non-Null Count   Dtype  \n",
      "---  ------                   --------------   -----  \n",
      " 0   Index                    660679 non-null  object \n",
      " 1   Accident_Severity        660679 non-null  object \n",
      " 2   Accident Date            660679 non-null  object \n",
      " 3   Latitude                 660654 non-null  float64\n",
      " 4   Light_Conditions         660679 non-null  object \n",
      " 5   District Area            660679 non-null  object \n",
      " 6   Longitude                660653 non-null  float64\n",
      " 7   Number_of_Casualties     660679 non-null  int64  \n",
      " 8   Number_of_Vehicles       660679 non-null  int64  \n",
      " 9   Road_Surface_Conditions  659953 non-null  object \n",
      " 10  Road_Type                656159 non-null  object \n",
      " 11  Urban_or_Rural_Area      660664 non-null  object \n",
      " 12  Weather_Conditions       646551 non-null  object \n",
      " 13  Vehicle_Type             660679 non-null  object \n",
      "dtypes: float64(2), int64(2), object(10)\n",
      "memory usage: 70.6+ MB\n"
     ]
    }
   ],
   "source": [
    "accident.info()"
   ]
  },
  {
   "cell_type": "code",
   "execution_count": null,
   "id": "3a855487-216b-4548-8f62-43378ac4c0ea",
   "metadata": {},
   "outputs": [],
   "source": []
  },
  {
   "cell_type": "markdown",
   "id": "65e75717-300b-4bb1-8a56-f95becbd2bd4",
   "metadata": {},
   "source": [
    "<H2>4.) CHECK BASIC DESCRIPTIVE STATISTICS</H2>\n",
    "<hr>"
   ]
  },
  {
   "cell_type": "code",
   "execution_count": 75,
   "id": "b7ee24c7-5ae8-426f-ab45-046b67e59932",
   "metadata": {},
   "outputs": [
    {
     "data": {
      "text/html": [
       "<div>\n",
       "<style scoped>\n",
       "    .dataframe tbody tr th:only-of-type {\n",
       "        vertical-align: middle;\n",
       "    }\n",
       "\n",
       "    .dataframe tbody tr th {\n",
       "        vertical-align: top;\n",
       "    }\n",
       "\n",
       "    .dataframe thead th {\n",
       "        text-align: right;\n",
       "    }\n",
       "</style>\n",
       "<table border=\"1\" class=\"dataframe\">\n",
       "  <thead>\n",
       "    <tr style=\"text-align: right;\">\n",
       "      <th></th>\n",
       "      <th>Latitude</th>\n",
       "      <th>Longitude</th>\n",
       "      <th>Number_of_Casualties</th>\n",
       "      <th>Number_of_Vehicles</th>\n",
       "    </tr>\n",
       "  </thead>\n",
       "  <tbody>\n",
       "    <tr>\n",
       "      <th>count</th>\n",
       "      <td>660654.000000</td>\n",
       "      <td>660653.000000</td>\n",
       "      <td>660679.000000</td>\n",
       "      <td>660679.000000</td>\n",
       "    </tr>\n",
       "    <tr>\n",
       "      <th>mean</th>\n",
       "      <td>52.553866</td>\n",
       "      <td>-1.431210</td>\n",
       "      <td>1.357040</td>\n",
       "      <td>1.831255</td>\n",
       "    </tr>\n",
       "    <tr>\n",
       "      <th>std</th>\n",
       "      <td>1.406922</td>\n",
       "      <td>1.383330</td>\n",
       "      <td>0.824847</td>\n",
       "      <td>0.715269</td>\n",
       "    </tr>\n",
       "    <tr>\n",
       "      <th>min</th>\n",
       "      <td>49.914430</td>\n",
       "      <td>-7.516225</td>\n",
       "      <td>1.000000</td>\n",
       "      <td>1.000000</td>\n",
       "    </tr>\n",
       "    <tr>\n",
       "      <th>25%</th>\n",
       "      <td>51.490690</td>\n",
       "      <td>-2.332291</td>\n",
       "      <td>1.000000</td>\n",
       "      <td>1.000000</td>\n",
       "    </tr>\n",
       "    <tr>\n",
       "      <th>50%</th>\n",
       "      <td>52.315641</td>\n",
       "      <td>-1.411667</td>\n",
       "      <td>1.000000</td>\n",
       "      <td>2.000000</td>\n",
       "    </tr>\n",
       "    <tr>\n",
       "      <th>75%</th>\n",
       "      <td>53.453452</td>\n",
       "      <td>-0.232869</td>\n",
       "      <td>1.000000</td>\n",
       "      <td>2.000000</td>\n",
       "    </tr>\n",
       "    <tr>\n",
       "      <th>max</th>\n",
       "      <td>60.757544</td>\n",
       "      <td>1.762010</td>\n",
       "      <td>68.000000</td>\n",
       "      <td>32.000000</td>\n",
       "    </tr>\n",
       "  </tbody>\n",
       "</table>\n",
       "</div>"
      ],
      "text/plain": [
       "            Latitude      Longitude  Number_of_Casualties  Number_of_Vehicles\n",
       "count  660654.000000  660653.000000         660679.000000       660679.000000\n",
       "mean       52.553866      -1.431210              1.357040            1.831255\n",
       "std         1.406922       1.383330              0.824847            0.715269\n",
       "min        49.914430      -7.516225              1.000000            1.000000\n",
       "25%        51.490690      -2.332291              1.000000            1.000000\n",
       "50%        52.315641      -1.411667              1.000000            2.000000\n",
       "75%        53.453452      -0.232869              1.000000            2.000000\n",
       "max        60.757544       1.762010             68.000000           32.000000"
      ]
     },
     "execution_count": 75,
     "metadata": {},
     "output_type": "execute_result"
    }
   ],
   "source": [
    "accident.describe()"
   ]
  },
  {
   "cell_type": "code",
   "execution_count": null,
   "id": "4cc10d70-eb22-4995-abba-d4373331f869",
   "metadata": {},
   "outputs": [],
   "source": []
  },
  {
   "cell_type": "markdown",
   "id": "873002fb-7120-4574-a15a-5c8da6b01d4e",
   "metadata": {},
   "source": [
    "<h2>5.) CALL EACH COLUMN INDIVIDUALLY</h2>\n",
    "<hr>"
   ]
  },
  {
   "cell_type": "code",
   "execution_count": 76,
   "id": "3d9c61ce-43a0-42bf-9127-6457259d9f16",
   "metadata": {},
   "outputs": [
    {
     "data": {
      "text/plain": [
       "0         200701BS64157\n",
       "1         200701BS65737\n",
       "2         200701BS66127\n",
       "3         200701BS66128\n",
       "4         200701BS66837\n",
       "              ...      \n",
       "660674    201091NM01760\n",
       "660675    201091NM01881\n",
       "660676    201091NM01935\n",
       "660677    201091NM01964\n",
       "660678    201091NM02142\n",
       "Name: Index, Length: 660679, dtype: object"
      ]
     },
     "execution_count": 76,
     "metadata": {},
     "output_type": "execute_result"
    }
   ],
   "source": [
    "accident['Index']"
   ]
  },
  {
   "cell_type": "code",
   "execution_count": 77,
   "id": "6112ff61-fdb3-43e4-8cbb-b3e5cc073cfe",
   "metadata": {},
   "outputs": [
    {
     "data": {
      "text/plain": [
       "0         Serious\n",
       "1         Serious\n",
       "2         Serious\n",
       "3         Serious\n",
       "4          Slight\n",
       "           ...   \n",
       "660674     Slight\n",
       "660675     Slight\n",
       "660676     Slight\n",
       "660677    Serious\n",
       "660678    Serious\n",
       "Name: Accident_Severity, Length: 660679, dtype: object"
      ]
     },
     "execution_count": 77,
     "metadata": {},
     "output_type": "execute_result"
    }
   ],
   "source": [
    "accident['Accident_Severity']"
   ]
  },
  {
   "cell_type": "code",
   "execution_count": 78,
   "id": "8182fb32-1b58-4f13-941f-0772f5d38440",
   "metadata": {},
   "outputs": [
    {
     "data": {
      "text/plain": [
       "0           5/6/2019\n",
       "1           2/7/2019\n",
       "2         26-08-2019\n",
       "3         16-08-2019\n",
       "4           3/9/2019\n",
       "             ...    \n",
       "660674    18-02-2022\n",
       "660675    21-02-2022\n",
       "660676    23-02-2022\n",
       "660677    23-02-2022\n",
       "660678    28-02-2022\n",
       "Name: Accident Date, Length: 660679, dtype: object"
      ]
     },
     "execution_count": 78,
     "metadata": {},
     "output_type": "execute_result"
    }
   ],
   "source": [
    "accident['Accident Date']"
   ]
  },
  {
   "cell_type": "code",
   "execution_count": 79,
   "id": "7bd51987-0ff4-4e5e-98e7-322b5efdfd25",
   "metadata": {},
   "outputs": [
    {
     "data": {
      "text/plain": [
       "0         51.506187\n",
       "1         51.495029\n",
       "2         51.517715\n",
       "3         51.495478\n",
       "4         51.488576\n",
       "            ...    \n",
       "660674    57.374005\n",
       "660675    57.232273\n",
       "660676    57.585044\n",
       "660677    57.214898\n",
       "660678    57.575210\n",
       "Name: Latitude, Length: 660679, dtype: float64"
      ]
     },
     "execution_count": 79,
     "metadata": {},
     "output_type": "execute_result"
    }
   ],
   "source": [
    "accident['Latitude']"
   ]
  },
  {
   "cell_type": "code",
   "execution_count": 80,
   "id": "4f0c6224-973d-4db0-a885-7d824999f005",
   "metadata": {},
   "outputs": [
    {
     "data": {
      "text/plain": [
       "0               Darkness - lights lit\n",
       "1                            Daylight\n",
       "2         Darkness - lighting unknown\n",
       "3                            Daylight\n",
       "4               Darkness - lights lit\n",
       "                     ...             \n",
       "660674                       Daylight\n",
       "660675         Darkness - no lighting\n",
       "660676                       Daylight\n",
       "660677         Darkness - no lighting\n",
       "660678                       Daylight\n",
       "Name: Light_Conditions, Length: 660679, dtype: object"
      ]
     },
     "execution_count": 80,
     "metadata": {},
     "output_type": "execute_result"
    }
   ],
   "source": [
    "accident['Light_Conditions']"
   ]
  },
  {
   "cell_type": "code",
   "execution_count": 81,
   "id": "2adeabbd-5417-43de-a921-a14680678d8f",
   "metadata": {},
   "outputs": [
    {
     "data": {
      "text/plain": [
       "0         Kensington and Chelsea\n",
       "1         Kensington and Chelsea\n",
       "2         Kensington and Chelsea\n",
       "3         Kensington and Chelsea\n",
       "4         Kensington and Chelsea\n",
       "                   ...          \n",
       "660674                  Highland\n",
       "660675                  Highland\n",
       "660676                  Highland\n",
       "660677                  Highland\n",
       "660678                  Highland\n",
       "Name: District Area, Length: 660679, dtype: object"
      ]
     },
     "execution_count": 81,
     "metadata": {},
     "output_type": "execute_result"
    }
   ],
   "source": [
    "accident['District Area']"
   ]
  },
  {
   "cell_type": "code",
   "execution_count": 82,
   "id": "f88240be-f032-4662-a156-7bb94f8ff0af",
   "metadata": {},
   "outputs": [
    {
     "data": {
      "text/plain": [
       "0        -0.209082\n",
       "1        -0.173647\n",
       "2        -0.210215\n",
       "3        -0.202731\n",
       "4        -0.192487\n",
       "            ...   \n",
       "660674   -3.467828\n",
       "660675   -3.809281\n",
       "660676   -3.862727\n",
       "660677   -3.823997\n",
       "660678   -3.895673\n",
       "Name: Longitude, Length: 660679, dtype: float64"
      ]
     },
     "execution_count": 82,
     "metadata": {},
     "output_type": "execute_result"
    }
   ],
   "source": [
    "accident['Longitude']"
   ]
  },
  {
   "cell_type": "code",
   "execution_count": 83,
   "id": "00be282d-c5d7-4ba8-b5e6-b82c27723d38",
   "metadata": {},
   "outputs": [
    {
     "data": {
      "text/plain": [
       "0         1\n",
       "1         1\n",
       "2         1\n",
       "3         1\n",
       "4         1\n",
       "         ..\n",
       "660674    2\n",
       "660675    1\n",
       "660676    1\n",
       "660677    1\n",
       "660678    1\n",
       "Name: Number_of_Casualties, Length: 660679, dtype: int64"
      ]
     },
     "execution_count": 83,
     "metadata": {},
     "output_type": "execute_result"
    }
   ],
   "source": [
    "accident['Number_of_Casualties']"
   ]
  },
  {
   "cell_type": "code",
   "execution_count": 84,
   "id": "44d6359c-dd0d-49a2-943c-116bf3fe4d20",
   "metadata": {},
   "outputs": [
    {
     "data": {
      "text/plain": [
       "0         2\n",
       "1         2\n",
       "2         3\n",
       "3         4\n",
       "4         2\n",
       "         ..\n",
       "660674    1\n",
       "660675    1\n",
       "660676    3\n",
       "660677    2\n",
       "660678    1\n",
       "Name: Number_of_Vehicles, Length: 660679, dtype: int64"
      ]
     },
     "execution_count": 84,
     "metadata": {},
     "output_type": "execute_result"
    }
   ],
   "source": [
    "accident['Number_of_Vehicles']"
   ]
  },
  {
   "cell_type": "code",
   "execution_count": 85,
   "id": "f7c92a8f-05e6-43fc-b767-e1af4ea3e3da",
   "metadata": {},
   "outputs": [
    {
     "data": {
      "text/plain": [
       "0                  Dry\n",
       "1          Wet or damp\n",
       "2                  Dry\n",
       "3                  Dry\n",
       "4                  Dry\n",
       "              ...     \n",
       "660674             Dry\n",
       "660675    Frost or ice\n",
       "660676    Frost or ice\n",
       "660677     Wet or damp\n",
       "660678     Wet or damp\n",
       "Name: Road_Surface_Conditions, Length: 660679, dtype: object"
      ]
     },
     "execution_count": 85,
     "metadata": {},
     "output_type": "execute_result"
    }
   ],
   "source": [
    "accident['Road_Surface_Conditions']"
   ]
  },
  {
   "cell_type": "code",
   "execution_count": 86,
   "id": "780d5e1e-595f-4468-9920-f543241a24c4",
   "metadata": {},
   "outputs": [
    {
     "data": {
      "text/plain": [
       "0         Single carriageway\n",
       "1         Single carriageway\n",
       "2                        NaN\n",
       "3         Single carriageway\n",
       "4                        NaN\n",
       "                 ...        \n",
       "660674    Single carriageway\n",
       "660675    Single carriageway\n",
       "660676    Single carriageway\n",
       "660677    Single carriageway\n",
       "660678      Dual carriageway\n",
       "Name: Road_Type, Length: 660679, dtype: object"
      ]
     },
     "execution_count": 86,
     "metadata": {},
     "output_type": "execute_result"
    }
   ],
   "source": [
    "accident['Road_Type']"
   ]
  },
  {
   "cell_type": "code",
   "execution_count": 87,
   "id": "03bfafb8-31dc-4828-9d6a-47a448586636",
   "metadata": {},
   "outputs": [
    {
     "data": {
      "text/plain": [
       "0         Urban\n",
       "1         Urban\n",
       "2         Urban\n",
       "3         Urban\n",
       "4         Urban\n",
       "          ...  \n",
       "660674    Rural\n",
       "660675    Rural\n",
       "660676    Rural\n",
       "660677    Rural\n",
       "660678    Rural\n",
       "Name: Urban_or_Rural_Area, Length: 660679, dtype: object"
      ]
     },
     "execution_count": 87,
     "metadata": {},
     "output_type": "execute_result"
    }
   ],
   "source": [
    "accident['Urban_or_Rural_Area']"
   ]
  },
  {
   "cell_type": "code",
   "execution_count": 88,
   "id": "19ca89da-c0b4-4720-b060-38927e82a38c",
   "metadata": {},
   "outputs": [
    {
     "data": {
      "text/plain": [
       "0            Fine no high winds\n",
       "1         Raining no high winds\n",
       "2                           NaN\n",
       "3            Fine no high winds\n",
       "4                           NaN\n",
       "                  ...          \n",
       "660674       Fine no high winds\n",
       "660675       Fine no high winds\n",
       "660676       Fine no high winds\n",
       "660677       Fine no high winds\n",
       "660678    Snowing no high winds\n",
       "Name: Weather_Conditions, Length: 660679, dtype: object"
      ]
     },
     "execution_count": 88,
     "metadata": {},
     "output_type": "execute_result"
    }
   ],
   "source": [
    "accident['Weather_Conditions']"
   ]
  },
  {
   "cell_type": "code",
   "execution_count": 89,
   "id": "7dea8c1f-858d-4e06-83b9-d97086bfd3a6",
   "metadata": {},
   "outputs": [
    {
     "data": {
      "text/plain": [
       "0                                          Car\n",
       "1                                          Car\n",
       "2                        Taxi/Private hire car\n",
       "3         Bus or coach (17 or more pass seats)\n",
       "4                                Other vehicle\n",
       "                          ...                 \n",
       "660674                                     Car\n",
       "660675                                     Car\n",
       "660676                                     Car\n",
       "660677                   Motorcycle over 500cc\n",
       "660678                                     Car\n",
       "Name: Vehicle_Type, Length: 660679, dtype: object"
      ]
     },
     "execution_count": 89,
     "metadata": {},
     "output_type": "execute_result"
    }
   ],
   "source": [
    "accident['Vehicle_Type']"
   ]
  },
  {
   "cell_type": "code",
   "execution_count": null,
   "id": "71e4d6d2-0aa7-45df-a356-85d61eab8d02",
   "metadata": {},
   "outputs": [],
   "source": []
  },
  {
   "cell_type": "markdown",
   "id": "39cf5fca-dddc-443e-a030-55d791162023",
   "metadata": {},
   "source": [
    "<h2>6.) CHECK FOR NULL VALUES</h2>"
   ]
  },
  {
   "cell_type": "code",
   "execution_count": 90,
   "id": "7bba2959-94c3-4fc3-a308-ab12378c52ac",
   "metadata": {},
   "outputs": [
    {
     "data": {
      "text/plain": [
       "Index                          0\n",
       "Accident_Severity              0\n",
       "Accident Date                  0\n",
       "Latitude                      25\n",
       "Light_Conditions               0\n",
       "District Area                  0\n",
       "Longitude                     26\n",
       "Number_of_Casualties           0\n",
       "Number_of_Vehicles             0\n",
       "Road_Surface_Conditions      726\n",
       "Road_Type                   4520\n",
       "Urban_or_Rural_Area           15\n",
       "Weather_Conditions         14128\n",
       "Vehicle_Type                   0\n",
       "dtype: int64"
      ]
     },
     "execution_count": 90,
     "metadata": {},
     "output_type": "execute_result"
    }
   ],
   "source": [
    "accident.isnull().sum()"
   ]
  },
  {
   "cell_type": "code",
   "execution_count": null,
   "id": "df1174e3-0912-4730-b93b-9f90db5990e0",
   "metadata": {},
   "outputs": [],
   "source": []
  },
  {
   "cell_type": "markdown",
   "id": "f28e23e2-3e4f-447f-9594-83fa5e8867f8",
   "metadata": {},
   "source": [
    "<h2>7.) FILL NULL VALUES WITH STATISTCAL VALUES</h2>\n",
    "<hr>"
   ]
  },
  {
   "cell_type": "code",
   "execution_count": 91,
   "id": "f2c16b23-567c-423e-9e2a-3f697f4d0cfa",
   "metadata": {},
   "outputs": [],
   "source": [
    "accident['Latitude'] = accident['Latitude'] .fillna(accident['Latitude'].mean())\n",
    "accident['Longitude'] = accident['Longitude'] .fillna(accident['Longitude'].mean())\n",
    "accident['Road_Surface_Conditions'] = accident['Road_Surface_Conditions'] .fillna(accident['Road_Surface_Conditions'].mode()[0])\n",
    "accident['Road_Type'] = accident['Road_Type'] .fillna(accident['Road_Type'].mode()[0])\n",
    "accident['Urban_or_Rural_Area'] = accident['Urban_or_Rural_Area'] .fillna(accident['Urban_or_Rural_Area'].mode()[0])\n",
    "accident['Weather_Conditions'] = accident['Weather_Conditions'] .fillna(accident['Weather_Conditions'].mode()[0])"
   ]
  },
  {
   "cell_type": "code",
   "execution_count": 92,
   "id": "8ed51086-f3c3-48c5-926a-1b8bd9ed48b6",
   "metadata": {},
   "outputs": [
    {
     "data": {
      "text/plain": [
       "Index                      0\n",
       "Accident_Severity          0\n",
       "Accident Date              0\n",
       "Latitude                   0\n",
       "Light_Conditions           0\n",
       "District Area              0\n",
       "Longitude                  0\n",
       "Number_of_Casualties       0\n",
       "Number_of_Vehicles         0\n",
       "Road_Surface_Conditions    0\n",
       "Road_Type                  0\n",
       "Urban_or_Rural_Area        0\n",
       "Weather_Conditions         0\n",
       "Vehicle_Type               0\n",
       "dtype: int64"
      ]
     },
     "execution_count": 92,
     "metadata": {},
     "output_type": "execute_result"
    }
   ],
   "source": [
    "accident.isnull().sum()"
   ]
  },
  {
   "cell_type": "code",
   "execution_count": null,
   "id": "b3adb3b5-c012-45de-9a2d-fa2ccf5b00ec",
   "metadata": {},
   "outputs": [],
   "source": []
  },
  {
   "cell_type": "markdown",
   "id": "ac9bbc3f-57db-4c1f-822a-622e49798ad6",
   "metadata": {},
   "source": [
    "<h2>8.) CHECK COLUMN DATA TYPES</h2>\n",
    "<hr>"
   ]
  },
  {
   "cell_type": "code",
   "execution_count": 93,
   "id": "6c0c481c-cbd0-4d28-8fae-3eefd0dcdb7f",
   "metadata": {},
   "outputs": [
    {
     "name": "stdout",
     "output_type": "stream",
     "text": [
      "<class 'pandas.core.frame.DataFrame'>\n",
      "RangeIndex: 660679 entries, 0 to 660678\n",
      "Data columns (total 14 columns):\n",
      " #   Column                   Non-Null Count   Dtype  \n",
      "---  ------                   --------------   -----  \n",
      " 0   Index                    660679 non-null  object \n",
      " 1   Accident_Severity        660679 non-null  object \n",
      " 2   Accident Date            660679 non-null  object \n",
      " 3   Latitude                 660679 non-null  float64\n",
      " 4   Light_Conditions         660679 non-null  object \n",
      " 5   District Area            660679 non-null  object \n",
      " 6   Longitude                660679 non-null  float64\n",
      " 7   Number_of_Casualties     660679 non-null  int64  \n",
      " 8   Number_of_Vehicles       660679 non-null  int64  \n",
      " 9   Road_Surface_Conditions  660679 non-null  object \n",
      " 10  Road_Type                660679 non-null  object \n",
      " 11  Urban_or_Rural_Area      660679 non-null  object \n",
      " 12  Weather_Conditions       660679 non-null  object \n",
      " 13  Vehicle_Type             660679 non-null  object \n",
      "dtypes: float64(2), int64(2), object(10)\n",
      "memory usage: 70.6+ MB\n"
     ]
    }
   ],
   "source": [
    "accident.info()"
   ]
  },
  {
   "cell_type": "code",
   "execution_count": 94,
   "id": "48bd924c-fd93-4ba3-9b46-49454693d264",
   "metadata": {},
   "outputs": [],
   "source": [
    "accident['Index'] = accident ['Index'].astype('category')"
   ]
  },
  {
   "cell_type": "code",
   "execution_count": 95,
   "id": "8dbfeb82-d527-4b08-98b2-957a4da99f86",
   "metadata": {},
   "outputs": [],
   "source": [
    "accident['Accident_Severity'] = accident ['Accident_Severity'].astype('category')"
   ]
  },
  {
   "cell_type": "code",
   "execution_count": 96,
   "id": "78224fb6-74b5-423a-bad1-97fb43040ac8",
   "metadata": {},
   "outputs": [],
   "source": [
    "accident['Accident Date'] = accident ['Accident Date'].astype('category')"
   ]
  },
  {
   "cell_type": "code",
   "execution_count": 97,
   "id": "20bcd79f-f422-456d-99f4-c8af6e865144",
   "metadata": {},
   "outputs": [],
   "source": [
    "accident['Light_Conditions'] = accident ['Light_Conditions'].astype('category')"
   ]
  },
  {
   "cell_type": "code",
   "execution_count": 98,
   "id": "42db2bb1-c3b9-4da9-98c4-e433d1cdb9ae",
   "metadata": {},
   "outputs": [],
   "source": [
    "accident['District Area'] = accident ['District Area'].astype('category')"
   ]
  },
  {
   "cell_type": "code",
   "execution_count": 99,
   "id": "b1b37c39-c709-4634-9f10-98fafc0da7d7",
   "metadata": {},
   "outputs": [],
   "source": [
    "accident['Road_Surface_Conditions'] = accident ['Road_Surface_Conditions'].astype('category')"
   ]
  },
  {
   "cell_type": "code",
   "execution_count": 100,
   "id": "66b8702d-974b-4297-9d15-b4fefd88489f",
   "metadata": {},
   "outputs": [],
   "source": [
    "accident['Road_Type'] = accident ['Road_Type'].astype('category')"
   ]
  },
  {
   "cell_type": "code",
   "execution_count": 101,
   "id": "5472ad8b-97d9-4455-a2a4-48547b661641",
   "metadata": {},
   "outputs": [],
   "source": [
    "accident['Urban_or_Rural_Area'] = accident ['Urban_or_Rural_Area'].astype('category')"
   ]
  },
  {
   "cell_type": "code",
   "execution_count": 102,
   "id": "7f20b8b2-905b-461e-8542-c076d5dcb998",
   "metadata": {},
   "outputs": [],
   "source": [
    "accident['Weather_Conditions'] = accident ['Weather_Conditions'].astype('category')"
   ]
  },
  {
   "cell_type": "code",
   "execution_count": 103,
   "id": "cde41585-bce8-4f42-81df-e732edd1871e",
   "metadata": {},
   "outputs": [],
   "source": [
    "accident['Vehicle_Type'] = accident ['Vehicle_Type'].astype('category')"
   ]
  },
  {
   "cell_type": "code",
   "execution_count": 104,
   "id": "fd198c2d-ddc4-4de6-83d4-f81454685709",
   "metadata": {},
   "outputs": [
    {
     "name": "stdout",
     "output_type": "stream",
     "text": [
      "<class 'pandas.core.frame.DataFrame'>\n",
      "RangeIndex: 660679 entries, 0 to 660678\n",
      "Data columns (total 14 columns):\n",
      " #   Column                   Non-Null Count   Dtype   \n",
      "---  ------                   --------------   -----   \n",
      " 0   Index                    660679 non-null  category\n",
      " 1   Accident_Severity        660679 non-null  category\n",
      " 2   Accident Date            660679 non-null  category\n",
      " 3   Latitude                 660679 non-null  float64 \n",
      " 4   Light_Conditions         660679 non-null  category\n",
      " 5   District Area            660679 non-null  category\n",
      " 6   Longitude                660679 non-null  float64 \n",
      " 7   Number_of_Casualties     660679 non-null  int64   \n",
      " 8   Number_of_Vehicles       660679 non-null  int64   \n",
      " 9   Road_Surface_Conditions  660679 non-null  category\n",
      " 10  Road_Type                660679 non-null  category\n",
      " 11  Urban_or_Rural_Area      660679 non-null  category\n",
      " 12  Weather_Conditions       660679 non-null  category\n",
      " 13  Vehicle_Type             660679 non-null  category\n",
      "dtypes: category(10), float64(2), int64(2)\n",
      "memory usage: 49.0 MB\n"
     ]
    }
   ],
   "source": [
    "accident.info()"
   ]
  },
  {
   "cell_type": "code",
   "execution_count": null,
   "id": "1d5fad11-75ba-4f58-b621-5316cf75bbee",
   "metadata": {},
   "outputs": [],
   "source": []
  },
  {
   "cell_type": "markdown",
   "id": "43de4c86-ad4e-4465-a95a-84f6689eec25",
   "metadata": {},
   "source": [
    "<h2>CLEARING ANY INCONSISTENCIES WITH THE DATA SET</h2>\n",
    "<hr>"
   ]
  },
  {
   "cell_type": "code",
   "execution_count": 105,
   "id": "67319cad-bcd3-4702-9490-f438da3150c4",
   "metadata": {},
   "outputs": [],
   "source": [
    "accident['Accident Date'] = accident['Accident Date'].str.strip() #to remove any extra white space\n",
    "accident['Accident Date'] = accident['Accident Date'].astype('str') #to convert into a string\n",
    "accident['Accident Date'] = accident['Accident Date'].str.replace('/', '-')"
   ]
  },
  {
   "cell_type": "code",
   "execution_count": 106,
   "id": "9a8b3eeb-3fda-4138-9a3e-bfbaa306208a",
   "metadata": {},
   "outputs": [],
   "source": [
    "accident['Accident Date'] = pd.to_datetime(accident['Accident Date'], dayfirst = True, errors = 'coerce')"
   ]
  },
  {
   "cell_type": "code",
   "execution_count": null,
   "id": "f73ddc74-c5bc-4cb7-8119-f940e707e256",
   "metadata": {},
   "outputs": [],
   "source": []
  },
  {
   "cell_type": "markdown",
   "id": "2cabfe4b-96ac-460b-9951-0250bef2f2b4",
   "metadata": {},
   "source": [
    "<h2>ADJUSTING DATA TYPES</h2>\n",
    "<HR>"
   ]
  },
  {
   "cell_type": "code",
   "execution_count": 107,
   "id": "5f50f6aa-7049-433c-b321-b380d7a3c36d",
   "metadata": {},
   "outputs": [
    {
     "data": {
      "text/plain": [
       "Index                            category\n",
       "Accident_Severity                category\n",
       "Accident Date              datetime64[ns]\n",
       "Latitude                          float64\n",
       "Light_Conditions                 category\n",
       "District Area                    category\n",
       "Longitude                         float64\n",
       "Number_of_Casualties                int64\n",
       "Number_of_Vehicles                  int64\n",
       "Road_Surface_Conditions          category\n",
       "Road_Type                        category\n",
       "Urban_or_Rural_Area              category\n",
       "Weather_Conditions               category\n",
       "Vehicle_Type                     category\n",
       "dtype: object"
      ]
     },
     "execution_count": 107,
     "metadata": {},
     "output_type": "execute_result"
    }
   ],
   "source": [
    "accident.dtypes"
   ]
  },
  {
   "cell_type": "code",
   "execution_count": null,
   "id": "12fc175c-f70a-41c0-b518-cf18938be674",
   "metadata": {},
   "outputs": [],
   "source": []
  },
  {
   "cell_type": "markdown",
   "id": "94b7d777-842f-4447-a89a-d2b4335d6104",
   "metadata": {},
   "source": [
    "<h2>EXTRACTING DATE INFORMATION USING PANDAS DATE TIME</h2>\n",
    "<hr>"
   ]
  },
  {
   "cell_type": "code",
   "execution_count": 108,
   "id": "c72aa44d-c227-4410-920c-f4981dae8806",
   "metadata": {},
   "outputs": [],
   "source": [
    "accident['Year'] = accident['Accident Date'].dt.year\n",
    "accident['Month'] = accident['Accident Date'].dt.month\n",
    "accident['Day'] = accident['Accident Date'].dt.day\n",
    "accident['DayOfWeek'] = accident['Accident Date'].dt.dayofweek #Monday=0, Sunday=6"
   ]
  },
  {
   "cell_type": "code",
   "execution_count": 109,
   "id": "36d34bee-1065-4035-b47d-26a43a58c0a1",
   "metadata": {},
   "outputs": [
    {
     "data": {
      "text/plain": [
       "Index                      0\n",
       "Accident_Severity          0\n",
       "Accident Date              0\n",
       "Latitude                   0\n",
       "Light_Conditions           0\n",
       "District Area              0\n",
       "Longitude                  0\n",
       "Number_of_Casualties       0\n",
       "Number_of_Vehicles         0\n",
       "Road_Surface_Conditions    0\n",
       "Road_Type                  0\n",
       "Urban_or_Rural_Area        0\n",
       "Weather_Conditions         0\n",
       "Vehicle_Type               0\n",
       "Year                       0\n",
       "Month                      0\n",
       "Day                        0\n",
       "DayOfWeek                  0\n",
       "dtype: int64"
      ]
     },
     "execution_count": 109,
     "metadata": {},
     "output_type": "execute_result"
    }
   ],
   "source": [
    "accident.isnull().sum()"
   ]
  },
  {
   "cell_type": "code",
   "execution_count": null,
   "id": "bee7e78c-fd6e-4950-acd4-e03181923935",
   "metadata": {},
   "outputs": [],
   "source": []
  },
  {
   "cell_type": "markdown",
   "id": "5ba5f97c-53e3-4b48-bc5c-b816f2d04c77",
   "metadata": {},
   "source": [
    "<h2>20 QUESTIONS WITH CODE, ANSWER, AND INSIGHTS...</h2>\n",
    "<HR>"
   ]
  },
  {
   "cell_type": "code",
   "execution_count": null,
   "id": "221563f5-9ce3-4e48-9c7a-49f97439b865",
   "metadata": {},
   "outputs": [],
   "source": []
  },
  {
   "cell_type": "markdown",
   "id": "54d28f63-3a75-41ca-bb0b-13781f6c9e0d",
   "metadata": {},
   "source": [
    "<h2>QUESTION 1</h2>\n",
    "<h3>How many total accidents are in the dataset?</h3>\n",
    "<hr>"
   ]
  },
  {
   "cell_type": "code",
   "execution_count": null,
   "id": "93f6c0ef-8f60-471f-99d9-4a583eaeec42",
   "metadata": {},
   "outputs": [],
   "source": []
  },
  {
   "cell_type": "code",
   "execution_count": 110,
   "id": "bcfb45e9-32d8-41e0-8934-1c5895e26d09",
   "metadata": {},
   "outputs": [
    {
     "data": {
      "text/plain": [
       "660679"
      ]
     },
     "execution_count": 110,
     "metadata": {},
     "output_type": "execute_result"
    }
   ],
   "source": [
    "total_accidents = len(accident)\n",
    "total_accidents"
   ]
  },
  {
   "cell_type": "markdown",
   "id": "99e3afc7-906a-4f18-adac-be7eecd88e60",
   "metadata": {},
   "source": [
    "<h2>INSIGHT:</h2>\n",
    "<H3>Based on the dataset, the total of the accident that occured were 660,679.</H3>\n",
    "<hr>"
   ]
  },
  {
   "cell_type": "code",
   "execution_count": null,
   "id": "fd8d1e3b-f328-415b-a893-c43f2478839a",
   "metadata": {},
   "outputs": [],
   "source": []
  },
  {
   "cell_type": "markdown",
   "id": "9a0f52ec-e2dc-471e-9e7e-6f3dc87f2f55",
   "metadata": {},
   "source": [
    "<h2>QUESTION 2</h2>\n",
    "<H3>Were there fatal accidents in rural areas?</H3>\n",
    "<hr>"
   ]
  },
  {
   "cell_type": "code",
   "execution_count": 111,
   "id": "d3c78c6f-e522-46e8-92b5-ea27384f55a9",
   "metadata": {},
   "outputs": [
    {
     "data": {
      "text/plain": [
       "5601"
      ]
     },
     "execution_count": 111,
     "metadata": {},
     "output_type": "execute_result"
    }
   ],
   "source": [
    "fatal_rural = accident[(accident[\"Accident_Severity\"] == \"Fatal\") & (accident[\"Urban_or_Rural_Area\"] == \"Rural\")]\n",
    "fatal_rural.shape[0]"
   ]
  },
  {
   "cell_type": "markdown",
   "id": "c771ec68-58ed-4fb2-90b0-7b3450286a87",
   "metadata": {},
   "source": [
    "<h2>INSIGHT:</h2>\n",
    "<H3>There were 5,601 fatal accidents in rural areas, which shows that rural crashes tend to be more severe. This could be due to higher speed limits and the longer response time for emergency services.</H3>\n",
    "<hr>"
   ]
  },
  {
   "cell_type": "code",
   "execution_count": null,
   "id": "15050258-bedd-4326-a8b1-1008997a24f1",
   "metadata": {},
   "outputs": [],
   "source": []
  },
  {
   "cell_type": "markdown",
   "id": "732081f6-ddb9-42d3-b1f1-12a795d9afd0",
   "metadata": {},
   "source": [
    "<H2>QUESTION 3</H2>\n",
    "<H3>Do accidents in rural areas usually involve more than one vehicle?</H3>\n",
    "<hr>"
   ]
  },
  {
   "cell_type": "code",
   "execution_count": 112,
   "id": "8e337e56-a404-4077-bff6-f8bd872f4d45",
   "metadata": {},
   "outputs": [
    {
     "data": {
      "text/plain": [
       "163235"
      ]
     },
     "execution_count": 112,
     "metadata": {},
     "output_type": "execute_result"
    }
   ],
   "source": [
    "rural_multi = accident[(accident[\"Urban_or_Rural_Area\"] == \"Rural\") & (accident[\"Number_of_Vehicles\"] > 1)]\n",
    "rural_multi.shape[0]"
   ]
  },
  {
   "cell_type": "markdown",
   "id": "52f9ddc2-8621-4ad7-89d7-76706ba0eba6",
   "metadata": {},
   "source": [
    "<H2>INSIGHT:</H2>\n",
    "<H3>Yes, there were 163,235 rural accidents in daylight, showing that good visibility does not prevent crashes. Many rural accidents are linked to speed and long travel distances.</H3>\n",
    "<hr>"
   ]
  },
  {
   "cell_type": "code",
   "execution_count": null,
   "id": "b140308a-dc3c-47af-80b8-a41cd6e595b9",
   "metadata": {},
   "outputs": [],
   "source": []
  },
  {
   "cell_type": "markdown",
   "id": "aad0a5aa-173d-4e95-8c67-04824717ee03",
   "metadata": {},
   "source": [
    "<h2>QUESTION 4</h2>\n",
    "<H3>Is it common for accidents with more than 2 casualties to occur at night?</H3>\n",
    "<hr>"
   ]
  },
  {
   "cell_type": "code",
   "execution_count": 113,
   "id": "be072798-6914-4843-9dba-2286e88500d1",
   "metadata": {},
   "outputs": [
    {
     "data": {
      "text/plain": [
       "15431"
      ]
     },
     "execution_count": 113,
     "metadata": {},
     "output_type": "execute_result"
    }
   ],
   "source": [
    "night_cas2 = accident[(accident[\"Light_Conditions\"] != \"Daylight\") & (accident[\"Number_of_Casualties\"] > 2)]\n",
    "night_cas2.shape[0]\n"
   ]
  },
  {
   "cell_type": "markdown",
   "id": "1e0d3802-d9c5-4829-a43d-2c45e8831602",
   "metadata": {},
   "source": [
    "<H2>INSIGHT:</H2>\n",
    "<H3>We can observe 15,431 nighttime accidents with more than 2 casualties, highlighting how darkness raises risks for groups of people. Poor visibility and fatigue may worsen the effects of accidents.</H3>\n",
    "<hr>"
   ]
  },
  {
   "cell_type": "code",
   "execution_count": null,
   "id": "74410339-1fbd-44db-99a4-9beedf94dc7c",
   "metadata": {},
   "outputs": [],
   "source": []
  },
  {
   "cell_type": "markdown",
   "id": "be25ba59-12ee-46a2-9dd6-27578b328758",
   "metadata": {},
   "source": [
    "<H2>QUESTION 5</H2>\n",
    "<H3>Does rain affect the likelihood of accidents with more than 1 vehicle?</H3>\n",
    "<hr>"
   ]
  },
  {
   "cell_type": "code",
   "execution_count": 114,
   "id": "ae76369e-4f9a-4597-86a4-8d13f536d994",
   "metadata": {},
   "outputs": [
    {
     "data": {
      "text/html": [
       "<div>\n",
       "<style scoped>\n",
       "    .dataframe tbody tr th:only-of-type {\n",
       "        vertical-align: middle;\n",
       "    }\n",
       "\n",
       "    .dataframe tbody tr th {\n",
       "        vertical-align: top;\n",
       "    }\n",
       "\n",
       "    .dataframe thead th {\n",
       "        text-align: right;\n",
       "    }\n",
       "</style>\n",
       "<table border=\"1\" class=\"dataframe\">\n",
       "  <thead>\n",
       "    <tr style=\"text-align: right;\">\n",
       "      <th></th>\n",
       "      <th>Poor_Light</th>\n",
       "      <th>Number_of_Casualties</th>\n",
       "    </tr>\n",
       "  </thead>\n",
       "  <tbody>\n",
       "    <tr>\n",
       "      <th>Poor_Light</th>\n",
       "      <td>1.000000</td>\n",
       "      <td>0.033687</td>\n",
       "    </tr>\n",
       "    <tr>\n",
       "      <th>Number_of_Casualties</th>\n",
       "      <td>0.033687</td>\n",
       "      <td>1.000000</td>\n",
       "    </tr>\n",
       "  </tbody>\n",
       "</table>\n",
       "</div>"
      ],
      "text/plain": [
       "                      Poor_Light  Number_of_Casualties\n",
       "Poor_Light              1.000000              0.033687\n",
       "Number_of_Casualties    0.033687              1.000000"
      ]
     },
     "execution_count": 114,
     "metadata": {},
     "output_type": "execute_result"
    }
   ],
   "source": [
    "accident[\"Poor_Light\"] = accident[\"Light_Conditions\"].str.contains(\"Dark|Dusk|Dawn\")\n",
    "accident[[\"Poor_Light\",\"Number_of_Casualties\"]].corr()\n"
   ]
  },
  {
   "cell_type": "markdown",
   "id": "594b7752-efa5-409e-974b-bc1605cd692a",
   "metadata": {},
   "source": [
    "<H2>INSIGHT:</H2>\n",
    "<H3>The correlation between poor light and casualties is very low (0.034). This suggests poor lighting has minimal direct impact on accident severity.</H3>\n",
    "<hr>"
   ]
  },
  {
   "cell_type": "code",
   "execution_count": null,
   "id": "78c4bf53-3882-4d09-8482-d6fd983b60f5",
   "metadata": {},
   "outputs": [],
   "source": []
  },
  {
   "cell_type": "markdown",
   "id": "2e33d240-5e22-4e35-b6a8-1b43f83e9944",
   "metadata": {},
   "source": [
    "<H2>QUESTION 6</H2>\n",
    "<H3>Are fatal accidents more often reported in rural areas than in urban ones?</H3>\n",
    "<hr>"
   ]
  },
  {
   "cell_type": "code",
   "execution_count": 115,
   "id": "6796f167-279a-44c9-9d76-9d847251a8d6",
   "metadata": {},
   "outputs": [
    {
     "data": {
      "text/plain": [
       "5601"
      ]
     },
     "execution_count": 115,
     "metadata": {},
     "output_type": "execute_result"
    }
   ],
   "source": [
    "fatal_rural = accident[(accident[\"Accident_Severity\"] == \"Fatal\") & (accident[\"Urban_or_Rural_Area\"] == \"Rural\")]\n",
    "fatal_rural.shape[0]\n"
   ]
  },
  {
   "cell_type": "markdown",
   "id": "aee2aad6-2dff-4e91-8178-8e138f50f7b4",
   "metadata": {},
   "source": [
    "<H2>INSIGHT:</H2>\n",
    "<H3>The dataset shows also that 5,601 fatal accidents were reported in rural areas, highlighting that severe crashes are more common outside urban centers. This pattern may be linked to faster driving speeds and longer emergency response times in rural environments.</H3>\n",
    "<hr>"
   ]
  },
  {
   "cell_type": "code",
   "execution_count": null,
   "id": "48acea9f-4056-40f9-9928-c15c609fd788",
   "metadata": {},
   "outputs": [],
   "source": []
  },
  {
   "cell_type": "markdown",
   "id": "7aa838f6-4831-4db2-a17e-1aacd54569ad",
   "metadata": {},
   "source": [
    "<H2>QUESTION 7</H2>\n",
    "<H3>Are urban areas more prone to multi-vehicle accidents?</H3>\n",
    "<hr>"
   ]
  },
  {
   "cell_type": "code",
   "execution_count": 116,
   "id": "5d469b3e-6595-430f-ac03-b5a3ee4bfcd7",
   "metadata": {},
   "outputs": [
    {
     "data": {
      "text/plain": [
       "np.float64(1.811384516147392)"
      ]
     },
     "execution_count": 116,
     "metadata": {},
     "output_type": "execute_result"
    }
   ],
   "source": [
    "urban_group = accident.groupby(\"Urban_or_Rural_Area\")[\"Number_of_Vehicles\"].mean()\n",
    "urban_group[\"Urban\"]\n",
    "\n"
   ]
  },
  {
   "cell_type": "markdown",
   "id": "a29b2381-ef74-4f1a-8de8-e929b92fb2c5",
   "metadata": {},
   "source": [
    "<H2>INSIGHT:</H2>\n",
    "<H3>The dataset shows that the average number of vehicles involved in urban accidents is approximately 1.81, indicating that most accidents in cities involve one or two vehicles. This suggests that while multi-vehicle collisions occur, single-vehicle or two-vehicle accidents are still the most common in urban areas.</H3>\n",
    "<hr>"
   ]
  },
  {
   "cell_type": "code",
   "execution_count": null,
   "id": "c783ea76-9519-4ded-a4a0-8147265b560f",
   "metadata": {},
   "outputs": [],
   "source": []
  },
  {
   "cell_type": "markdown",
   "id": "480f3632-6025-42f2-a50b-f61ed47d70e1",
   "metadata": {},
   "source": [
    "<H2>QUESTION 8</H2>\n",
    "<H3>Is it frequent that daylight accidents involve more than 3 casualties?</H3>\n",
    "<hr>"
   ]
  },
  {
   "cell_type": "code",
   "execution_count": 117,
   "id": "a9669004-c048-45be-96b0-34b9706ea24a",
   "metadata": {},
   "outputs": [
    {
     "data": {
      "text/plain": [
       "11822"
      ]
     },
     "execution_count": 117,
     "metadata": {},
     "output_type": "execute_result"
    }
   ],
   "source": [
    "day_cas3 = accident[(accident[\"Light_Conditions\"] == \"Daylight\") & (accident[\"Number_of_Casualties\"] > 3)]\n",
    "day_cas3.shape[0]\n"
   ]
  },
  {
   "cell_type": "markdown",
   "id": "6626486f-e73f-4be2-986a-12a6cd0b0c07",
   "metadata": {},
   "source": [
    "<H2>INSIGHT:</H2>\n",
    "<H3>Yes, there are 11,822 accidents that occurred in daylight with more than three casualties, indicating that even under well-lit conditions, severe accidents are still relatively common. This suggests that factors other than lighting, such as traffic density or driver behavior, likely play a significant role in multi-casualty incident.</H3>\n",
    "<hr>"
   ]
  },
  {
   "cell_type": "code",
   "execution_count": null,
   "id": "629b5226-6f15-4a50-b164-7c7158a3ade7",
   "metadata": {},
   "outputs": [],
   "source": []
  },
  {
   "cell_type": "markdown",
   "id": "34af45da-db16-409c-bf2c-1801cebd722a",
   "metadata": {},
   "source": [
    "<H2>QUESTION 9</H2>\n",
    "<H3>Do motorways show accidents with more than 4 vehicles involved?</H3>\n",
    "<hr>"
   ]
  },
  {
   "cell_type": "code",
   "execution_count": 118,
   "id": "ed3fead9-a6b6-4bb6-9503-b54e6ff8592b",
   "metadata": {},
   "outputs": [
    {
     "data": {
      "text/plain": [
       "0"
      ]
     },
     "execution_count": 118,
     "metadata": {},
     "output_type": "execute_result"
    }
   ],
   "source": [
    "motorway_multi4 = accident[(accident[\"Road_Type\"] == \"Motorway\") & (accident[\"Number_of_Vehicles\"] > 4)]\n",
    "motorway_multi4.shape[0]\n",
    "\n"
   ]
  },
  {
   "cell_type": "markdown",
   "id": "0c038d29-3057-4343-a3bd-5bc33c9d13c6",
   "metadata": {},
   "source": [
    "<H2>INSIGHT:</H2>\n",
    "<H3>No accidents on motorways involved more than four vehicles, indicating that large multi-vehicle collisions are extremely rare on these roads. This could be due to effective traffic management, wider lanes, or stricter regulations that help prevent major pile-ups.</H3>\n",
    "<hr>"
   ]
  },
  {
   "cell_type": "code",
   "execution_count": null,
   "id": "dd656de4-fc39-493a-9462-a727e9274962",
   "metadata": {},
   "outputs": [],
   "source": []
  },
  {
   "cell_type": "markdown",
   "id": "4bf1198f-1253-4fc2-bbb0-34b5ca1e4412",
   "metadata": {},
   "source": [
    "<h2>QUESTION 10</h2>\n",
    "<H3>Which vehicle type and agriculture vehicle is the most accident in fatal accident?</H3>\n",
    "<hr>"
   ]
  },
  {
   "cell_type": "code",
   "execution_count": 119,
   "id": "45da4d26-1647-4a61-b783-d660c5dd7060",
   "metadata": {},
   "outputs": [
    {
     "data": {
      "text/plain": [
       "Vehicle_Type\n",
       "Agricultural vehicle                       21\n",
       "Bus or coach (17 or more pass seats)      325\n",
       "Car                                      6577\n",
       "Data missing or out of range                0\n",
       "Goods 7.5 tonnes mgw and over             216\n",
       "Goods over 3.5t. and under 7.5t            67\n",
       "Minibus (8 - 16 passenger seats)           29\n",
       "Motorcycle 125cc and under                189\n",
       "Motorcycle 50cc and under                  95\n",
       "Motorcycle over 125cc and up to 500cc     105\n",
       "Motorcycle over 500cc                     339\n",
       "Other vehicle                              70\n",
       "Pedal cycle                                 6\n",
       "Ridden horse                                0\n",
       "Taxi/Private hire car                     155\n",
       "Van / Goods 3.5 tonnes mgw or under       467\n",
       "Name: Index, dtype: int64"
      ]
     },
     "execution_count": 119,
     "metadata": {},
     "output_type": "execute_result"
    }
   ],
   "source": [
    "fatal_accidents = accident[accident[\"Accident_Severity\"] == \"Fatal\"]\n",
    "fatal_vehicle_count = fatal_accidents.groupby(\"Vehicle_Type\")[\"Index\"].count()\n",
    "fatal_vehicle_count"
   ]
  },
  {
   "cell_type": "code",
   "execution_count": null,
   "id": "de3cb288-2e6f-4ee4-aa8d-44134678ba3f",
   "metadata": {},
   "outputs": [],
   "source": []
  },
  {
   "cell_type": "markdown",
   "id": "b0352420-55e6-422e-9131-ccc1b17bc928",
   "metadata": {},
   "source": [
    "<h2>INSIGHT:</h2>\n",
    "<h3>The dataset shows that cars are the vehicle type most involved in fatal accidents, reflecting their prevalence on the roads. This indicates that higher exposure and frequency of car usage significantly increase the likelihood of fatalities compared to less common vehicles.</h3>\n",
    "<hr>"
   ]
  },
  {
   "cell_type": "code",
   "execution_count": null,
   "id": "37be45a1-35b1-4a4a-8bc7-f4be2b37ab51",
   "metadata": {},
   "outputs": [],
   "source": []
  },
  {
   "cell_type": "markdown",
   "id": "342eb59a-4fd6-4380-a67d-1a097fd0822a",
   "metadata": {},
   "source": [
    "<H2>QUESTION 11</H2>\n",
    "<H3>How many accidents occurred during daylight versus night?</H3>\n",
    "<hr>"
   ]
  },
  {
   "cell_type": "code",
   "execution_count": 120,
   "id": "f8bd217b-3119-40b2-afcf-930c89dd901f",
   "metadata": {},
   "outputs": [
    {
     "data": {
      "text/plain": [
       "Light_Conditions\n",
       "Darkness - lighting unknown      6484\n",
       "Darkness - lights lit          129335\n",
       "Darkness - lights unlit          2543\n",
       "Darkness - no lighting          37437\n",
       "Daylight                       484880\n",
       "dtype: int64"
      ]
     },
     "execution_count": 120,
     "metadata": {},
     "output_type": "execute_result"
    }
   ],
   "source": [
    "light_counts = accident.groupby(\"Light_Conditions\").size()\n",
    "light_counts"
   ]
  },
  {
   "cell_type": "markdown",
   "id": "6faee8ba-b84c-410a-9c72-1e498ba6cf3d",
   "metadata": {},
   "source": [
    "<h2>INSIGHT:</h2>\n",
    "<H3>It shows that the majority of accidents occur during daylight (484,880), reflecting higher traffic volumes during the day. However, a significant number of accidents also happen in darkness, especially when lights are lit (129,335), highlighting that nighttime driving still carries substantial risk and that proper lighting alone does not eliminate accidents.</H3>\n",
    "<hr>"
   ]
  },
  {
   "cell_type": "code",
   "execution_count": null,
   "id": "5dfe8f65-24de-4961-97c7-5d49ac350afa",
   "metadata": {},
   "outputs": [],
   "source": []
  },
  {
   "cell_type": "markdown",
   "id": "b5f5dc23-1ca6-4fad-82e3-9c4f7d67d7d7",
   "metadata": {},
   "source": [
    "<H2>QUESTION 12</H2>\n",
    "<H3>Are minibuses more involved in rural accidents?</H3>\n",
    "<hr>"
   ]
  },
  {
   "cell_type": "code",
   "execution_count": 121,
   "id": "34f54e1d-1a93-4197-88fd-160dff21d0eb",
   "metadata": {},
   "outputs": [
    {
     "data": {
      "text/plain": [
       "Urban_or_Rural_Area\n",
       "Rural          1.818942\n",
       "Unallocated         NaN\n",
       "Urban          1.795707\n",
       "Name: Number_of_Vehicles, dtype: float64"
      ]
     },
     "execution_count": 121,
     "metadata": {},
     "output_type": "execute_result"
    }
   ],
   "source": [
    "minibus_area_mean = accident[accident[\"Vehicle_Type\"]==\"Minibus (8 - 16 passenger seats)\"].groupby(\"Urban_or_Rural_Area\")[\"Number_of_Vehicles\"].mean()\n",
    "minibus_area_mean\n"
   ]
  },
  {
   "cell_type": "markdown",
   "id": "f225ed42-b0e2-4bf8-9bfc-a42ed2acd8e4",
   "metadata": {},
   "source": [
    "<h2>INSIGHT:</h2>\n",
    "<H3>Minibuses in rural areas have a slightly higher average number of vehicles involved in accidents (1.82) compared to urban areas (1.80). This suggests that rural roads may contribute to slightly more multi-vehicle incidents for minibuses.</H3>\n",
    "<hr>"
   ]
  },
  {
   "cell_type": "code",
   "execution_count": null,
   "id": "cdb09a11-cde8-4ab0-841d-b9e294efc2c1",
   "metadata": {},
   "outputs": [],
   "source": []
  },
  {
   "cell_type": "markdown",
   "id": "7c6658d5-1916-453b-bb88-4097bf9458dc",
   "metadata": {},
   "source": [
    "<H2>QUESTION 13</H2>\n",
    "<H3>Are taxis involved in fewer multi-vehicle accidents than cars?</H3>\n",
    "<hr>"
   ]
  },
  {
   "cell_type": "code",
   "execution_count": 122,
   "id": "0b341fd9-acb4-4ec0-bd40-776d95d5bc27",
   "metadata": {},
   "outputs": [
    {
     "data": {
      "text/plain": [
       "Vehicle_Type\n",
       "Taxi/Private hire car    1.836468\n",
       "Car                      1.832134\n",
       "Name: Number_of_Vehicles, dtype: float64"
      ]
     },
     "execution_count": 122,
     "metadata": {},
     "output_type": "execute_result"
    }
   ],
   "source": [
    "vehicle_multi_mean = accident.groupby(\"Vehicle_Type\")[\"Number_of_Vehicles\"].mean()\n",
    "vehicle_multi_mean[[\"Taxi/Private hire car\",\"Car\"]]\n"
   ]
  },
  {
   "cell_type": "markdown",
   "id": "20a874e5-bbc4-4d13-b03e-02decc2fbe8c",
   "metadata": {},
   "source": [
    "<H2>INSIGHT:</H2>\n",
    "<H3>Taxis have a slightly higher average number of vehicles involved in accidents (1.84) compared to cars (1.83). This suggests both vehicle types are mostly involved in one- or two-vehicle crashes.</H3>\n",
    "<hr>"
   ]
  },
  {
   "cell_type": "code",
   "execution_count": null,
   "id": "3e60362c-0480-4c06-ac99-c996b933ce89",
   "metadata": {},
   "outputs": [],
   "source": []
  },
  {
   "cell_type": "markdown",
   "id": "56b9a902-c0d3-49aa-908e-7692e7b68d55",
   "metadata": {},
   "source": [
    "<H2>QUESTION 14</H2>\n",
    "<H3>Are more accidents reported during daylight?</H3>\n",
    "<hr>"
   ]
  },
  {
   "cell_type": "code",
   "execution_count": 123,
   "id": "775cb9e9-f2e7-4fc6-944b-d173cb519e22",
   "metadata": {},
   "outputs": [
    {
     "data": {
      "text/plain": [
       "'Daylight'"
      ]
     },
     "execution_count": 123,
     "metadata": {},
     "output_type": "execute_result"
    }
   ],
   "source": [
    "light_mode = accident[\"Light_Conditions\"].mode()[0]\n",
    "light_mode\n",
    "\n",
    "\n"
   ]
  },
  {
   "cell_type": "markdown",
   "id": "f0b7723e-3752-49f8-8174-e1cf731a8bfd",
   "metadata": {},
   "source": [
    "<h2>INSIGHT:</h2>\n",
    "<H3>Daylight is the most common light condition for accidents. It means that most accidents occur during the day, likely due to higher traffic volume.</H3>\n",
    "<HR>"
   ]
  },
  {
   "cell_type": "code",
   "execution_count": null,
   "id": "abdaef4a-b295-4e18-a4b1-eb5e69384525",
   "metadata": {},
   "outputs": [],
   "source": []
  },
  {
   "cell_type": "markdown",
   "id": "a5cce0af-f614-4eef-bddb-6e344a7787f2",
   "metadata": {},
   "source": [
    "<H2>QUESTION 15</H2>\n",
    "<H3>Do motorcycles contribute to more single-vehicle crashes than cars?</H3>\n",
    "<HR>"
   ]
  },
  {
   "cell_type": "code",
   "execution_count": 124,
   "id": "9bc4d755-9834-4411-858e-4c1e49cade18",
   "metadata": {},
   "outputs": [
    {
     "data": {
      "text/plain": [
       "Vehicle_Type\n",
       "Motorcycle over 500cc    1.834743\n",
       "Car                      1.832134\n",
       "Name: Number_of_Vehicles, dtype: float64"
      ]
     },
     "execution_count": 124,
     "metadata": {},
     "output_type": "execute_result"
    }
   ],
   "source": [
    "vehicle_group = accident.groupby(\"Vehicle_Type\")[\"Number_of_Vehicles\"].mean()\n",
    "vehicle_group[[\"Motorcycle over 500cc\",\"Car\"]]\n",
    "\n"
   ]
  },
  {
   "cell_type": "markdown",
   "id": "dc3de72c-539c-42a2-ae5f-4f3a5f6d18fe",
   "metadata": {},
   "source": [
    "<H2>INSIGHT:</H2>\n",
    "<H3>Motorcycles over 500cc have a slightly higher average number of vehicles involved in accidents (1.83) compared to cars (1.83). This suggests that both are mostly involved in one- or two-vehicle crashes, with minimal difference between them.</H3>\n",
    "<HR>"
   ]
  },
  {
   "cell_type": "code",
   "execution_count": null,
   "id": "abebeb5f-d239-4c8f-bdd1-b37bede6019f",
   "metadata": {},
   "outputs": [],
   "source": []
  },
  {
   "cell_type": "markdown",
   "id": "cbe85829-a542-4eb9-b054-9b322632c8bd",
   "metadata": {},
   "source": [
    "<H2>QUESTION 16</H2>\n",
    "<H3>Which vehicle type causes the most casualties on average?</H3>\n",
    "<HR>"
   ]
  },
  {
   "cell_type": "code",
   "execution_count": 125,
   "id": "dfefd815-154e-40e5-acd5-47caf042c153",
   "metadata": {},
   "outputs": [
    {
     "data": {
      "text/plain": [
       "Vehicle_Type\n",
       "Agricultural vehicle                     1.342065\n",
       "Bus or coach (17 or more pass seats)     1.349216\n",
       "Car                                      1.358841\n",
       "Data missing or out of range             1.500000\n",
       "Goods 7.5 tonnes mgw and over            1.351881\n",
       "Goods over 3.5t. and under 7.5t          1.362861\n",
       "Minibus (8 - 16 passenger seats)         1.345648\n",
       "Motorcycle 125cc and under               1.332635\n",
       "Motorcycle 50cc and under                1.337235\n",
       "Motorcycle over 125cc and up to 500cc    1.343521\n",
       "Motorcycle over 500cc                    1.359434\n",
       "Other vehicle                            1.340075\n",
       "Pedal cycle                              1.370558\n",
       "Ridden horse                             1.250000\n",
       "Taxi/Private hire car                    1.368663\n",
       "Van / Goods 3.5 tonnes mgw or under      1.354537\n",
       "Name: Number_of_Casualties, dtype: float64"
      ]
     },
     "execution_count": 125,
     "metadata": {},
     "output_type": "execute_result"
    }
   ],
   "source": [
    "vehicle_casualties = accident.groupby(\"Vehicle_Type\")[\"Number_of_Casualties\"].mean()\n",
    "vehicle_casualties\n",
    "\n"
   ]
  },
  {
   "cell_type": "markdown",
   "id": "1d5b7b7e-96fe-4f2c-8b95-0f5ebc202976",
   "metadata": {},
   "source": [
    "<H2>INSIGHT:</H2>\n",
    "<H3>As we can see at the data, cars have the highest average number of casualties per accident (1.36) among all vehicle types. This suggests that accidents involving cars tend to result in slightly more injuries than those involving other vehicles.</H3>\n",
    "<HR>"
   ]
  },
  {
   "cell_type": "code",
   "execution_count": null,
   "id": "1b257d1a-2d5f-4f14-a119-e44a4dc223a7",
   "metadata": {},
   "outputs": [],
   "source": []
  },
  {
   "cell_type": "markdown",
   "id": "268e7473-8389-4761-ba44-742e6a297aa2",
   "metadata": {},
   "source": [
    "<h2>QUESTION 17</h2>\n",
    "<H3>Are buses involved in accidents with more casualties than cars?</H3>\n",
    "<HR>"
   ]
  },
  {
   "cell_type": "code",
   "execution_count": 126,
   "id": "f94ce5b6-7610-4f8d-b582-bb6e12f92cda",
   "metadata": {},
   "outputs": [
    {
     "data": {
      "text/plain": [
       "Vehicle_Type\n",
       "Bus or coach (17 or more pass seats)    1.349216\n",
       "Car                                     1.358841\n",
       "Name: Number_of_Casualties, dtype: float64"
      ]
     },
     "execution_count": 126,
     "metadata": {},
     "output_type": "execute_result"
    }
   ],
   "source": [
    "bus_car_casualties = accident.groupby(\"Vehicle_Type\")[\"Number_of_Casualties\"].mean()\n",
    "bus_car_casualties[[\"Bus or coach (17 or more pass seats)\", \"Car\"]]\n",
    "\n"
   ]
  },
  {
   "cell_type": "markdown",
   "id": "6a15adb8-4189-4390-966f-17994dca8f85",
   "metadata": {},
   "source": [
    "<H2>INSIGHT:</H2>\n",
    "<H3>Cars have a slightly higher average number of casualties per accident (1.36) compared to buses (1.35). This suggests that despite buses carrying more passengers, car accidents result in slightly more casualties on average.</H3>\n",
    "<HR>"
   ]
  },
  {
   "cell_type": "code",
   "execution_count": null,
   "id": "b9c28191-1b15-4e73-9e42-f2d6ecc52d68",
   "metadata": {},
   "outputs": [],
   "source": []
  },
  {
   "cell_type": "markdown",
   "id": "e942f742-6cb6-4311-9b28-194177029f91",
   "metadata": {},
   "source": [
    "<H2>QUESITON 18</H2>\n",
    "<H3>Do foggy conditions cause fewer multi-vehicle accidents than clear weather?</H2>\n",
    "<HR>"
   ]
  },
  {
   "cell_type": "code",
   "execution_count": 127,
   "id": "bcf919e6-7b5f-4b53-8eaf-cd8f57878385",
   "metadata": {},
   "outputs": [
    {
     "data": {
      "text/plain": [
       "Weather_Conditions\n",
       "Fog or mist           1.807823\n",
       "Fine no high winds    1.835907\n",
       "Name: Number_of_Vehicles, dtype: float64"
      ]
     },
     "execution_count": 127,
     "metadata": {},
     "output_type": "execute_result"
    }
   ],
   "source": [
    "fog_multi = accident.groupby(\"Weather_Conditions\")[\"Number_of_Vehicles\"].mean()\n",
    "fog_multi[[\"Fog or mist\",\"Fine no high winds\"]]"
   ]
  },
  {
   "cell_type": "markdown",
   "id": "5c139b85-5cb9-4c00-b170-13ea9c5e7c71",
   "metadata": {},
   "source": [
    "<H2>INSIGHT:</H2>\n",
    "<H3>It shows that accidents in fine weather without high winds involve more vehicles on average (1.84) compared to fog or mist (1.81). This suggests that clear conditions encourage heavier traffic flow, leading to more multi-vehicle crashes.</H3>\n",
    "<hr>"
   ]
  },
  {
   "cell_type": "code",
   "execution_count": null,
   "id": "7b1adca4-691a-4443-903b-adc0a1999a06",
   "metadata": {},
   "outputs": [],
   "source": []
  },
  {
   "cell_type": "markdown",
   "id": "285d754d-9616-49d7-89fb-41eac81946ab",
   "metadata": {},
   "source": [
    "<h2>QUESTION 19</h2>\n",
    "<H3>What is the mean number of vehicles per weather condition?.</H3>\n",
    "<HR>"
   ]
  },
  {
   "cell_type": "code",
   "execution_count": 128,
   "id": "c4e59918-8a69-40b9-907d-bd0499dd35a0",
   "metadata": {},
   "outputs": [
    {
     "data": {
      "text/plain": [
       "Weather_Conditions\n",
       "Fine + high winds        1.779401\n",
       "Fine no high winds       1.835907\n",
       "Fog or mist              1.807823\n",
       "Other                    1.777668\n",
       "Raining + high winds     1.777951\n",
       "Raining no high winds    1.831610\n",
       "Snowing + high winds     1.737853\n",
       "Snowing no high winds    1.754889\n",
       "Name: Number_of_Vehicles, dtype: float64"
      ]
     },
     "execution_count": 128,
     "metadata": {},
     "output_type": "execute_result"
    }
   ],
   "source": [
    "accident.groupby(\"Weather_Conditions\")[\"Number_of_Vehicles\"].mean()\n"
   ]
  },
  {
   "cell_type": "markdown",
   "id": "25d3bc98-6e4f-4e48-951c-8532a6e8b416",
   "metadata": {},
   "source": [
    "<H2>INSIGHT:</H2>\n",
    "<H3>Accidents in normal fine weather (with or without winds) tend to involve more vehicles on average than those in snowy conditions. This suggests that clear weather encourages higher traffic flow, which increases the chance of multi-vehicle collisions.</H3>\n",
    "<HR>"
   ]
  },
  {
   "cell_type": "code",
   "execution_count": null,
   "id": "568c0bff-144e-41ba-a086-0881ddcf0059",
   "metadata": {},
   "outputs": [],
   "source": []
  },
  {
   "cell_type": "markdown",
   "id": "5b585d64-d219-41f5-8961-2e4fc8c48e99",
   "metadata": {},
   "source": [
    "<h2>QUESTION 20</h2>\n",
    "<H3>Compare average casualties on dry vs wet road surfaces.</H3>\n",
    "<HR>"
   ]
  },
  {
   "cell_type": "code",
   "execution_count": 129,
   "id": "b6cb9361-2b83-4940-ac54-17c53e80f713",
   "metadata": {},
   "outputs": [
    {
     "data": {
      "text/plain": [
       "Road_Surface_Conditions\n",
       "Dry            1.334545\n",
       "Wet or damp    1.411064\n",
       "Name: Number_of_Casualties, dtype: float64"
      ]
     },
     "execution_count": 129,
     "metadata": {},
     "output_type": "execute_result"
    }
   ],
   "source": [
    "accident.groupby(\"Road_Surface_Conditions\")[\"Number_of_Casualties\"].mean()[[\"Dry\",\"Wet or damp\"]]\n"
   ]
  },
  {
   "cell_type": "code",
   "execution_count": null,
   "id": "911707c4-d4df-4114-93a7-e4f0f50d1e72",
   "metadata": {},
   "outputs": [],
   "source": []
  },
  {
   "cell_type": "markdown",
   "id": "6c9a5f17-5db7-4e25-95d9-156042a475c8",
   "metadata": {},
   "source": [
    "<H2>INSIGHT:</H2>\n",
    "<H3>Road conditions play a key role in the severity of crashes, with wet surfaces showing a higher casualty average. Even a slight increase highlights how weather-related factors can make roads more dangerous.</H3>\n",
    "<HR>"
   ]
  },
  {
   "cell_type": "code",
   "execution_count": null,
   "id": "95a09eb3-9e7d-4fa9-9500-02b36a955376",
   "metadata": {},
   "outputs": [],
   "source": []
  },
  {
   "cell_type": "markdown",
   "id": "1329b8fb-589b-44b4-9930-bbcafb40c323",
   "metadata": {},
   "source": [
    "<H2>QUESTION 21</H2>\n",
    "<H3>Correlate district average latitude with the number of accidents.</H3>\n",
    "<HR>"
   ]
  },
  {
   "cell_type": "code",
   "execution_count": 130,
   "id": "5562fb3a-b2eb-499e-8c63-f2a2796a3219",
   "metadata": {},
   "outputs": [
    {
     "data": {
      "text/plain": [
       "np.float64(-0.09064804637605312)"
      ]
     },
     "execution_count": 130,
     "metadata": {},
     "output_type": "execute_result"
    }
   ],
   "source": [
    "accident.groupby(\"District Area\")[\"Latitude\"].mean().corr(\n",
    "    accident.groupby(\"District Area\")[\"Index\"].count())\n"
   ]
  },
  {
   "cell_type": "markdown",
   "id": "81ea8ae6-538e-49f7-8fab-3e6a277d5bb2",
   "metadata": {},
   "source": [
    "<H2>INSIGHT:</H2>\n",
    "<H3>It seems weak negative correlation suggests that districts located further north tend to have slightly fewer accidents. This pattern may be influenced by lower population density or less traffic volume in northern areas compared to southern ones.</H3>\n",
    "<hr>"
   ]
  },
  {
   "cell_type": "code",
   "execution_count": null,
   "id": "b3030d5d-b9e7-47be-a154-104d1fe0e94f",
   "metadata": {},
   "outputs": [],
   "source": []
  },
  {
   "cell_type": "markdown",
   "id": "d9abe00e-b740-4ba5-af2d-20fa96bdabd8",
   "metadata": {},
   "source": [
    "<h2>QUESTION 22</h2>\n",
    "<H3>Which district area has the most accidents?</H3>\n",
    "<HR>"
   ]
  },
  {
   "cell_type": "code",
   "execution_count": 131,
   "id": "59ffc47b-ea14-45df-9f39-2199b4edf10c",
   "metadata": {},
   "outputs": [
    {
     "data": {
      "text/plain": [
       "'Birmingham'"
      ]
     },
     "execution_count": 131,
     "metadata": {},
     "output_type": "execute_result"
    }
   ],
   "source": [
    "accident[\"District Area\"].mode()[0]\n",
    "\n"
   ]
  },
  {
   "cell_type": "markdown",
   "id": "ca86c556-caee-4dcf-9bdb-142498ff5d3b",
   "metadata": {},
   "source": [
    "<H2>INSIGHT:</H2>\n",
    "<H3>Birmingham stands out as the area with the highest involvement in wet-road crashes, pointing to its heavy traffic flow and possibly dense urban road network that is more vulnerable when surfaces are slippery.</H3>\n",
    "<HR>"
   ]
  },
  {
   "cell_type": "code",
   "execution_count": null,
   "id": "df050b44-951f-493f-ada5-5c8ee7bfc476",
   "metadata": {},
   "outputs": [],
   "source": []
  },
  {
   "cell_type": "markdown",
   "id": "06cf6d49-71a1-4052-93ad-d63bad5ba3e5",
   "metadata": {},
   "source": [
    "<h2>QUESTION 23</h2>\n",
    "<H3>Which road surface condition is most frequent for single-vehicle crashes?</H3>\n",
    "<Hr>"
   ]
  },
  {
   "cell_type": "code",
   "execution_count": 132,
   "id": "cb592cd3-5722-416f-ab8a-ec6a8d203229",
   "metadata": {},
   "outputs": [
    {
     "data": {
      "text/plain": [
       "'Dry'"
      ]
     },
     "execution_count": 132,
     "metadata": {},
     "output_type": "execute_result"
    }
   ],
   "source": [
    "accident[accident[\"Number_of_Vehicles\"]==1][\"Road_Surface_Conditions\"].mode()[0]"
   ]
  },
  {
   "cell_type": "markdown",
   "id": "fcb3df1c-e78f-440f-ab4e-65fe1c260a8f",
   "metadata": {},
   "source": [
    "<H2>INSIGHT:</H2>\n",
    "<H3>The condition for most frequent for single-vehicle crashers is dry, and even when the roads are dry, drivers still experience the most single-vehicle crashes, suggesting that human error or speeding has a stronger impact than weather conditions.</H3>\n",
    "<hr>"
   ]
  },
  {
   "cell_type": "markdown",
   "id": "fca30ce8-1e35-4ceb-a6ca-de0d35331b30",
   "metadata": {},
   "source": []
  },
  {
   "cell_type": "markdown",
   "id": "b5b87fd3-8925-4b1f-9340-22b1299df184",
   "metadata": {},
   "source": [
    "<h2>QUESTION 24</h2>\n",
    "<H3>Which road type has the highest average number of casualties?</H3>\n",
    "<HR>"
   ]
  },
  {
   "cell_type": "code",
   "execution_count": 133,
   "id": "7bd65035-34ba-41c4-b1b1-0cb31b567c43",
   "metadata": {},
   "outputs": [
    {
     "data": {
      "text/plain": [
       "'Dual carriageway'"
      ]
     },
     "execution_count": 133,
     "metadata": {},
     "output_type": "execute_result"
    }
   ],
   "source": [
    "road_avg = accident.groupby(\"Road_Type\")[\"Number_of_Casualties\"].mean()\n",
    "road_avg[road_avg == road_avg.max()].index[0]\n"
   ]
  },
  {
   "cell_type": "markdown",
   "id": "c4005b24-33a7-4647-88ed-34e60b22b163",
   "metadata": {},
   "source": [
    "<h2>INSIGHT:</h2>\n",
    "<H3>Dual carriageways show the highest average casualties, which reflects how opposing traffic and limited barriers increase crash severity.</H3>\n",
    "<hr>"
   ]
  },
  {
   "cell_type": "code",
   "execution_count": null,
   "id": "01fdc307-c398-4fdd-86c2-a48301c69272",
   "metadata": {},
   "outputs": [],
   "source": []
  },
  {
   "cell_type": "markdown",
   "id": "fe46fc98-fcdc-4399-95fd-312b5d7148c5",
   "metadata": {},
   "source": [
    "<h2>QUESTION 25</h2>\n",
    "<H3>Which weather condition is most frequent in rural areas?</H3>\n",
    "<hr>"
   ]
  },
  {
   "cell_type": "code",
   "execution_count": 134,
   "id": "850e4130-7f63-45e9-9f18-ace47e3eb36e",
   "metadata": {},
   "outputs": [
    {
     "data": {
      "text/plain": [
       "'Fine no high winds'"
      ]
     },
     "execution_count": 134,
     "metadata": {},
     "output_type": "execute_result"
    }
   ],
   "source": [
    "accident[accident[\"Urban_or_Rural_Area\"]==\"Rural\"][\"Weather_Conditions\"].mode()[0]"
   ]
  },
  {
   "cell_type": "markdown",
   "id": "690ded30-e27a-4efc-b4f5-730278eba556",
   "metadata": {},
   "source": [
    "<h2>INSIGHT:</h2>\n",
    "<H3>Rural crashes most often happen during clear weather or fine with no high winds, showing that environment is not the main risk factor, but rather road layout and driving behavior.</H3>\n",
    "<hr>"
   ]
  },
  {
   "cell_type": "code",
   "execution_count": null,
   "id": "351c7547-ec53-4479-a272-cc923519089e",
   "metadata": {},
   "outputs": [],
   "source": []
  },
  {
   "cell_type": "markdown",
   "id": "ef1abffb-0bb6-44d6-9001-11e6644e848b",
   "metadata": {},
   "source": [
    "<h2>DATA VISUALIZATION</h2>\n",
    "<HR></HR>"
   ]
  },
  {
   "cell_type": "markdown",
   "id": "ca0b3b4e-decc-4e84-a041-268d9758df6c",
   "metadata": {},
   "source": [
    "<H2>QUESTION 1</H2>\n",
    "<h3>How do monthly road accident trends in Charnwood differ across the years 2019 to 2022? </h3>\n",
    "<HR></HR>"
   ]
  },
  {
   "cell_type": "code",
   "execution_count": 135,
   "id": "9dcd81ee-3ee4-47c7-8b84-01c395f45b40",
   "metadata": {},
   "outputs": [],
   "source": [
    "charnwood_accident = accident[accident['District Area'] == 'Charnwood']"
   ]
  },
  {
   "cell_type": "code",
   "execution_count": 136,
   "id": "9b23e492-bdb5-4d56-9ac0-ee1badc911a4",
   "metadata": {},
   "outputs": [
    {
     "data": {
      "image/png": "[encoded data removed]",
      "text/plain": [
       "<Figure size 1000x500 with 1 Axes>"
      ]
     },
     "metadata": {},
     "output_type": "display_data"
    }
   ],
   "source": [
    "monthly_data = charnwood_accident.groupby(['Year', 'Month']).size()\n",
    "monthly_data = monthly_data.unstack(level=0)\n",
    "\n",
    "monthly_data.plot(\n",
    "    marker='>', \n",
    "    figsize=(10, 5),\n",
    "    title='Monthly Road Accidents by Year in Charnwood (2019-2022)'\n",
    ")\n",
    "plt.xticks(range(1, 13), ['Jan','Feb','Mar','Apr','May','Jun','Jul','Aug','Sep','Oct','Nov','Dec'])\n",
    "\n",
    "plt.grid(alpha=0.5)\n",
    "plt.show()"
   ]
  },
  {
   "cell_type": "markdown",
   "id": "70914e31-07a7-4772-bc0f-d8deac056b1b",
   "metadata": {},
   "source": [
    "<h2>INSIGHT:</h2>\n",
    "<H3>Road accidents in Charnwood show seasonal peaks in June and November, with a notable drop in late 2020 likely due to COVID-19 impacts.</H3>\n",
    "<HR></HR>"
   ]
  },
  {
   "cell_type": "code",
   "execution_count": null,
   "id": "aa258e06-6b68-4e16-9ed7-79f1a8393080",
   "metadata": {},
   "outputs": [],
   "source": []
  },
  {
   "cell_type": "markdown",
   "id": "16623cff-5280-4b6f-80ba-f325452823aa",
   "metadata": {},
   "source": [
    "<h2>QUESTION 2</h2>\n",
    "<H2>What is the distribution of accident severity levels, and how can a pie chart help visualize their proportions?</H2>\n",
    "<hr>"
   ]
  },
  {
   "cell_type": "code",
   "execution_count": 137,
   "id": "a218096c-8288-49bb-8e4a-81facfb557cb",
   "metadata": {},
   "outputs": [],
   "source": [
    "severity = accident['Accident_Severity'].value_counts()"
   ]
  },
  {
   "cell_type": "code",
   "execution_count": 138,
   "id": "aa49920f-b527-48bc-8720-e2949dba97dd",
   "metadata": {},
   "outputs": [
    {
     "data": {
      "text/plain": [
       "CategoricalIndex(['Slight', 'Serious', 'Fatal'], categories=['Fatal', 'Serious', 'Slight'], ordered=False, dtype='category', name='Accident_Severity')"
      ]
     },
     "execution_count": 138,
     "metadata": {},
     "output_type": "execute_result"
    }
   ],
   "source": [
    "severity.index"
   ]
  },
  {
   "cell_type": "code",
   "execution_count": 139,
   "id": "36666107-b8b9-445e-8dbd-59eaba54a66c",
   "metadata": {},
   "outputs": [
    {
     "data": {
      "text/plain": [
       "array([563801,  88217,   8661])"
      ]
     },
     "execution_count": 139,
     "metadata": {},
     "output_type": "execute_result"
    }
   ],
   "source": [
    "severity.values"
   ]
  },
  {
   "cell_type": "code",
   "execution_count": 140,
   "id": "e54e3d18-a284-4232-a409-a3c480b001ce",
   "metadata": {},
   "outputs": [
    {
     "data": {
      "image/png": "[encoded data removed]",
      "text/plain": [
       "<Figure size 640x480 with 1 Axes>"
      ]
     },
     "metadata": {},
     "output_type": "display_data"
    }
   ],
   "source": [
    "plt.pie(severity, \n",
    "        labels = severity.index,\n",
    "        startangle= 90,\n",
    "        autopct = '%1.1f%%',\n",
    "        colors = ['Pink','Orange','Yellow'])\n",
    "plt.show()"
   ]
  },
  {
   "cell_type": "markdown",
   "id": "867c215d-38e5-4d71-a6ff-828632338d21",
   "metadata": {},
   "source": [
    "<H2>INSIGHT:</H2>\n",
    "<H3>The pie chart clearly shows the percentage of accidents by severity level, making it easy to see which severity is most common. And i used different colors and percentage labels to help quickly understand the share of each category in the total accidents.</H3>\n",
    "<hr>"
   ]
  },
  {
   "cell_type": "code",
   "execution_count": null,
   "id": "95209927-ba3e-4717-9374-9d29d652c225",
   "metadata": {},
   "outputs": [],
   "source": []
  },
  {
   "cell_type": "markdown",
   "id": "c5b857b5-dd80-46a8-acdc-ab148b08c5d1",
   "metadata": {},
   "source": [
    "<h2>QUESTION 3</h2>\n",
    "<H3>How does the number of accidents vary by vehicle type when buses are excluded?</H3>\n",
    "<hr>"
   ]
  },
  {
   "cell_type": "code",
   "execution_count": 141,
   "id": "281c9a22-63e0-4d06-b10e-d5ddfa5a5338",
   "metadata": {},
   "outputs": [
    {
     "data": {
      "image/png": "[encoded data removed]",
      "text/plain": [
       "<Figure size 640x480 with 1 Axes>"
      ]
     },
     "metadata": {},
     "output_type": "display_data"
    }
   ],
   "source": [
    "nobus_accident = accident[accident['Vehicle_Type'] != 'Bus']\n",
    "nobus_accident['Vehicle_Type'].value_counts().plot(kind='bar')\n",
    "plt.xticks(rotation = 90)\n",
    "plt.show()"
   ]
  },
  {
   "cell_type": "markdown",
   "id": "8049364d-fad0-4a19-b9db-ede55cbd14fe",
   "metadata": {},
   "source": [
    "<H2>INSIGHT:</H2>\n",
    "<H3>Most accidents involve vehicles other than buses, and among the types of vehicles with the most accidents, cars are the most common.</H3>\n",
    "<hr>"
   ]
  },
  {
   "cell_type": "markdown",
   "id": "9b874fc2-3157-42d2-9e98-70fc316014c3",
   "metadata": {},
   "source": []
  },
  {
   "cell_type": "code",
   "execution_count": 142,
   "id": "b3f40599-5cae-41e7-981a-729b29449ea0",
   "metadata": {},
   "outputs": [
    {
     "name": "stdout",
     "output_type": "stream",
     "text": [
      "Note: you may need to restart the kernel to use updated packages.\n"
     ]
    },
    {
     "name": "stderr",
     "output_type": "stream",
     "text": [
      "C:\\Users\\DESIREE\\AppData\\Local\\Programs\\Python\\Python313\\python.exe: No module named pip\n"
     ]
    }
   ],
   "source": [
    "pip install folium\n"
   ]
  },
  {
   "cell_type": "code",
   "execution_count": null,
   "id": "cdc7249b-49b2-469f-a168-0ed26c7ca17f",
   "metadata": {},
   "outputs": [],
   "source": []
  },
  {
   "cell_type": "markdown",
   "id": "a107893e-bc8b-403d-b73c-427f771339a8",
   "metadata": {},
   "source": [
    "<h2>QUESTION 4</h2>\n",
    "<H3>What patterns of accident distribution can be observed across the UK?</H3>\n",
    "<hr>"
   ]
  },
  {
   "cell_type": "code",
   "execution_count": 72,
   "id": "0e85c23c-ad54-4571-9737-8b111c08a936",
   "metadata": {},
   "outputs": [
    {
     "ename": "ModuleNotFoundError",
     "evalue": "No module named 'folium'",
     "output_type": "error",
     "traceback": [
      "\u001b[1;31m---------------------------------------------------------------------------\u001b[0m",
      "\u001b[1;31mModuleNotFoundError\u001b[0m                       Traceback (most recent call last)",
      "Cell \u001b[1;32mIn[72], line 1\u001b[0m\n\u001b[1;32m----> 1\u001b[0m \u001b[38;5;28;01mimport\u001b[39;00m \u001b[38;5;21;01mfolium\u001b[39;00m\n\u001b[0;32m      2\u001b[0m \u001b[38;5;28;01mfrom\u001b[39;00m \u001b[38;5;21;01mfolium\u001b[39;00m\u001b[38;5;21;01m.\u001b[39;00m\u001b[38;5;21;01mplugins\u001b[39;00m \u001b[38;5;28;01mimport\u001b[39;00m HeatMap\n\u001b[0;32m      4\u001b[0m \u001b[38;5;28mprint\u001b[39m(accident\u001b[38;5;241m.\u001b[39mcolumns)\n",
      "\u001b[1;31mModuleNotFoundError\u001b[0m: No module named 'folium'"
     ]
    }
   ],
   "source": [
    "import folium\n",
    "from folium.plugins import HeatMap\n",
    "\n",
    "print(accident.columns)\n",
    "\n",
    "accident = accident.dropna(subset=[\"Latitude\", \"Longitude\"])\n",
    "\n",
    "m = folium.Map(location=[54.5, -3], zoom_start=6, tiles=\"CartoDB positron\")\n",
    "\n",
    "heat_data = accident[[\"Latitude\", \"Longitude\"]].values.tolist()\n",
    "\n",
    "HeatMap(heat_data, radius=6, blur=8, max_zoom=12).add_to(m)\n",
    "\n",
    "m\n"
   ]
  },
  {
   "cell_type": "markdown",
   "id": "7c0f77fd-b050-41b5-a323-a77fda700910",
   "metadata": {},
   "source": [
    "<H2>INSIGHT:</H2>\n",
    "<H3>The heatmap reveals that road accidents are heavily concentrated in major UK cities like London, Birmingham, and Manchester, with fewer incidents in rural areas.</H3>\n",
    "<hr>"
   ]
  },
  {
   "cell_type": "code",
   "execution_count": null,
   "id": "ea9a7c1f-6b34-4c85-b9f6-49a3e9a30d06",
   "metadata": {},
   "outputs": [],
   "source": []
  },
  {
   "cell_type": "markdown",
   "id": "5035a37a-44b0-4513-b8c9-4cd90cc4bdf8",
   "metadata": {},
   "source": [
    "<h2>QUESTION 5</h2>\n",
    "<H3>What does the map reveal about where multi-vehicle collisions are most common?</H3>\n",
    "<hr>"
   ]
  },
  {
   "cell_type": "code",
   "execution_count": null,
   "id": "2bac758a-d0af-4e62-a5ee-d63855e47470",
   "metadata": {},
   "outputs": [],
   "source": [
    "multi_vehicle = accident[accident[\"Number_of_Vehicles\"] >= 3]\n",
    "\n",
    "m3 = folium.Map(location=[54.5, -3], zoom_start=6, tiles=\"CartoDB positron\")\n",
    "\n",
    "heat_data_multi = multi_vehicle[[\"Latitude\", \"Longitude\"]].values.tolist()\n",
    "HeatMap(heat_data_multi, radius=6, blur=8, max_zoom=12).add_to(m3)\n",
    "\n",
    "m3\n",
    "\n"
   ]
  },
  {
   "cell_type": "markdown",
   "id": "6b7d0347-0708-49eb-81bf-b5e0cba175cc",
   "metadata": {},
   "source": [
    "<H2>INSIGHT:</H2>\n",
    "<H3>The heatmap shows that multi-vehicle collisions are concentrated along busy motorway corridors and major urban junctions, highlighting areas where traffic congestion and speed contribute to higher accident severity.</H3>\n",
    "<hr>"
   ]
  },
  {
   "cell_type": "code",
   "execution_count": null,
   "id": "f232b0a6-2f67-46f7-8ecd-7dc93d8b83a2",
   "metadata": {},
   "outputs": [],
   "source": []
  },
  {
   "cell_type": "markdown",
   "id": "8a95ab90-2f5e-4806-a619-8136b1ce4520",
   "metadata": {},
   "source": [
    "<H2>QUESTION 6</H2>\n",
    "<H3>What areas show the most accidents in wet conditions?</H3>\n",
    "<hr>"
   ]
  },
  {
   "cell_type": "code",
   "execution_count": null,
   "id": "72bfe630-9ade-46ae-b31c-8a0c7835da8d",
   "metadata": {},
   "outputs": [],
   "source": [
    "rainy_accidents = accident[accident[\"Weather_Conditions\"].str.contains(\"Rain\", na=False)]\n",
    "\n",
    "m4 = folium.Map(location=[54.5, -3], zoom_start=6, tiles=\"CartoDB positron\")\n",
    "\n",
    "heat_data_rain = rainy_accidents[[\"Latitude\", \"Longitude\"]].values.tolist()\n",
    "HeatMap(heat_data_rain, radius=6, blur=8, max_zoom=12).add_to(m4)\n",
    "\n",
    "m4\n"
   ]
  },
  {
   "cell_type": "markdown",
   "id": "2b998283-8203-46e3-a538-dbcde743e212",
   "metadata": {},
   "source": [
    "<H2>INSIGHT:</H2>\n",
    "<H3>Rain related accidents are mostly concentrated in large cities and major roads, where heavy traffic and slippery surfaces increase risks.</H3>\n",
    "<hr>"
   ]
  },
  {
   "cell_type": "code",
   "execution_count": null,
   "id": "3cfc3fc0-8a19-49f2-aba4-6365cf02712b",
   "metadata": {},
   "outputs": [],
   "source": []
  }
 ],
 "metadata": {
  "kernelspec": {
   "display_name": "Python 3 (ipykernel)",
   "language": "python",
   "name": "python3"
  },
  "language_info": {
   "codemirror_mode": {
    "name": "ipython",
    "version": 3
   },
   "file_extension": ".py",
   "mimetype": "text/x-python",
   "name": "python",
   "nbconvert_exporter": "python",
   "pygments_lexer": "ipython3",
   "version": "3.13.1"
  }
 },
 "nbformat": 4,
 "nbformat_minor": 5
}
