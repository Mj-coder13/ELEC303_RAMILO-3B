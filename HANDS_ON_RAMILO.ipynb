{
 "cells": [
  {
   "cell_type": "markdown",
   "id": "6d5074bc-6285-4ed7-b1b8-036e31422b26",
   "metadata": {},
   "source": [
    "<h2>HANDS_ON MIDTERM EXAM</h2>\n",
    "<HR>\n",
    "<H3>ANALYST: MARK JAYSON D. RAMILO</H3>"
   ]
  },
  {
   "cell_type": "code",
   "execution_count": null,
   "id": "3276e8c8-7865-49b9-9da2-b8afeda2d821",
   "metadata": {},
   "outputs": [],
   "source": []
  },
  {
   "cell_type": "markdown",
   "id": "3294f7f4-1bd9-492a-a304-1a355ec93f91",
   "metadata": {},
   "source": [
    "<h2>1.) IMPORT NECESSARY LIBRARIES</h2>\n",
    "<hr>"
   ]
  },
  {
   "cell_type": "code",
   "execution_count": 9,
   "id": "cffdf056-7a81-484c-9856-a5f374e95bf1",
   "metadata": {},
   "outputs": [],
   "source": [
    "# import libraries\n",
    "import numpy as np\n",
    "import pandas as pd\n",
    "import seaborn as sns\n",
    "import matplotlib.pyplot as plt\n",
    "import warnings\n",
    "warnings.filterwarnings('ignore')"
   ]
  },
  {
   "cell_type": "code",
   "execution_count": null,
   "id": "15a03672-83df-4c39-ac11-4e53dd1aab26",
   "metadata": {},
   "outputs": [],
   "source": []
  },
  {
   "cell_type": "markdown",
   "id": "b131dcce-5731-4360-8e74-75e726c7ded9",
   "metadata": {},
   "source": [
    "<h2>2.) CONVERT DATASET TO DATAFRAME</h2>\n",
    "<hr>"
   ]
  },
  {
   "cell_type": "code",
   "execution_count": 10,
   "id": "c4ab5060-16c6-46c6-b06b-f75238d0f6d4",
   "metadata": {},
   "outputs": [
    {
     "data": {
      "text/html": [
       "<div>\n",
       "<style scoped>\n",
       "    .dataframe tbody tr th:only-of-type {\n",
       "        vertical-align: middle;\n",
       "    }\n",
       "\n",
       "    .dataframe tbody tr th {\n",
       "        vertical-align: top;\n",
       "    }\n",
       "\n",
       "    .dataframe thead th {\n",
       "        text-align: right;\n",
       "    }\n",
       "</style>\n",
       "<table border=\"1\" class=\"dataframe\">\n",
       "  <thead>\n",
       "    <tr style=\"text-align: right;\">\n",
       "      <th></th>\n",
       "      <th>ID</th>\n",
       "      <th>Case Number</th>\n",
       "      <th>Date</th>\n",
       "      <th>Block</th>\n",
       "      <th>IUCR</th>\n",
       "      <th>Primary Type</th>\n",
       "      <th>Description</th>\n",
       "      <th>Location Description</th>\n",
       "      <th>Arrest</th>\n",
       "      <th>Domestic</th>\n",
       "      <th>...</th>\n",
       "      <th>Ward</th>\n",
       "      <th>Community Area</th>\n",
       "      <th>FBI Code</th>\n",
       "      <th>X Coordinate</th>\n",
       "      <th>Y Coordinate</th>\n",
       "      <th>Year</th>\n",
       "      <th>Updated On</th>\n",
       "      <th>Latitude</th>\n",
       "      <th>Longitude</th>\n",
       "      <th>Location</th>\n",
       "    </tr>\n",
       "  </thead>\n",
       "  <tbody>\n",
       "    <tr>\n",
       "      <th>0</th>\n",
       "      <td>13439321</td>\n",
       "      <td>JH237424</td>\n",
       "      <td>04/14/2024 12:00:00 AM</td>\n",
       "      <td>040XX S PRAIRIE AVE</td>\n",
       "      <td>0890</td>\n",
       "      <td>THEFT</td>\n",
       "      <td>FROM BUILDING</td>\n",
       "      <td>APARTMENT</td>\n",
       "      <td>False</td>\n",
       "      <td>False</td>\n",
       "      <td>...</td>\n",
       "      <td>3</td>\n",
       "      <td>38.0</td>\n",
       "      <td>06</td>\n",
       "      <td>1178707.0</td>\n",
       "      <td>1878256.0</td>\n",
       "      <td>2024</td>\n",
       "      <td>12/21/2024 03:40:46 PM</td>\n",
       "      <td>41.821236</td>\n",
       "      <td>-87.619921</td>\n",
       "      <td>(41.821236024, -87.619920712)</td>\n",
       "    </tr>\n",
       "    <tr>\n",
       "      <th>1</th>\n",
       "      <td>13437420</td>\n",
       "      <td>JH234779</td>\n",
       "      <td>04/14/2024 12:00:00 AM</td>\n",
       "      <td>023XX W CERMAK RD</td>\n",
       "      <td>2825</td>\n",
       "      <td>OTHER OFFENSE</td>\n",
       "      <td>HARASSMENT BY TELEPHONE</td>\n",
       "      <td>COMMERCIAL / BUSINESS OFFICE</td>\n",
       "      <td>False</td>\n",
       "      <td>False</td>\n",
       "      <td>...</td>\n",
       "      <td>25</td>\n",
       "      <td>31.0</td>\n",
       "      <td>26</td>\n",
       "      <td>1161210.0</td>\n",
       "      <td>1889347.0</td>\n",
       "      <td>2024</td>\n",
       "      <td>12/21/2024 03:40:46 PM</td>\n",
       "      <td>41.852052</td>\n",
       "      <td>-87.683801</td>\n",
       "      <td>(41.852051675, -87.683800849)</td>\n",
       "    </tr>\n",
       "    <tr>\n",
       "      <th>2</th>\n",
       "      <td>13428676</td>\n",
       "      <td>JH224478</td>\n",
       "      <td>04/14/2024 12:00:00 AM</td>\n",
       "      <td>043XX W LE MOYNE ST</td>\n",
       "      <td>0917</td>\n",
       "      <td>MOTOR VEHICLE THEFT</td>\n",
       "      <td>CYCLE, SCOOTER, BIKE WITH VIN</td>\n",
       "      <td>STREET</td>\n",
       "      <td>False</td>\n",
       "      <td>False</td>\n",
       "      <td>...</td>\n",
       "      <td>36</td>\n",
       "      <td>23.0</td>\n",
       "      <td>07</td>\n",
       "      <td>1146960.0</td>\n",
       "      <td>1909501.0</td>\n",
       "      <td>2024</td>\n",
       "      <td>12/21/2024 03:40:46 PM</td>\n",
       "      <td>41.907640</td>\n",
       "      <td>-87.735587</td>\n",
       "      <td>(41.907640473, -87.735587478)</td>\n",
       "    </tr>\n",
       "    <tr>\n",
       "      <th>3</th>\n",
       "      <td>13429357</td>\n",
       "      <td>JH225293</td>\n",
       "      <td>04/14/2024 12:00:00 AM</td>\n",
       "      <td>039XX W ADAMS ST</td>\n",
       "      <td>143A</td>\n",
       "      <td>WEAPONS VIOLATION</td>\n",
       "      <td>UNLAWFUL POSSESSION - HANDGUN</td>\n",
       "      <td>STREET</td>\n",
       "      <td>True</td>\n",
       "      <td>False</td>\n",
       "      <td>...</td>\n",
       "      <td>28</td>\n",
       "      <td>26.0</td>\n",
       "      <td>15</td>\n",
       "      <td>1150158.0</td>\n",
       "      <td>1898721.0</td>\n",
       "      <td>2024</td>\n",
       "      <td>12/21/2024 03:40:46 PM</td>\n",
       "      <td>41.877997</td>\n",
       "      <td>-87.724121</td>\n",
       "      <td>(41.877997275, -87.724120826)</td>\n",
       "    </tr>\n",
       "    <tr>\n",
       "      <th>4</th>\n",
       "      <td>13430098</td>\n",
       "      <td>JH226395</td>\n",
       "      <td>04/14/2024 12:00:00 AM</td>\n",
       "      <td>011XX W 112TH PL</td>\n",
       "      <td>0890</td>\n",
       "      <td>THEFT</td>\n",
       "      <td>FROM BUILDING</td>\n",
       "      <td>RESIDENCE</td>\n",
       "      <td>False</td>\n",
       "      <td>False</td>\n",
       "      <td>...</td>\n",
       "      <td>21</td>\n",
       "      <td>75.0</td>\n",
       "      <td>06</td>\n",
       "      <td>1170856.0</td>\n",
       "      <td>1830157.0</td>\n",
       "      <td>2024</td>\n",
       "      <td>12/21/2024 03:40:46 PM</td>\n",
       "      <td>41.689421</td>\n",
       "      <td>-87.650123</td>\n",
       "      <td>(41.6894214, -87.650123247)</td>\n",
       "    </tr>\n",
       "    <tr>\n",
       "      <th>...</th>\n",
       "      <td>...</td>\n",
       "      <td>...</td>\n",
       "      <td>...</td>\n",
       "      <td>...</td>\n",
       "      <td>...</td>\n",
       "      <td>...</td>\n",
       "      <td>...</td>\n",
       "      <td>...</td>\n",
       "      <td>...</td>\n",
       "      <td>...</td>\n",
       "      <td>...</td>\n",
       "      <td>...</td>\n",
       "      <td>...</td>\n",
       "      <td>...</td>\n",
       "      <td>...</td>\n",
       "      <td>...</td>\n",
       "      <td>...</td>\n",
       "      <td>...</td>\n",
       "      <td>...</td>\n",
       "      <td>...</td>\n",
       "      <td>...</td>\n",
       "    </tr>\n",
       "    <tr>\n",
       "      <th>249118</th>\n",
       "      <td>13805239</td>\n",
       "      <td>JJ217509</td>\n",
       "      <td>04/12/2025 12:00:00 AM</td>\n",
       "      <td>029XX W LOGAN BLVD</td>\n",
       "      <td>2826</td>\n",
       "      <td>OTHER OFFENSE</td>\n",
       "      <td>HARASSMENT BY ELECTRONIC MEANS</td>\n",
       "      <td>APARTMENT</td>\n",
       "      <td>False</td>\n",
       "      <td>False</td>\n",
       "      <td>...</td>\n",
       "      <td>1</td>\n",
       "      <td>22.0</td>\n",
       "      <td>26</td>\n",
       "      <td>1156478.0</td>\n",
       "      <td>1917149.0</td>\n",
       "      <td>2025</td>\n",
       "      <td>04/19/2025 03:41:24 PM</td>\n",
       "      <td>41.928440</td>\n",
       "      <td>-87.700416</td>\n",
       "      <td>(41.928439867, -87.700415972)</td>\n",
       "    </tr>\n",
       "    <tr>\n",
       "      <th>249119</th>\n",
       "      <td>13804023</td>\n",
       "      <td>JJ215813</td>\n",
       "      <td>04/12/2025 12:00:00 AM</td>\n",
       "      <td>094XX S HARVARD AVE</td>\n",
       "      <td>0430</td>\n",
       "      <td>BATTERY</td>\n",
       "      <td>AGGRAVATED - OTHER DANGEROUS WEAPON</td>\n",
       "      <td>STREET</td>\n",
       "      <td>False</td>\n",
       "      <td>False</td>\n",
       "      <td>...</td>\n",
       "      <td>9</td>\n",
       "      <td>49.0</td>\n",
       "      <td>04B</td>\n",
       "      <td>1175694.0</td>\n",
       "      <td>1842631.0</td>\n",
       "      <td>2025</td>\n",
       "      <td>04/19/2025 03:41:24 PM</td>\n",
       "      <td>41.723545</td>\n",
       "      <td>-87.632040</td>\n",
       "      <td>(41.723545182, -87.632039508)</td>\n",
       "    </tr>\n",
       "    <tr>\n",
       "      <th>249120</th>\n",
       "      <td>13803926</td>\n",
       "      <td>JJ215943</td>\n",
       "      <td>04/12/2025 12:00:00 AM</td>\n",
       "      <td>084XX S VINCENNES AVE</td>\n",
       "      <td>0486</td>\n",
       "      <td>BATTERY</td>\n",
       "      <td>DOMESTIC BATTERY SIMPLE</td>\n",
       "      <td>APARTMENT</td>\n",
       "      <td>False</td>\n",
       "      <td>True</td>\n",
       "      <td>...</td>\n",
       "      <td>21</td>\n",
       "      <td>71.0</td>\n",
       "      <td>08B</td>\n",
       "      <td>1173850.0</td>\n",
       "      <td>1848976.0</td>\n",
       "      <td>2025</td>\n",
       "      <td>04/19/2025 03:41:24 PM</td>\n",
       "      <td>41.740998</td>\n",
       "      <td>-87.638606</td>\n",
       "      <td>(41.74099774, -87.638606337)</td>\n",
       "    </tr>\n",
       "    <tr>\n",
       "      <th>249121</th>\n",
       "      <td>13803475</td>\n",
       "      <td>JJ215338</td>\n",
       "      <td>04/12/2025 12:00:00 AM</td>\n",
       "      <td>050XX S ABERDEEN ST</td>\n",
       "      <td>0530</td>\n",
       "      <td>ASSAULT</td>\n",
       "      <td>AGGRAVATED - OTHER DANGEROUS WEAPON</td>\n",
       "      <td>STREET</td>\n",
       "      <td>True</td>\n",
       "      <td>False</td>\n",
       "      <td>...</td>\n",
       "      <td>20</td>\n",
       "      <td>61.0</td>\n",
       "      <td>04A</td>\n",
       "      <td>1169838.0</td>\n",
       "      <td>1871348.0</td>\n",
       "      <td>2025</td>\n",
       "      <td>04/19/2025 03:41:24 PM</td>\n",
       "      <td>41.802477</td>\n",
       "      <td>-87.652657</td>\n",
       "      <td>(41.802477219, -87.652657244)</td>\n",
       "    </tr>\n",
       "    <tr>\n",
       "      <th>249122</th>\n",
       "      <td>13804512</td>\n",
       "      <td>JJ216668</td>\n",
       "      <td>04/12/2025 12:00:00 AM</td>\n",
       "      <td>012XX W CARROLL AVE</td>\n",
       "      <td>0710</td>\n",
       "      <td>THEFT</td>\n",
       "      <td>THEFT FROM MOTOR VEHICLE</td>\n",
       "      <td>STREET</td>\n",
       "      <td>False</td>\n",
       "      <td>False</td>\n",
       "      <td>...</td>\n",
       "      <td>27</td>\n",
       "      <td>28.0</td>\n",
       "      <td>06</td>\n",
       "      <td>1168216.0</td>\n",
       "      <td>1902390.0</td>\n",
       "      <td>2025</td>\n",
       "      <td>04/19/2025 03:41:24 PM</td>\n",
       "      <td>41.887694</td>\n",
       "      <td>-87.657710</td>\n",
       "      <td>(41.887694407, -87.657710204)</td>\n",
       "    </tr>\n",
       "  </tbody>\n",
       "</table>\n",
       "<p>249123 rows × 22 columns</p>\n",
       "</div>"
      ],
      "text/plain": [
       "              ID Case Number                    Date                  Block  \\\n",
       "0       13439321    JH237424  04/14/2024 12:00:00 AM    040XX S PRAIRIE AVE   \n",
       "1       13437420    JH234779  04/14/2024 12:00:00 AM      023XX W CERMAK RD   \n",
       "2       13428676    JH224478  04/14/2024 12:00:00 AM    043XX W LE MOYNE ST   \n",
       "3       13429357    JH225293  04/14/2024 12:00:00 AM       039XX W ADAMS ST   \n",
       "4       13430098    JH226395  04/14/2024 12:00:00 AM       011XX W 112TH PL   \n",
       "...          ...         ...                     ...                    ...   \n",
       "249118  13805239    JJ217509  04/12/2025 12:00:00 AM     029XX W LOGAN BLVD   \n",
       "249119  13804023    JJ215813  04/12/2025 12:00:00 AM    094XX S HARVARD AVE   \n",
       "249120  13803926    JJ215943  04/12/2025 12:00:00 AM  084XX S VINCENNES AVE   \n",
       "249121  13803475    JJ215338  04/12/2025 12:00:00 AM    050XX S ABERDEEN ST   \n",
       "249122  13804512    JJ216668  04/12/2025 12:00:00 AM    012XX W CARROLL AVE   \n",
       "\n",
       "        IUCR         Primary Type                          Description  \\\n",
       "0       0890                THEFT                        FROM BUILDING   \n",
       "1       2825        OTHER OFFENSE              HARASSMENT BY TELEPHONE   \n",
       "2       0917  MOTOR VEHICLE THEFT        CYCLE, SCOOTER, BIKE WITH VIN   \n",
       "3       143A    WEAPONS VIOLATION        UNLAWFUL POSSESSION - HANDGUN   \n",
       "4       0890                THEFT                        FROM BUILDING   \n",
       "...      ...                  ...                                  ...   \n",
       "249118  2826        OTHER OFFENSE       HARASSMENT BY ELECTRONIC MEANS   \n",
       "249119  0430              BATTERY  AGGRAVATED - OTHER DANGEROUS WEAPON   \n",
       "249120  0486              BATTERY              DOMESTIC BATTERY SIMPLE   \n",
       "249121  0530              ASSAULT  AGGRAVATED - OTHER DANGEROUS WEAPON   \n",
       "249122  0710                THEFT             THEFT FROM MOTOR VEHICLE   \n",
       "\n",
       "                Location Description  Arrest  Domestic  ...  Ward  \\\n",
       "0                          APARTMENT   False     False  ...     3   \n",
       "1       COMMERCIAL / BUSINESS OFFICE   False     False  ...    25   \n",
       "2                             STREET   False     False  ...    36   \n",
       "3                             STREET    True     False  ...    28   \n",
       "4                          RESIDENCE   False     False  ...    21   \n",
       "...                              ...     ...       ...  ...   ...   \n",
       "249118                     APARTMENT   False     False  ...     1   \n",
       "249119                        STREET   False     False  ...     9   \n",
       "249120                     APARTMENT   False      True  ...    21   \n",
       "249121                        STREET    True     False  ...    20   \n",
       "249122                        STREET   False     False  ...    27   \n",
       "\n",
       "        Community Area  FBI Code  X Coordinate Y Coordinate  Year  \\\n",
       "0                 38.0        06     1178707.0    1878256.0  2024   \n",
       "1                 31.0        26     1161210.0    1889347.0  2024   \n",
       "2                 23.0        07     1146960.0    1909501.0  2024   \n",
       "3                 26.0        15     1150158.0    1898721.0  2024   \n",
       "4                 75.0        06     1170856.0    1830157.0  2024   \n",
       "...                ...       ...           ...          ...   ...   \n",
       "249118            22.0        26     1156478.0    1917149.0  2025   \n",
       "249119            49.0       04B     1175694.0    1842631.0  2025   \n",
       "249120            71.0       08B     1173850.0    1848976.0  2025   \n",
       "249121            61.0       04A     1169838.0    1871348.0  2025   \n",
       "249122            28.0        06     1168216.0    1902390.0  2025   \n",
       "\n",
       "                    Updated On   Latitude  Longitude  \\\n",
       "0       12/21/2024 03:40:46 PM  41.821236 -87.619921   \n",
       "1       12/21/2024 03:40:46 PM  41.852052 -87.683801   \n",
       "2       12/21/2024 03:40:46 PM  41.907640 -87.735587   \n",
       "3       12/21/2024 03:40:46 PM  41.877997 -87.724121   \n",
       "4       12/21/2024 03:40:46 PM  41.689421 -87.650123   \n",
       "...                        ...        ...        ...   \n",
       "249118  04/19/2025 03:41:24 PM  41.928440 -87.700416   \n",
       "249119  04/19/2025 03:41:24 PM  41.723545 -87.632040   \n",
       "249120  04/19/2025 03:41:24 PM  41.740998 -87.638606   \n",
       "249121  04/19/2025 03:41:24 PM  41.802477 -87.652657   \n",
       "249122  04/19/2025 03:41:24 PM  41.887694 -87.657710   \n",
       "\n",
       "                             Location  \n",
       "0       (41.821236024, -87.619920712)  \n",
       "1       (41.852051675, -87.683800849)  \n",
       "2       (41.907640473, -87.735587478)  \n",
       "3       (41.877997275, -87.724120826)  \n",
       "4         (41.6894214, -87.650123247)  \n",
       "...                               ...  \n",
       "249118  (41.928439867, -87.700415972)  \n",
       "249119  (41.723545182, -87.632039508)  \n",
       "249120   (41.74099774, -87.638606337)  \n",
       "249121  (41.802477219, -87.652657244)  \n",
       "249122  (41.887694407, -87.657710204)  \n",
       "\n",
       "[249123 rows x 22 columns]"
      ]
     },
     "execution_count": 10,
     "metadata": {},
     "output_type": "execute_result"
    }
   ],
   "source": [
    "df = pd.read_csv(\"C:\\\\Users\\\\DESIREE\\\\Downloads\\\\Chicago_Crimes.csv\")\n",
    "df"
   ]
  },
  {
   "cell_type": "code",
   "execution_count": null,
   "id": "49d9732d-dbb0-4884-a21a-60865acaf5c1",
   "metadata": {},
   "outputs": [],
   "source": []
  },
  {
   "cell_type": "markdown",
   "id": "dcb1967f-7716-4afa-b27d-2e140c15c180",
   "metadata": {},
   "source": [
    "<H3>3.) CHECK DATAFRAME AND INFORMATION</H3>\n",
    "<hr>"
   ]
  },
  {
   "cell_type": "code",
   "execution_count": 11,
   "id": "f3454f46-aacf-46a9-9fca-4613b143d651",
   "metadata": {},
   "outputs": [
    {
     "name": "stdout",
     "output_type": "stream",
     "text": [
      "<class 'pandas.core.frame.DataFrame'>\n",
      "RangeIndex: 249123 entries, 0 to 249122\n",
      "Data columns (total 22 columns):\n",
      " #   Column                Non-Null Count   Dtype  \n",
      "---  ------                --------------   -----  \n",
      " 0   ID                    249123 non-null  int64  \n",
      " 1   Case Number           249123 non-null  object \n",
      " 2   Date                  249123 non-null  object \n",
      " 3   Block                 249123 non-null  object \n",
      " 4   IUCR                  249123 non-null  object \n",
      " 5   Primary Type          249123 non-null  object \n",
      " 6   Description           249123 non-null  object \n",
      " 7   Location Description  248266 non-null  object \n",
      " 8   Arrest                249123 non-null  bool   \n",
      " 9   Domestic              249123 non-null  bool   \n",
      " 10  Beat                  249123 non-null  int64  \n",
      " 11  District              249123 non-null  int64  \n",
      " 12  Ward                  249123 non-null  int64  \n",
      " 13  Community Area        249120 non-null  float64\n",
      " 14  FBI Code              249123 non-null  object \n",
      " 15  X Coordinate          249033 non-null  float64\n",
      " 16  Y Coordinate          249033 non-null  float64\n",
      " 17  Year                  249123 non-null  int64  \n",
      " 18  Updated On            249123 non-null  object \n",
      " 19  Latitude              249033 non-null  float64\n",
      " 20  Longitude             249033 non-null  float64\n",
      " 21  Location              249033 non-null  object \n",
      "dtypes: bool(2), float64(5), int64(5), object(10)\n",
      "memory usage: 38.5+ MB\n"
     ]
    }
   ],
   "source": [
    "df.info()"
   ]
  },
  {
   "cell_type": "markdown",
   "id": "3823bf27-0c6d-41f4-b7b2-0afb820028fb",
   "metadata": {},
   "source": [
    "<H2>4.) CHECK BASIC DESCRIPTIVE STATISTICS</H2>\n",
    "<hr>"
   ]
  },
  {
   "cell_type": "code",
   "execution_count": 12,
   "id": "396f16a0-cd05-42e3-831b-4a4dc7a76d28",
   "metadata": {},
   "outputs": [
    {
     "data": {
      "text/html": [
       "<div>\n",
       "<style scoped>\n",
       "    .dataframe tbody tr th:only-of-type {\n",
       "        vertical-align: middle;\n",
       "    }\n",
       "\n",
       "    .dataframe tbody tr th {\n",
       "        vertical-align: top;\n",
       "    }\n",
       "\n",
       "    .dataframe thead th {\n",
       "        text-align: right;\n",
       "    }\n",
       "</style>\n",
       "<table border=\"1\" class=\"dataframe\">\n",
       "  <thead>\n",
       "    <tr style=\"text-align: right;\">\n",
       "      <th></th>\n",
       "      <th>ID</th>\n",
       "      <th>Beat</th>\n",
       "      <th>District</th>\n",
       "      <th>Ward</th>\n",
       "      <th>Community Area</th>\n",
       "      <th>X Coordinate</th>\n",
       "      <th>Y Coordinate</th>\n",
       "      <th>Year</th>\n",
       "      <th>Latitude</th>\n",
       "      <th>Longitude</th>\n",
       "    </tr>\n",
       "  </thead>\n",
       "  <tbody>\n",
       "    <tr>\n",
       "      <th>count</th>\n",
       "      <td>2.491230e+05</td>\n",
       "      <td>249123.000000</td>\n",
       "      <td>249123.000000</td>\n",
       "      <td>249123.000000</td>\n",
       "      <td>249120.000000</td>\n",
       "      <td>2.490330e+05</td>\n",
       "      <td>2.490330e+05</td>\n",
       "      <td>249123.000000</td>\n",
       "      <td>249033.000000</td>\n",
       "      <td>249033.000000</td>\n",
       "    </tr>\n",
       "    <tr>\n",
       "      <th>mean</th>\n",
       "      <td>1.358652e+07</td>\n",
       "      <td>1153.845634</td>\n",
       "      <td>11.308924</td>\n",
       "      <td>23.186823</td>\n",
       "      <td>36.238560</td>\n",
       "      <td>1.165309e+06</td>\n",
       "      <td>1.887602e+06</td>\n",
       "      <td>2024.241668</td>\n",
       "      <td>41.847162</td>\n",
       "      <td>-87.668845</td>\n",
       "    </tr>\n",
       "    <tr>\n",
       "      <th>std</th>\n",
       "      <td>6.473192e+05</td>\n",
       "      <td>707.959752</td>\n",
       "      <td>7.074807</td>\n",
       "      <td>13.925951</td>\n",
       "      <td>21.567485</td>\n",
       "      <td>1.616814e+04</td>\n",
       "      <td>3.146277e+04</td>\n",
       "      <td>0.428095</td>\n",
       "      <td>0.086517</td>\n",
       "      <td>0.058875</td>\n",
       "    </tr>\n",
       "    <tr>\n",
       "      <th>min</th>\n",
       "      <td>2.807300e+04</td>\n",
       "      <td>111.000000</td>\n",
       "      <td>1.000000</td>\n",
       "      <td>1.000000</td>\n",
       "      <td>1.000000</td>\n",
       "      <td>1.092647e+06</td>\n",
       "      <td>1.813897e+06</td>\n",
       "      <td>2024.000000</td>\n",
       "      <td>41.644590</td>\n",
       "      <td>-87.934567</td>\n",
       "    </tr>\n",
       "    <tr>\n",
       "      <th>25%</th>\n",
       "      <td>1.352322e+07</td>\n",
       "      <td>533.000000</td>\n",
       "      <td>5.000000</td>\n",
       "      <td>10.000000</td>\n",
       "      <td>22.000000</td>\n",
       "      <td>1.153981e+06</td>\n",
       "      <td>1.860560e+06</td>\n",
       "      <td>2024.000000</td>\n",
       "      <td>41.772706</td>\n",
       "      <td>-87.710071</td>\n",
       "    </tr>\n",
       "    <tr>\n",
       "      <th>50%</th>\n",
       "      <td>1.361560e+07</td>\n",
       "      <td>1034.000000</td>\n",
       "      <td>10.000000</td>\n",
       "      <td>23.000000</td>\n",
       "      <td>32.000000</td>\n",
       "      <td>1.167190e+06</td>\n",
       "      <td>1.894278e+06</td>\n",
       "      <td>2024.000000</td>\n",
       "      <td>41.865616</td>\n",
       "      <td>-87.661690</td>\n",
       "    </tr>\n",
       "    <tr>\n",
       "      <th>75%</th>\n",
       "      <td>1.370865e+07</td>\n",
       "      <td>1732.000000</td>\n",
       "      <td>17.000000</td>\n",
       "      <td>34.000000</td>\n",
       "      <td>53.000000</td>\n",
       "      <td>1.176662e+06</td>\n",
       "      <td>1.910282e+06</td>\n",
       "      <td>2024.000000</td>\n",
       "      <td>41.909711</td>\n",
       "      <td>-87.627233</td>\n",
       "    </tr>\n",
       "    <tr>\n",
       "      <th>max</th>\n",
       "      <td>1.381045e+07</td>\n",
       "      <td>2535.000000</td>\n",
       "      <td>31.000000</td>\n",
       "      <td>50.000000</td>\n",
       "      <td>77.000000</td>\n",
       "      <td>1.205119e+06</td>\n",
       "      <td>1.951517e+06</td>\n",
       "      <td>2025.000000</td>\n",
       "      <td>42.022559</td>\n",
       "      <td>-87.524531</td>\n",
       "    </tr>\n",
       "  </tbody>\n",
       "</table>\n",
       "</div>"
      ],
      "text/plain": [
       "                 ID           Beat       District           Ward  \\\n",
       "count  2.491230e+05  249123.000000  249123.000000  249123.000000   \n",
       "mean   1.358652e+07    1153.845634      11.308924      23.186823   \n",
       "std    6.473192e+05     707.959752       7.074807      13.925951   \n",
       "min    2.807300e+04     111.000000       1.000000       1.000000   \n",
       "25%    1.352322e+07     533.000000       5.000000      10.000000   \n",
       "50%    1.361560e+07    1034.000000      10.000000      23.000000   \n",
       "75%    1.370865e+07    1732.000000      17.000000      34.000000   \n",
       "max    1.381045e+07    2535.000000      31.000000      50.000000   \n",
       "\n",
       "       Community Area  X Coordinate  Y Coordinate           Year  \\\n",
       "count   249120.000000  2.490330e+05  2.490330e+05  249123.000000   \n",
       "mean        36.238560  1.165309e+06  1.887602e+06    2024.241668   \n",
       "std         21.567485  1.616814e+04  3.146277e+04       0.428095   \n",
       "min          1.000000  1.092647e+06  1.813897e+06    2024.000000   \n",
       "25%         22.000000  1.153981e+06  1.860560e+06    2024.000000   \n",
       "50%         32.000000  1.167190e+06  1.894278e+06    2024.000000   \n",
       "75%         53.000000  1.176662e+06  1.910282e+06    2024.000000   \n",
       "max         77.000000  1.205119e+06  1.951517e+06    2025.000000   \n",
       "\n",
       "            Latitude      Longitude  \n",
       "count  249033.000000  249033.000000  \n",
       "mean       41.847162     -87.668845  \n",
       "std         0.086517       0.058875  \n",
       "min        41.644590     -87.934567  \n",
       "25%        41.772706     -87.710071  \n",
       "50%        41.865616     -87.661690  \n",
       "75%        41.909711     -87.627233  \n",
       "max        42.022559     -87.524531  "
      ]
     },
     "execution_count": 12,
     "metadata": {},
     "output_type": "execute_result"
    }
   ],
   "source": [
    "df.describe()"
   ]
  },
  {
   "cell_type": "markdown",
   "id": "05f6000d-6523-4be2-af68-1cc238b79a48",
   "metadata": {},
   "source": [
    "<h2>5.) CALL EACH COLUMN INDIVIDUALLY</h2>\n",
    "<hr>"
   ]
  },
  {
   "cell_type": "code",
   "execution_count": 13,
   "id": "a086e2c9-e916-4c94-9627-b265c358297c",
   "metadata": {},
   "outputs": [
    {
     "data": {
      "text/plain": [
       "0         13439321\n",
       "1         13437420\n",
       "2         13428676\n",
       "3         13429357\n",
       "4         13430098\n",
       "            ...   \n",
       "249118    13805239\n",
       "249119    13804023\n",
       "249120    13803926\n",
       "249121    13803475\n",
       "249122    13804512\n",
       "Name: ID, Length: 249123, dtype: int64"
      ]
     },
     "execution_count": 13,
     "metadata": {},
     "output_type": "execute_result"
    }
   ],
   "source": [
    "df['ID']"
   ]
  },
  {
   "cell_type": "code",
   "execution_count": 14,
   "id": "834bbc8c-1f08-403f-8c07-0036d1b7aaf6",
   "metadata": {},
   "outputs": [
    {
     "data": {
      "text/plain": [
       "0         JH237424\n",
       "1         JH234779\n",
       "2         JH224478\n",
       "3         JH225293\n",
       "4         JH226395\n",
       "            ...   \n",
       "249118    JJ217509\n",
       "249119    JJ215813\n",
       "249120    JJ215943\n",
       "249121    JJ215338\n",
       "249122    JJ216668\n",
       "Name: Case Number, Length: 249123, dtype: object"
      ]
     },
     "execution_count": 14,
     "metadata": {},
     "output_type": "execute_result"
    }
   ],
   "source": [
    "df['Case Number']"
   ]
  },
  {
   "cell_type": "code",
   "execution_count": 15,
   "id": "87a0a4d0-e1de-48e0-a794-61c3a2f32aac",
   "metadata": {},
   "outputs": [
    {
     "data": {
      "text/plain": [
       "0         04/14/2024 12:00:00 AM\n",
       "1         04/14/2024 12:00:00 AM\n",
       "2         04/14/2024 12:00:00 AM\n",
       "3         04/14/2024 12:00:00 AM\n",
       "4         04/14/2024 12:00:00 AM\n",
       "                   ...          \n",
       "249118    04/12/2025 12:00:00 AM\n",
       "249119    04/12/2025 12:00:00 AM\n",
       "249120    04/12/2025 12:00:00 AM\n",
       "249121    04/12/2025 12:00:00 AM\n",
       "249122    04/12/2025 12:00:00 AM\n",
       "Name: Date, Length: 249123, dtype: object"
      ]
     },
     "execution_count": 15,
     "metadata": {},
     "output_type": "execute_result"
    }
   ],
   "source": [
    "df['Date']"
   ]
  },
  {
   "cell_type": "code",
   "execution_count": 16,
   "id": "19645de3-de88-46c0-87ef-128e64448899",
   "metadata": {},
   "outputs": [
    {
     "data": {
      "text/plain": [
       "0           040XX S PRAIRIE AVE\n",
       "1             023XX W CERMAK RD\n",
       "2           043XX W LE MOYNE ST\n",
       "3              039XX W ADAMS ST\n",
       "4              011XX W 112TH PL\n",
       "                  ...          \n",
       "249118       029XX W LOGAN BLVD\n",
       "249119      094XX S HARVARD AVE\n",
       "249120    084XX S VINCENNES AVE\n",
       "249121      050XX S ABERDEEN ST\n",
       "249122      012XX W CARROLL AVE\n",
       "Name: Block, Length: 249123, dtype: object"
      ]
     },
     "execution_count": 16,
     "metadata": {},
     "output_type": "execute_result"
    }
   ],
   "source": [
    "df['Block']"
   ]
  },
  {
   "cell_type": "code",
   "execution_count": 17,
   "id": "ca7a434b-4750-4872-bea3-e57767db718a",
   "metadata": {},
   "outputs": [
    {
     "data": {
      "text/plain": [
       "0         0890\n",
       "1         2825\n",
       "2         0917\n",
       "3         143A\n",
       "4         0890\n",
       "          ... \n",
       "249118    2826\n",
       "249119    0430\n",
       "249120    0486\n",
       "249121    0530\n",
       "249122    0710\n",
       "Name: IUCR, Length: 249123, dtype: object"
      ]
     },
     "execution_count": 17,
     "metadata": {},
     "output_type": "execute_result"
    }
   ],
   "source": [
    "df['IUCR']"
   ]
  },
  {
   "cell_type": "code",
   "execution_count": 18,
   "id": "c9a0ac4c-f644-45cd-af10-ebfc2c17e48d",
   "metadata": {},
   "outputs": [
    {
     "data": {
      "text/plain": [
       "0                       THEFT\n",
       "1               OTHER OFFENSE\n",
       "2         MOTOR VEHICLE THEFT\n",
       "3           WEAPONS VIOLATION\n",
       "4                       THEFT\n",
       "                 ...         \n",
       "249118          OTHER OFFENSE\n",
       "249119                BATTERY\n",
       "249120                BATTERY\n",
       "249121                ASSAULT\n",
       "249122                  THEFT\n",
       "Name: Primary Type, Length: 249123, dtype: object"
      ]
     },
     "execution_count": 18,
     "metadata": {},
     "output_type": "execute_result"
    }
   ],
   "source": [
    "df['Primary Type']"
   ]
  },
  {
   "cell_type": "code",
   "execution_count": 19,
   "id": "83ade506-3088-4ace-979d-baa39cbb6536",
   "metadata": {},
   "outputs": [
    {
     "data": {
      "text/plain": [
       "0                               FROM BUILDING\n",
       "1                     HARASSMENT BY TELEPHONE\n",
       "2               CYCLE, SCOOTER, BIKE WITH VIN\n",
       "3               UNLAWFUL POSSESSION - HANDGUN\n",
       "4                               FROM BUILDING\n",
       "                         ...                 \n",
       "249118         HARASSMENT BY ELECTRONIC MEANS\n",
       "249119    AGGRAVATED - OTHER DANGEROUS WEAPON\n",
       "249120                DOMESTIC BATTERY SIMPLE\n",
       "249121    AGGRAVATED - OTHER DANGEROUS WEAPON\n",
       "249122               THEFT FROM MOTOR VEHICLE\n",
       "Name: Description, Length: 249123, dtype: object"
      ]
     },
     "execution_count": 19,
     "metadata": {},
     "output_type": "execute_result"
    }
   ],
   "source": [
    "df['Description']"
   ]
  },
  {
   "cell_type": "code",
   "execution_count": 20,
   "id": "0b1c508e-28a6-4379-b84a-b8976c3dbadb",
   "metadata": {},
   "outputs": [
    {
     "data": {
      "text/plain": [
       "0                            APARTMENT\n",
       "1         COMMERCIAL / BUSINESS OFFICE\n",
       "2                               STREET\n",
       "3                               STREET\n",
       "4                            RESIDENCE\n",
       "                      ...             \n",
       "249118                       APARTMENT\n",
       "249119                          STREET\n",
       "249120                       APARTMENT\n",
       "249121                          STREET\n",
       "249122                          STREET\n",
       "Name: Location Description, Length: 249123, dtype: object"
      ]
     },
     "execution_count": 20,
     "metadata": {},
     "output_type": "execute_result"
    }
   ],
   "source": [
    "df['Location Description']"
   ]
  },
  {
   "cell_type": "code",
   "execution_count": 21,
   "id": "7fa2f131-6a3d-49f1-bb9b-687289e5b9c2",
   "metadata": {},
   "outputs": [
    {
     "data": {
      "text/plain": [
       "0         False\n",
       "1         False\n",
       "2         False\n",
       "3          True\n",
       "4         False\n",
       "          ...  \n",
       "249118    False\n",
       "249119    False\n",
       "249120    False\n",
       "249121     True\n",
       "249122    False\n",
       "Name: Arrest, Length: 249123, dtype: bool"
      ]
     },
     "execution_count": 21,
     "metadata": {},
     "output_type": "execute_result"
    }
   ],
   "source": [
    "df['Arrest']"
   ]
  },
  {
   "cell_type": "code",
   "execution_count": 22,
   "id": "e3109e26-8f9a-4d70-aba2-77d4899d0afd",
   "metadata": {},
   "outputs": [
    {
     "data": {
      "text/plain": [
       "0         False\n",
       "1         False\n",
       "2         False\n",
       "3         False\n",
       "4         False\n",
       "          ...  \n",
       "249118    False\n",
       "249119    False\n",
       "249120     True\n",
       "249121    False\n",
       "249122    False\n",
       "Name: Domestic, Length: 249123, dtype: bool"
      ]
     },
     "execution_count": 22,
     "metadata": {},
     "output_type": "execute_result"
    }
   ],
   "source": [
    "df['Domestic']"
   ]
  },
  {
   "cell_type": "code",
   "execution_count": 23,
   "id": "ef447ddd-753b-4afc-9ac9-c30c9d64618d",
   "metadata": {},
   "outputs": [
    {
     "data": {
      "text/plain": [
       "0          213\n",
       "1         1034\n",
       "2         2534\n",
       "3         1122\n",
       "4         2234\n",
       "          ... \n",
       "249118    1414\n",
       "249119     634\n",
       "249120     622\n",
       "249121     933\n",
       "249122    1215\n",
       "Name: Beat, Length: 249123, dtype: int64"
      ]
     },
     "execution_count": 23,
     "metadata": {},
     "output_type": "execute_result"
    }
   ],
   "source": [
    "df['Beat']"
   ]
  },
  {
   "cell_type": "code",
   "execution_count": 24,
   "id": "7bc5c306-7d8d-4e38-ae56-f50dd96f805c",
   "metadata": {},
   "outputs": [
    {
     "data": {
      "text/plain": [
       "0          2\n",
       "1         10\n",
       "2         25\n",
       "3         11\n",
       "4         22\n",
       "          ..\n",
       "249118    14\n",
       "249119     6\n",
       "249120     6\n",
       "249121     9\n",
       "249122    12\n",
       "Name: District, Length: 249123, dtype: int64"
      ]
     },
     "execution_count": 24,
     "metadata": {},
     "output_type": "execute_result"
    }
   ],
   "source": [
    "df['District']"
   ]
  },
  {
   "cell_type": "code",
   "execution_count": 25,
   "id": "2fb3f8cb-1715-42a4-80ee-da9a267d8249",
   "metadata": {},
   "outputs": [
    {
     "data": {
      "text/plain": [
       "0          3\n",
       "1         25\n",
       "2         36\n",
       "3         28\n",
       "4         21\n",
       "          ..\n",
       "249118     1\n",
       "249119     9\n",
       "249120    21\n",
       "249121    20\n",
       "249122    27\n",
       "Name: Ward, Length: 249123, dtype: int64"
      ]
     },
     "execution_count": 25,
     "metadata": {},
     "output_type": "execute_result"
    }
   ],
   "source": [
    "df['Ward']"
   ]
  },
  {
   "cell_type": "code",
   "execution_count": 26,
   "id": "e84e6bde-b645-4968-b2fc-a2b86f992601",
   "metadata": {},
   "outputs": [
    {
     "data": {
      "text/plain": [
       "0         38.0\n",
       "1         31.0\n",
       "2         23.0\n",
       "3         26.0\n",
       "4         75.0\n",
       "          ... \n",
       "249118    22.0\n",
       "249119    49.0\n",
       "249120    71.0\n",
       "249121    61.0\n",
       "249122    28.0\n",
       "Name: Community Area, Length: 249123, dtype: float64"
      ]
     },
     "execution_count": 26,
     "metadata": {},
     "output_type": "execute_result"
    }
   ],
   "source": [
    "df['Community Area']"
   ]
  },
  {
   "cell_type": "code",
   "execution_count": 27,
   "id": "7e17aa87-fed6-469c-9859-706411407aa8",
   "metadata": {},
   "outputs": [
    {
     "data": {
      "text/plain": [
       "0          06\n",
       "1          26\n",
       "2          07\n",
       "3          15\n",
       "4          06\n",
       "         ... \n",
       "249118     26\n",
       "249119    04B\n",
       "249120    08B\n",
       "249121    04A\n",
       "249122     06\n",
       "Name: FBI Code, Length: 249123, dtype: object"
      ]
     },
     "execution_count": 27,
     "metadata": {},
     "output_type": "execute_result"
    }
   ],
   "source": [
    "df['FBI Code']"
   ]
  },
  {
   "cell_type": "code",
   "execution_count": 28,
   "id": "c361910f-9557-4c92-a3ba-7680d68608c3",
   "metadata": {},
   "outputs": [
    {
     "data": {
      "text/plain": [
       "0         1178707.0\n",
       "1         1161210.0\n",
       "2         1146960.0\n",
       "3         1150158.0\n",
       "4         1170856.0\n",
       "            ...    \n",
       "249118    1156478.0\n",
       "249119    1175694.0\n",
       "249120    1173850.0\n",
       "249121    1169838.0\n",
       "249122    1168216.0\n",
       "Name: X Coordinate, Length: 249123, dtype: float64"
      ]
     },
     "execution_count": 28,
     "metadata": {},
     "output_type": "execute_result"
    }
   ],
   "source": [
    "df['X Coordinate']"
   ]
  },
  {
   "cell_type": "code",
   "execution_count": 29,
   "id": "08910b6e-e7a2-4d61-9708-24719abd3f43",
   "metadata": {},
   "outputs": [
    {
     "data": {
      "text/plain": [
       "0         1878256.0\n",
       "1         1889347.0\n",
       "2         1909501.0\n",
       "3         1898721.0\n",
       "4         1830157.0\n",
       "            ...    \n",
       "249118    1917149.0\n",
       "249119    1842631.0\n",
       "249120    1848976.0\n",
       "249121    1871348.0\n",
       "249122    1902390.0\n",
       "Name: Y Coordinate, Length: 249123, dtype: float64"
      ]
     },
     "execution_count": 29,
     "metadata": {},
     "output_type": "execute_result"
    }
   ],
   "source": [
    "df['Y Coordinate']"
   ]
  },
  {
   "cell_type": "code",
   "execution_count": 30,
   "id": "721b156f-2fa4-4fa9-a5a1-360859d50335",
   "metadata": {},
   "outputs": [
    {
     "data": {
      "text/plain": [
       "0         2024\n",
       "1         2024\n",
       "2         2024\n",
       "3         2024\n",
       "4         2024\n",
       "          ... \n",
       "249118    2025\n",
       "249119    2025\n",
       "249120    2025\n",
       "249121    2025\n",
       "249122    2025\n",
       "Name: Year, Length: 249123, dtype: int64"
      ]
     },
     "execution_count": 30,
     "metadata": {},
     "output_type": "execute_result"
    }
   ],
   "source": [
    "df['Year']"
   ]
  },
  {
   "cell_type": "code",
   "execution_count": 31,
   "id": "204a3743-973b-4123-bfaa-7b88edbc5766",
   "metadata": {},
   "outputs": [
    {
     "data": {
      "text/plain": [
       "0         12/21/2024 03:40:46 PM\n",
       "1         12/21/2024 03:40:46 PM\n",
       "2         12/21/2024 03:40:46 PM\n",
       "3         12/21/2024 03:40:46 PM\n",
       "4         12/21/2024 03:40:46 PM\n",
       "                   ...          \n",
       "249118    04/19/2025 03:41:24 PM\n",
       "249119    04/19/2025 03:41:24 PM\n",
       "249120    04/19/2025 03:41:24 PM\n",
       "249121    04/19/2025 03:41:24 PM\n",
       "249122    04/19/2025 03:41:24 PM\n",
       "Name: Updated On, Length: 249123, dtype: object"
      ]
     },
     "execution_count": 31,
     "metadata": {},
     "output_type": "execute_result"
    }
   ],
   "source": [
    "df['Updated On']"
   ]
  },
  {
   "cell_type": "code",
   "execution_count": 32,
   "id": "6eddb477-cff6-4b87-92bf-bf4dcf7a2b68",
   "metadata": {},
   "outputs": [
    {
     "data": {
      "text/plain": [
       "0         41.821236\n",
       "1         41.852052\n",
       "2         41.907640\n",
       "3         41.877997\n",
       "4         41.689421\n",
       "            ...    \n",
       "249118    41.928440\n",
       "249119    41.723545\n",
       "249120    41.740998\n",
       "249121    41.802477\n",
       "249122    41.887694\n",
       "Name: Latitude, Length: 249123, dtype: float64"
      ]
     },
     "execution_count": 32,
     "metadata": {},
     "output_type": "execute_result"
    }
   ],
   "source": [
    "df['Latitude']"
   ]
  },
  {
   "cell_type": "code",
   "execution_count": 33,
   "id": "5f0dc16f-4bd5-4437-83f1-feb27f892568",
   "metadata": {},
   "outputs": [
    {
     "data": {
      "text/plain": [
       "0        -87.619921\n",
       "1        -87.683801\n",
       "2        -87.735587\n",
       "3        -87.724121\n",
       "4        -87.650123\n",
       "            ...    \n",
       "249118   -87.700416\n",
       "249119   -87.632040\n",
       "249120   -87.638606\n",
       "249121   -87.652657\n",
       "249122   -87.657710\n",
       "Name: Longitude, Length: 249123, dtype: float64"
      ]
     },
     "execution_count": 33,
     "metadata": {},
     "output_type": "execute_result"
    }
   ],
   "source": [
    "df['Longitude']"
   ]
  },
  {
   "cell_type": "code",
   "execution_count": 34,
   "id": "606292ac-417e-441c-a6b0-182ac5b947a3",
   "metadata": {},
   "outputs": [
    {
     "data": {
      "text/plain": [
       "0         (41.821236024, -87.619920712)\n",
       "1         (41.852051675, -87.683800849)\n",
       "2         (41.907640473, -87.735587478)\n",
       "3         (41.877997275, -87.724120826)\n",
       "4           (41.6894214, -87.650123247)\n",
       "                      ...              \n",
       "249118    (41.928439867, -87.700415972)\n",
       "249119    (41.723545182, -87.632039508)\n",
       "249120     (41.74099774, -87.638606337)\n",
       "249121    (41.802477219, -87.652657244)\n",
       "249122    (41.887694407, -87.657710204)\n",
       "Name: Location, Length: 249123, dtype: object"
      ]
     },
     "execution_count": 34,
     "metadata": {},
     "output_type": "execute_result"
    }
   ],
   "source": [
    "df['Location']"
   ]
  },
  {
   "cell_type": "markdown",
   "id": "4c962e0f-b8f4-4f31-b82d-2d37ffe8e7d0",
   "metadata": {},
   "source": [
    "<h2>6.) CHECK FOR NULL VALUES</h2>"
   ]
  },
  {
   "cell_type": "code",
   "execution_count": 35,
   "id": "d6e81f52-6631-4a27-bc5e-804c94ec3336",
   "metadata": {},
   "outputs": [
    {
     "data": {
      "text/plain": [
       "ID                        0\n",
       "Case Number               0\n",
       "Date                      0\n",
       "Block                     0\n",
       "IUCR                      0\n",
       "Primary Type              0\n",
       "Description               0\n",
       "Location Description    857\n",
       "Arrest                    0\n",
       "Domestic                  0\n",
       "Beat                      0\n",
       "District                  0\n",
       "Ward                      0\n",
       "Community Area            3\n",
       "FBI Code                  0\n",
       "X Coordinate             90\n",
       "Y Coordinate             90\n",
       "Year                      0\n",
       "Updated On                0\n",
       "Latitude                 90\n",
       "Longitude                90\n",
       "Location                 90\n",
       "dtype: int64"
      ]
     },
     "execution_count": 35,
     "metadata": {},
     "output_type": "execute_result"
    }
   ],
   "source": [
    "df.isnull().sum()"
   ]
  },
  {
   "cell_type": "code",
   "execution_count": 36,
   "id": "df680b92-a94e-4d3c-8d2c-9bd61813022d",
   "metadata": {},
   "outputs": [],
   "source": [
    "df['Location Description'] = df['Location Description'].fillna(df['Location Description'].mode()[0])\n",
    "df['Location'] = df['Location'].fillna(df['Location'].mode()[0])\n",
    "df['Community Area'] = df['Community Area'].fillna(df['Community Area'].mean())\n",
    "df['X Coordinate'] = df['X Coordinate'].fillna(df['X Coordinate'].mean())\n",
    "df['Y Coordinate'] = df['Y Coordinate'].fillna(df['Y Coordinate'].mean())\n",
    "df['Latitude'] = df['Latitude'].fillna(df['Latitude'].mean())\n",
    "df['Longitude'] = df['Longitude'].fillna(df['Longitude'].mean())\n"
   ]
  },
  {
   "cell_type": "code",
   "execution_count": 37,
   "id": "4ae1e8f5-2e2d-4d22-83fe-fb086013cf38",
   "metadata": {},
   "outputs": [
    {
     "data": {
      "text/plain": [
       "ID                      0\n",
       "Case Number             0\n",
       "Date                    0\n",
       "Block                   0\n",
       "IUCR                    0\n",
       "Primary Type            0\n",
       "Description             0\n",
       "Location Description    0\n",
       "Arrest                  0\n",
       "Domestic                0\n",
       "Beat                    0\n",
       "District                0\n",
       "Ward                    0\n",
       "Community Area          0\n",
       "FBI Code                0\n",
       "X Coordinate            0\n",
       "Y Coordinate            0\n",
       "Year                    0\n",
       "Updated On              0\n",
       "Latitude                0\n",
       "Longitude               0\n",
       "Location                0\n",
       "dtype: int64"
      ]
     },
     "execution_count": 37,
     "metadata": {},
     "output_type": "execute_result"
    }
   ],
   "source": [
    "df.isnull().sum()"
   ]
  },
  {
   "cell_type": "markdown",
   "id": "4c430624-48f6-4189-a85e-6b99cf298b75",
   "metadata": {},
   "source": [
    "<h2>8.) CHECK COLUMN DATA TYPES</h2>\n",
    "<hr>"
   ]
  },
  {
   "cell_type": "code",
   "execution_count": 38,
   "id": "226f7746-4d67-42cf-96f9-00755d7f1428",
   "metadata": {},
   "outputs": [
    {
     "name": "stdout",
     "output_type": "stream",
     "text": [
      "<class 'pandas.core.frame.DataFrame'>\n",
      "RangeIndex: 249123 entries, 0 to 249122\n",
      "Data columns (total 22 columns):\n",
      " #   Column                Non-Null Count   Dtype  \n",
      "---  ------                --------------   -----  \n",
      " 0   ID                    249123 non-null  int64  \n",
      " 1   Case Number           249123 non-null  object \n",
      " 2   Date                  249123 non-null  object \n",
      " 3   Block                 249123 non-null  object \n",
      " 4   IUCR                  249123 non-null  object \n",
      " 5   Primary Type          249123 non-null  object \n",
      " 6   Description           249123 non-null  object \n",
      " 7   Location Description  249123 non-null  object \n",
      " 8   Arrest                249123 non-null  bool   \n",
      " 9   Domestic              249123 non-null  bool   \n",
      " 10  Beat                  249123 non-null  int64  \n",
      " 11  District              249123 non-null  int64  \n",
      " 12  Ward                  249123 non-null  int64  \n",
      " 13  Community Area        249123 non-null  float64\n",
      " 14  FBI Code              249123 non-null  object \n",
      " 15  X Coordinate          249123 non-null  float64\n",
      " 16  Y Coordinate          249123 non-null  float64\n",
      " 17  Year                  249123 non-null  int64  \n",
      " 18  Updated On            249123 non-null  object \n",
      " 19  Latitude              249123 non-null  float64\n",
      " 20  Longitude             249123 non-null  float64\n",
      " 21  Location              249123 non-null  object \n",
      "dtypes: bool(2), float64(5), int64(5), object(10)\n",
      "memory usage: 38.5+ MB\n"
     ]
    }
   ],
   "source": [
    "df.info()"
   ]
  },
  {
   "cell_type": "code",
   "execution_count": 39,
   "id": "b7ba2980-5a95-4096-a019-9e6e3c5a2d2c",
   "metadata": {},
   "outputs": [
    {
     "data": {
      "text/plain": [
       "ID                        int64\n",
       "Case Number              object\n",
       "Date                     object\n",
       "Block                    object\n",
       "IUCR                     object\n",
       "Primary Type             object\n",
       "Description              object\n",
       "Location Description     object\n",
       "Arrest                     bool\n",
       "Domestic                   bool\n",
       "Beat                      int64\n",
       "District                  int64\n",
       "Ward                      int64\n",
       "Community Area          float64\n",
       "FBI Code                 object\n",
       "X Coordinate            float64\n",
       "Y Coordinate            float64\n",
       "Year                      int64\n",
       "Updated On               object\n",
       "Latitude                float64\n",
       "Longitude               float64\n",
       "Location                 object\n",
       "dtype: object"
      ]
     },
     "execution_count": 39,
     "metadata": {},
     "output_type": "execute_result"
    }
   ],
   "source": [
    "df.dtypes"
   ]
  },
  {
   "cell_type": "code",
   "execution_count": 40,
   "id": "52c93d93-a56a-437d-b744-3a5b5f2bae0a",
   "metadata": {},
   "outputs": [],
   "source": [
    "df['Case Number'] = df ['Case Number'].astype('category')\n",
    "df['Date'] = df ['Date'].astype('category')\n",
    "df['Block'] = df ['Block'].astype('category')\n",
    "df['IUCR'] = df ['IUCR'].astype('category')\n",
    "df['Primary Type'] = df ['Primary Type'].astype('category')\n",
    "df['Description'] = df ['Description'].astype('category')\n",
    "df['Location Description'] = df ['Location Description'].astype('category')\n",
    "df['FBI Code'] = df ['FBI Code'].astype('category')\n",
    "df['Updated On'] = df ['Updated On'].astype('category')\n",
    "df['Location'] = df ['Location'].astype('category')"
   ]
  },
  {
   "cell_type": "code",
   "execution_count": 41,
   "id": "59466b87-e9c1-459e-a3dd-4e39624730e6",
   "metadata": {},
   "outputs": [
    {
     "data": {
      "text/plain": [
       "ID                         int64\n",
       "Case Number             category\n",
       "Date                    category\n",
       "Block                   category\n",
       "IUCR                    category\n",
       "Primary Type            category\n",
       "Description             category\n",
       "Location Description    category\n",
       "Arrest                      bool\n",
       "Domestic                    bool\n",
       "Beat                       int64\n",
       "District                   int64\n",
       "Ward                       int64\n",
       "Community Area           float64\n",
       "FBI Code                category\n",
       "X Coordinate             float64\n",
       "Y Coordinate             float64\n",
       "Year                       int64\n",
       "Updated On              category\n",
       "Latitude                 float64\n",
       "Longitude                float64\n",
       "Location                category\n",
       "dtype: object"
      ]
     },
     "execution_count": 41,
     "metadata": {},
     "output_type": "execute_result"
    }
   ],
   "source": [
    "df.dtypes"
   ]
  },
  {
   "cell_type": "code",
   "execution_count": null,
   "id": "f8b658c6-b192-42f1-8e34-f81aeaa3c62a",
   "metadata": {},
   "outputs": [],
   "source": []
  },
  {
   "cell_type": "markdown",
   "id": "89a00a61-2bb3-4111-a043-f1695ef8e1f3",
   "metadata": {},
   "source": [
    "<h2>CLEARING ANY INCONSISTENCIES WITH THE DATA SET</h2>\n",
    "<hr>"
   ]
  },
  {
   "cell_type": "code",
   "execution_count": 42,
   "id": "1439f6ce-420c-4f0d-a4f1-97b0814c4aae",
   "metadata": {},
   "outputs": [],
   "source": [
    "df['Date'] = df['Date'].str.strip() #to remove any extra white space\n",
    "df['Date'] = df['Date'].astype('str') #to convert into a string\n",
    "df['Date'] = df['Date'].str.replace('/', '-')"
   ]
  },
  {
   "cell_type": "code",
   "execution_count": 43,
   "id": "998ab4fd-3966-4c8f-a177-cedc82ed6c3e",
   "metadata": {},
   "outputs": [],
   "source": [
    "df['Date'] = pd.to_datetime(df['Date'], dayfirst = True, errors = 'coerce')"
   ]
  },
  {
   "cell_type": "code",
   "execution_count": 44,
   "id": "64d34030-193c-49b7-9360-ce16402affb0",
   "metadata": {},
   "outputs": [
    {
     "data": {
      "text/plain": [
       "ID                               int64\n",
       "Case Number                   category\n",
       "Date                    datetime64[ns]\n",
       "Block                         category\n",
       "IUCR                          category\n",
       "Primary Type                  category\n",
       "Description                   category\n",
       "Location Description          category\n",
       "Arrest                            bool\n",
       "Domestic                          bool\n",
       "Beat                             int64\n",
       "District                         int64\n",
       "Ward                             int64\n",
       "Community Area                 float64\n",
       "FBI Code                      category\n",
       "X Coordinate                   float64\n",
       "Y Coordinate                   float64\n",
       "Year                             int64\n",
       "Updated On                    category\n",
       "Latitude                       float64\n",
       "Longitude                      float64\n",
       "Location                      category\n",
       "dtype: object"
      ]
     },
     "execution_count": 44,
     "metadata": {},
     "output_type": "execute_result"
    }
   ],
   "source": [
    "df.dtypes"
   ]
  },
  {
   "cell_type": "markdown",
   "id": "e54a6fcb-fd66-451e-9964-cb662bd9f404",
   "metadata": {},
   "source": [
    "<h2>EXTRACTING DATE INFORMATION USING PANDAS DATE TIME</h2>\n",
    "<hr>"
   ]
  },
  {
   "cell_type": "code",
   "execution_count": 45,
   "id": "f27cf5e0-8931-4307-9229-8da0ae635465",
   "metadata": {},
   "outputs": [],
   "source": [
    "df['Year'] = df['Date'].dt.year\n",
    "df['Month'] = df['Date'].dt.month\n",
    "df['Day'] = df['Date'].dt.day\n",
    "df['DayOfWeek'] = df['Date'].dt.dayofweek #Monday=0, Sunday=6"
   ]
  },
  {
   "cell_type": "code",
   "execution_count": 46,
   "id": "4433cecf-74ce-430f-8408-c41d1e5147cd",
   "metadata": {
    "scrolled": true
   },
   "outputs": [
    {
     "data": {
      "text/plain": [
       "ID                      0\n",
       "Case Number             0\n",
       "Date                    0\n",
       "Block                   0\n",
       "IUCR                    0\n",
       "Primary Type            0\n",
       "Description             0\n",
       "Location Description    0\n",
       "Arrest                  0\n",
       "Domestic                0\n",
       "Beat                    0\n",
       "District                0\n",
       "Ward                    0\n",
       "Community Area          0\n",
       "FBI Code                0\n",
       "X Coordinate            0\n",
       "Y Coordinate            0\n",
       "Year                    0\n",
       "Updated On              0\n",
       "Latitude                0\n",
       "Longitude               0\n",
       "Location                0\n",
       "Month                   0\n",
       "Day                     0\n",
       "DayOfWeek               0\n",
       "dtype: int64"
      ]
     },
     "execution_count": 46,
     "metadata": {},
     "output_type": "execute_result"
    }
   ],
   "source": [
    "df.isnull().sum()"
   ]
  },
  {
   "cell_type": "code",
   "execution_count": null,
   "id": "239f24c5-bde0-4aef-9b55-c4c10a01201d",
   "metadata": {},
   "outputs": [],
   "source": []
  },
  {
   "cell_type": "code",
   "execution_count": 78,
   "id": "7c84434b-5f58-4010-bd6a-2f688ef7f168",
   "metadata": {},
   "outputs": [
    {
     "data": {
      "text/plain": [
       "<bound method Series.unique of 0         False\n",
       "2         False\n",
       "3          True\n",
       "4         False\n",
       "5         False\n",
       "          ...  \n",
       "249118    False\n",
       "249119    False\n",
       "249120    False\n",
       "249121     True\n",
       "249122    False\n",
       "Name: Arrest, Length: 246582, dtype: bool>"
      ]
     },
     "execution_count": 78,
     "metadata": {},
     "output_type": "execute_result"
    }
   ],
   "source": [
    "df['Arrest'].unique"
   ]
  },
  {
   "cell_type": "code",
   "execution_count": 81,
   "id": "f3e6b348-6ec1-4c15-aef0-ff55930ab61f",
   "metadata": {},
   "outputs": [
    {
     "data": {
      "image/png": "[encoded data removed]",
      "text/plain": [
       "<Figure size 640x480 with 1 Axes>"
      ]
     },
     "metadata": {},
     "output_type": "display_data"
    }
   ],
   "source": [
    "df = df[df['Arrest'] != '']\n",
    "df['Arrest'].value_counts().plot(kind='bar')\n",
    "plt.xticks(rotation = 90)\n",
    "plt.legend(title=\"Year\", bbox_to_anchor=(1.05,1), loc='upper left')\n",
    "plt.show()"
   ]
  },
  {
   "cell_type": "code",
   "execution_count": 80,
   "id": "18a78455-338a-442d-a801-ee0fea548b83",
   "metadata": {},
   "outputs": [
    {
     "data": {
      "image/png": "[encoded data removed]",
      "text/plain": [
       "<Figure size 1200x600 with 1 Axes>"
      ]
     },
     "metadata": {},
     "output_type": "display_data"
    }
   ],
   "source": [
    "# Ensure datetime format\n",
    "df['Date'] = pd.to_datetime(df['Date'])\n",
    "df['Year'] = df['Date'].dt.year\n",
    "df['Month'] = df['Date'].dt.month\n",
    "\n",
    "# 1. Group by Year + Month\n",
    "monthly_data = df.groupby(['Year', 'Month']).size()\n",
    "\n",
    "# 2. Unstack for clean plotting\n",
    "monthly_data = monthly_data.unstack(level=0)\n",
    "\n",
    "# 3. Plot with clean formatting\n",
    "monthly_data.plot(\n",
    "    marker='o', figsize=(12,6),\n",
    "    title=\"Monthly Crimes in Chicago by Year (2024–2025)\"\n",
    ")\n",
    "\n",
    "plt.xticks(range(1,13), ['Jan','Feb','Mar','Apr','May','Jun','Jul','Aug','Sep','Oct','Nov','Dec'])\n",
    "plt.xlabel(\"Month\")\n",
    "plt.ylabel(\"Number of Crimes\")\n",
    "plt.legend(title=\"Year\", bbox_to_anchor=(1.05,1), loc='upper left')\n",
    "plt.grid(alpha=0.3)\n",
    "plt.show()"
   ]
  },
  {
   "cell_type": "code",
   "execution_count": 83,
   "id": "a9ef3f06-565e-4f9c-b0df-fd4e2a93e725",
   "metadata": {},
   "outputs": [
    {
     "data": {
      "image/png": "[encoded data removed]",
      "text/plain": [
       "<Figure size 1000x600 with 1 Axes>"
      ]
     },
     "metadata": {},
     "output_type": "display_data"
    }
   ],
   "source": [
    "locations = df.groupby('Location Description').size().sort_values(ascending=False).head(10)\n",
    "locations.plot(kind='barh', figsize=(10,6))\n",
    "plt.title(\"Top 10 Locations of Crimes\")\n",
    "plt.xlabel(\"Number of Crimes\")\n",
    "plt.ylabel(\"Location\")\n",
    "plt.show()"
   ]
  },
  {
   "cell_type": "code",
   "execution_count": null,
   "id": "5b7aa6d3-181f-46cc-bffe-3337d03a9aec",
   "metadata": {},
   "outputs": [],
   "source": []
  },
  {
   "cell_type": "code",
   "execution_count": null,
   "id": "196296d7-b6b2-42ce-8531-0a096177cf86",
   "metadata": {},
   "outputs": [],
   "source": []
  },
  {
   "cell_type": "code",
   "execution_count": null,
   "id": "226c48f2-632a-4854-8c74-97060e28d5e0",
   "metadata": {},
   "outputs": [],
   "source": []
  },
  {
   "cell_type": "code",
   "execution_count": null,
   "id": "e43e35c6-0437-447a-8a87-f2ff876d76d0",
   "metadata": {},
   "outputs": [],
   "source": []
  },
  {
   "cell_type": "code",
   "execution_count": null,
   "id": "b3493750-036b-4e0a-aeea-94a1a41c3501",
   "metadata": {},
   "outputs": [],
   "source": []
  },
  {
   "cell_type": "code",
   "execution_count": null,
   "id": "8f9320fe-8673-473f-9e69-3584a4ad62a6",
   "metadata": {},
   "outputs": [],
   "source": []
  },
  {
   "cell_type": "code",
   "execution_count": null,
   "id": "b7241223-355e-4cd8-8113-f1788b5f9009",
   "metadata": {},
   "outputs": [],
   "source": []
  },
  {
   "cell_type": "code",
   "execution_count": null,
   "id": "36c660bd-9811-4390-bc9e-ea2d105c772e",
   "metadata": {},
   "outputs": [],
   "source": []
  },
  {
   "cell_type": "code",
   "execution_count": null,
   "id": "dfd4731c-f9ee-473e-9b11-a961bfde7d81",
   "metadata": {},
   "outputs": [],
   "source": []
  },
  {
   "cell_type": "code",
   "execution_count": null,
   "id": "23062c20-b3c1-4aba-a651-34f1e754635b",
   "metadata": {},
   "outputs": [],
   "source": []
  },
  {
   "cell_type": "code",
   "execution_count": null,
   "id": "ed65fdc9-64f4-4b90-9203-5cbf05ab9e08",
   "metadata": {},
   "outputs": [],
   "source": []
  },
  {
   "cell_type": "code",
   "execution_count": null,
   "id": "82a462c7-3312-4766-a7b0-0fa3470cc68a",
   "metadata": {},
   "outputs": [],
   "source": []
  },
  {
   "cell_type": "code",
   "execution_count": null,
   "id": "3a5b6c2f-7eef-4fe9-a6aa-18a9287def7d",
   "metadata": {},
   "outputs": [],
   "source": []
  },
  {
   "cell_type": "code",
   "execution_count": null,
   "id": "8576a6cf-8596-43c6-8338-20185a6c74b2",
   "metadata": {},
   "outputs": [],
   "source": []
  },
  {
   "cell_type": "code",
   "execution_count": null,
   "id": "50c7a51c-35f6-4414-9941-e38c87b6dbc6",
   "metadata": {},
   "outputs": [],
   "source": []
  },
  {
   "cell_type": "code",
   "execution_count": null,
   "id": "6b7d0604-6f06-484c-bcea-4705ec1a129b",
   "metadata": {},
   "outputs": [],
   "source": []
  }
 ],
 "metadata": {
  "kernelspec": {
   "display_name": "Python 3 (ipykernel)",
   "language": "python",
   "name": "python3"
  },
  "language_info": {
   "codemirror_mode": {
    "name": "ipython",
    "version": 3
   },
   "file_extension": ".py",
   "mimetype": "text/x-python",
   "name": "python",
   "nbconvert_exporter": "python",
   "pygments_lexer": "ipython3",
   "version": "3.13.1"
  }
 },
 "nbformat": 4,
 "nbformat_minor": 5
}
